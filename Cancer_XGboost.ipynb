{
 "cells": [
  {
   "cell_type": "markdown",
   "id": "fa2e4f9b",
   "metadata": {},
   "source": [
    "# Cancer outcome predictions ( 1 year survival) Classification\n",
    " Data from github reposite\n",
    " https://raw.githubusercontent.com/dphi-official/Datasets/master/pharma_data/Training_set_advc.csv\n",
    " \n",
    " ## About Data\n",
    "\n",
    "    ID_Patient_Care_Situation: Care situation of a patient during treatment\n",
    "    Diagnosed_Condition: The diagnosed condition of the patient\n",
    "    ID_Patient: Patient identifier number\n",
    "    Treatment_with_drugs: Class of drugs used during treatment\n",
    "    Survived_1_year: If the patient survived after one year (0 means did not survive; 1 means survived)\n",
    "    Patient_Age: Age of the patient\n",
    "    Patient_Body_Mass_Index: A calculated value based on the patient’s weight, height, etc.\n",
    "    Patient_Smoker: If the patient was a smoker or not\n",
    "    Patient_Rural_Urban: If the patient stayed in Rural or Urban part of the country\n",
    "\n",
    "Previous_Condition: Condition of the patient before the start of the treatment ( This variable is splitted into 8 columns - A, B, C, D, E, F, Z and Number_of_prev_cond. A, B, C, D, E, F and Z are the previous conditions of the patient. Suppose for one patient, if the entry in column A is 1, it means that the previous condition of the patient was A. If the patient didn't have that condition, it is 0 and same for other conditions. If a patient has previous condition as A and C , columns A and C will have entries as 1 and 1 respectively while the other column B, D, E, F, Z will have entries 0, 0, 0, 0, 0 respectively. The column Number_of_prev_cond will have entry as 2 i.e. 1 + 0 + 1 + 0 + 0 + 0 + 0 + 0 = 2 in this case. ) "
   ]
  },
  {
   "cell_type": "code",
   "execution_count": 57,
   "id": "b08b51bc",
   "metadata": {},
   "outputs": [],
   "source": [
    "# import all libs\n",
    "import pandas as pd\n",
    "import numpy as np\n",
    "import math\n",
    "import matplotlib.pyplot as plt\n",
    "import seaborn as sns\n",
    "from dython.nominal import associations\n",
    "from dython.data_utils import split_hist\n",
    "import warnings\n",
    "warnings.filterwarnings('ignore')\n",
    "\n",
    "from sklearn.model_selection import train_test_split\n",
    "from sklearn import preprocessing\n",
    "from sklearn.linear_model import LogisticRegression\n",
    "\n",
    "from sklearn.metrics import confusion_matrix, classification_report,ConfusionMatrixDisplay\n",
    "\n",
    "from sklearn.linear_model import LogisticRegression\n",
    "from sklearn.ensemble import RandomForestClassifier\n",
    "import xgboost as xgb\n",
    "from sklearn.metrics import f1_score\n",
    "from sklearn.metrics import classification_report\n",
    "from sklearn.model_selection import GridSearchCV\n",
    "\n",
    "from sklearn import preprocessing, metrics\n",
    "from sklearn.preprocessing import LabelEncoder    \n",
    "\n",
    "\n",
    "from imblearn.over_sampling import SMOTE\n",
    "\n",
    "from collections import Counter\n"
   ]
  },
  {
   "cell_type": "markdown",
   "id": "5456972d",
   "metadata": {},
   "source": [
    "## Now first we only focused on the training data"
   ]
  },
  {
   "cell_type": "code",
   "execution_count": 9,
   "id": "2259a685",
   "metadata": {},
   "outputs": [
    {
     "name": "stdout",
     "output_type": "stream",
     "text": [
      "                           Diagnosed_Condition  Patient_ID Treated_with_drugs  \\\n",
      "ID_Patient_Care_Situation                                                       \n",
      "16201                                       47        8433                DX2   \n",
      "9421                                         3        2972                DX6   \n",
      "16205                                        7        8608                Dx6   \n",
      "5582                                        31       10074               dx6    \n",
      "20880                                       43        7462                dx1   \n",
      "\n",
      "                           Patient_Age  Patient_Body_Mass_Index  \\\n",
      "ID_Patient_Care_Situation                                         \n",
      "16201                               60                21.655523   \n",
      "9421                                 2                28.852743   \n",
      "16205                               20                26.179725   \n",
      "5582                                 8                22.638945   \n",
      "20880                               53                21.326131   \n",
      "\n",
      "                          Patient_Smoker Patient_Rural_Urban  \\\n",
      "ID_Patient_Care_Situation                                      \n",
      "16201                                 NO               URBAN   \n",
      "9421                                  NO               RURAL   \n",
      "16205                                 NO               RURAL   \n",
      "5582                                  NO               RURAL   \n",
      "20880                                 NO               RURAL   \n",
      "\n",
      "                          Patient_mental_condition    A    B    C    D    E  \\\n",
      "ID_Patient_Care_Situation                                                     \n",
      "16201                                       Stable  1.0  0.0  0.0  0.0  1.0   \n",
      "9421                                        Stable  1.0  0.0  1.0  0.0  1.0   \n",
      "16205                                       Stable  1.0  0.0  0.0  0.0  1.0   \n",
      "5582                                        Stable  1.0  0.0  0.0  0.0  1.0   \n",
      "20880                                       Stable  1.0  0.0  0.0  0.0  0.0   \n",
      "\n",
      "                             F    Z  Number_of_prev_cond  Survived_1_year  \n",
      "ID_Patient_Care_Situation                                                  \n",
      "16201                      0.0  0.0                  2.0                1  \n",
      "9421                       0.0  0.0                  3.0                0  \n",
      "16205                      0.0  0.0                  2.0                1  \n",
      "5582                       0.0  0.0                  2.0                0  \n",
      "20880                      0.0  0.0                  1.0                1  \n"
     ]
    }
   ],
   "source": [
    "# import the csv training data\n",
    "cancer = pd.read_csv('https://raw.githubusercontent.com/dphi-official/Datasets/master/pharma_data/Training_set_advc.csv', index_col = 0)\n",
    "print(cancer.head())"
   ]
  },
  {
   "cell_type": "code",
   "execution_count": 10,
   "id": "83e0267b",
   "metadata": {},
   "outputs": [
    {
     "name": "stdout",
     "output_type": "stream",
     "text": [
      "<class 'pandas.core.frame.DataFrame'>\n",
      "Int64Index: 25079 entries, 16201 to 16072\n",
      "Data columns (total 17 columns):\n",
      " #   Column                    Non-Null Count  Dtype  \n",
      "---  ------                    --------------  -----  \n",
      " 0   Diagnosed_Condition       25079 non-null  int64  \n",
      " 1   Patient_ID                25079 non-null  int64  \n",
      " 2   Treated_with_drugs        25071 non-null  object \n",
      " 3   Patient_Age               25079 non-null  int64  \n",
      " 4   Patient_Body_Mass_Index   25079 non-null  float64\n",
      " 5   Patient_Smoker            25079 non-null  object \n",
      " 6   Patient_Rural_Urban       25079 non-null  object \n",
      " 7   Patient_mental_condition  25079 non-null  object \n",
      " 8   A                         23723 non-null  float64\n",
      " 9   B                         23723 non-null  float64\n",
      " 10  C                         23723 non-null  float64\n",
      " 11  D                         23723 non-null  float64\n",
      " 12  E                         23723 non-null  float64\n",
      " 13  F                         23723 non-null  float64\n",
      " 14  Z                         23723 non-null  float64\n",
      " 15  Number_of_prev_cond       23723 non-null  float64\n",
      " 16  Survived_1_year           25079 non-null  int64  \n",
      "dtypes: float64(9), int64(4), object(4)\n",
      "memory usage: 3.4+ MB\n"
     ]
    }
   ],
   "source": [
    "cancer.info()"
   ]
  },
  {
   "cell_type": "code",
   "execution_count": 11,
   "id": "03a26e27",
   "metadata": {},
   "outputs": [
    {
     "data": {
      "text/html": [
       "<div>\n",
       "<style scoped>\n",
       "    .dataframe tbody tr th:only-of-type {\n",
       "        vertical-align: middle;\n",
       "    }\n",
       "\n",
       "    .dataframe tbody tr th {\n",
       "        vertical-align: top;\n",
       "    }\n",
       "\n",
       "    .dataframe thead th {\n",
       "        text-align: right;\n",
       "    }\n",
       "</style>\n",
       "<table border=\"1\" class=\"dataframe\">\n",
       "  <thead>\n",
       "    <tr style=\"text-align: right;\">\n",
       "      <th></th>\n",
       "      <th>Diagnosed_Condition</th>\n",
       "      <th>Patient_ID</th>\n",
       "      <th>Patient_Age</th>\n",
       "      <th>Patient_Body_Mass_Index</th>\n",
       "      <th>A</th>\n",
       "      <th>B</th>\n",
       "      <th>C</th>\n",
       "      <th>D</th>\n",
       "      <th>E</th>\n",
       "      <th>F</th>\n",
       "      <th>Z</th>\n",
       "      <th>Number_of_prev_cond</th>\n",
       "      <th>Survived_1_year</th>\n",
       "    </tr>\n",
       "  </thead>\n",
       "  <tbody>\n",
       "    <tr>\n",
       "      <th>count</th>\n",
       "      <td>25079.000000</td>\n",
       "      <td>25079.000000</td>\n",
       "      <td>25079.000000</td>\n",
       "      <td>25079.000000</td>\n",
       "      <td>23723.000000</td>\n",
       "      <td>23723.000000</td>\n",
       "      <td>23723.000000</td>\n",
       "      <td>23723.000000</td>\n",
       "      <td>23723.000000</td>\n",
       "      <td>23723.000000</td>\n",
       "      <td>23723.000000</td>\n",
       "      <td>23723.000000</td>\n",
       "      <td>25079.000000</td>\n",
       "    </tr>\n",
       "    <tr>\n",
       "      <th>mean</th>\n",
       "      <td>26.382631</td>\n",
       "      <td>6237.758523</td>\n",
       "      <td>33.193548</td>\n",
       "      <td>23.439952</td>\n",
       "      <td>0.894111</td>\n",
       "      <td>0.136028</td>\n",
       "      <td>0.183409</td>\n",
       "      <td>0.083716</td>\n",
       "      <td>0.396240</td>\n",
       "      <td>0.054420</td>\n",
       "      <td>0.000337</td>\n",
       "      <td>1.748261</td>\n",
       "      <td>0.634316</td>\n",
       "    </tr>\n",
       "    <tr>\n",
       "      <th>std</th>\n",
       "      <td>15.096967</td>\n",
       "      <td>3603.338849</td>\n",
       "      <td>19.507617</td>\n",
       "      <td>3.778849</td>\n",
       "      <td>0.307702</td>\n",
       "      <td>0.342826</td>\n",
       "      <td>0.387009</td>\n",
       "      <td>0.276968</td>\n",
       "      <td>0.489126</td>\n",
       "      <td>0.226849</td>\n",
       "      <td>0.018361</td>\n",
       "      <td>0.770324</td>\n",
       "      <td>0.481631</td>\n",
       "    </tr>\n",
       "    <tr>\n",
       "      <th>min</th>\n",
       "      <td>0.000000</td>\n",
       "      <td>1.000000</td>\n",
       "      <td>0.000000</td>\n",
       "      <td>1.089300</td>\n",
       "      <td>0.000000</td>\n",
       "      <td>0.000000</td>\n",
       "      <td>0.000000</td>\n",
       "      <td>0.000000</td>\n",
       "      <td>0.000000</td>\n",
       "      <td>0.000000</td>\n",
       "      <td>0.000000</td>\n",
       "      <td>1.000000</td>\n",
       "      <td>0.000000</td>\n",
       "    </tr>\n",
       "    <tr>\n",
       "      <th>25%</th>\n",
       "      <td>13.000000</td>\n",
       "      <td>3125.000000</td>\n",
       "      <td>16.000000</td>\n",
       "      <td>20.205050</td>\n",
       "      <td>1.000000</td>\n",
       "      <td>0.000000</td>\n",
       "      <td>0.000000</td>\n",
       "      <td>0.000000</td>\n",
       "      <td>0.000000</td>\n",
       "      <td>0.000000</td>\n",
       "      <td>0.000000</td>\n",
       "      <td>1.000000</td>\n",
       "      <td>0.000000</td>\n",
       "    </tr>\n",
       "    <tr>\n",
       "      <th>50%</th>\n",
       "      <td>26.000000</td>\n",
       "      <td>6228.000000</td>\n",
       "      <td>33.000000</td>\n",
       "      <td>23.369168</td>\n",
       "      <td>1.000000</td>\n",
       "      <td>0.000000</td>\n",
       "      <td>0.000000</td>\n",
       "      <td>0.000000</td>\n",
       "      <td>0.000000</td>\n",
       "      <td>0.000000</td>\n",
       "      <td>0.000000</td>\n",
       "      <td>2.000000</td>\n",
       "      <td>1.000000</td>\n",
       "    </tr>\n",
       "    <tr>\n",
       "      <th>75%</th>\n",
       "      <td>40.000000</td>\n",
       "      <td>9356.500000</td>\n",
       "      <td>50.000000</td>\n",
       "      <td>26.730785</td>\n",
       "      <td>1.000000</td>\n",
       "      <td>0.000000</td>\n",
       "      <td>0.000000</td>\n",
       "      <td>0.000000</td>\n",
       "      <td>1.000000</td>\n",
       "      <td>0.000000</td>\n",
       "      <td>0.000000</td>\n",
       "      <td>2.000000</td>\n",
       "      <td>1.000000</td>\n",
       "    </tr>\n",
       "    <tr>\n",
       "      <th>max</th>\n",
       "      <td>52.000000</td>\n",
       "      <td>12514.000000</td>\n",
       "      <td>142.000000</td>\n",
       "      <td>29.999579</td>\n",
       "      <td>1.000000</td>\n",
       "      <td>1.000000</td>\n",
       "      <td>1.000000</td>\n",
       "      <td>1.000000</td>\n",
       "      <td>1.000000</td>\n",
       "      <td>1.000000</td>\n",
       "      <td>1.000000</td>\n",
       "      <td>5.000000</td>\n",
       "      <td>1.000000</td>\n",
       "    </tr>\n",
       "  </tbody>\n",
       "</table>\n",
       "</div>"
      ],
      "text/plain": [
       "       Diagnosed_Condition    Patient_ID   Patient_Age  \\\n",
       "count         25079.000000  25079.000000  25079.000000   \n",
       "mean             26.382631   6237.758523     33.193548   \n",
       "std              15.096967   3603.338849     19.507617   \n",
       "min               0.000000      1.000000      0.000000   \n",
       "25%              13.000000   3125.000000     16.000000   \n",
       "50%              26.000000   6228.000000     33.000000   \n",
       "75%              40.000000   9356.500000     50.000000   \n",
       "max              52.000000  12514.000000    142.000000   \n",
       "\n",
       "       Patient_Body_Mass_Index             A             B             C  \\\n",
       "count             25079.000000  23723.000000  23723.000000  23723.000000   \n",
       "mean                 23.439952      0.894111      0.136028      0.183409   \n",
       "std                   3.778849      0.307702      0.342826      0.387009   \n",
       "min                   1.089300      0.000000      0.000000      0.000000   \n",
       "25%                  20.205050      1.000000      0.000000      0.000000   \n",
       "50%                  23.369168      1.000000      0.000000      0.000000   \n",
       "75%                  26.730785      1.000000      0.000000      0.000000   \n",
       "max                  29.999579      1.000000      1.000000      1.000000   \n",
       "\n",
       "                  D             E             F             Z  \\\n",
       "count  23723.000000  23723.000000  23723.000000  23723.000000   \n",
       "mean       0.083716      0.396240      0.054420      0.000337   \n",
       "std        0.276968      0.489126      0.226849      0.018361   \n",
       "min        0.000000      0.000000      0.000000      0.000000   \n",
       "25%        0.000000      0.000000      0.000000      0.000000   \n",
       "50%        0.000000      0.000000      0.000000      0.000000   \n",
       "75%        0.000000      1.000000      0.000000      0.000000   \n",
       "max        1.000000      1.000000      1.000000      1.000000   \n",
       "\n",
       "       Number_of_prev_cond  Survived_1_year  \n",
       "count         23723.000000     25079.000000  \n",
       "mean              1.748261         0.634316  \n",
       "std               0.770324         0.481631  \n",
       "min               1.000000         0.000000  \n",
       "25%               1.000000         0.000000  \n",
       "50%               2.000000         1.000000  \n",
       "75%               2.000000         1.000000  \n",
       "max               5.000000         1.000000  "
      ]
     },
     "execution_count": 11,
     "metadata": {},
     "output_type": "execute_result"
    }
   ],
   "source": [
    "cancer.describe()"
   ]
  },
  {
   "cell_type": "markdown",
   "id": "95d2b260",
   "metadata": {},
   "source": [
    "## Cleaning data"
   ]
  },
  {
   "cell_type": "code",
   "execution_count": 12,
   "id": "7f94cbbc",
   "metadata": {},
   "outputs": [
    {
     "name": "stdout",
     "output_type": "stream",
     "text": [
      "Patients 10599\n",
      "Conditions 53\n"
     ]
    }
   ],
   "source": [
    "# check how many diagnosed conditions and patients are there\n",
    "print ('Patients', len(np.unique(cancer['Patient_ID'])))\n",
    "print('Conditions', len(np.unique(cancer['Diagnosed_Condition'])))"
   ]
  },
  {
   "cell_type": "code",
   "execution_count": 13,
   "id": "c25d529a",
   "metadata": {},
   "outputs": [
    {
     "data": {
      "text/plain": [
       "Diagnosed_Condition            0\n",
       "Patient_ID                     0\n",
       "Treated_with_drugs             8\n",
       "Patient_Age                    0\n",
       "Patient_Body_Mass_Index        0\n",
       "Patient_Smoker                 0\n",
       "Patient_Rural_Urban            0\n",
       "Patient_mental_condition       0\n",
       "A                           1356\n",
       "B                           1356\n",
       "C                           1356\n",
       "D                           1356\n",
       "E                           1356\n",
       "F                           1356\n",
       "Z                           1356\n",
       "Number_of_prev_cond         1356\n",
       "Survived_1_year                0\n",
       "dtype: int64"
      ]
     },
     "execution_count": 13,
     "metadata": {},
     "output_type": "execute_result"
    }
   ],
   "source": [
    "# Check NA values in each column\n",
    "cancer.isnull().sum()"
   ]
  },
  {
   "cell_type": "code",
   "execution_count": 14,
   "id": "d3dd4ba8",
   "metadata": {},
   "outputs": [],
   "source": [
    "# see how observations stay if drop NA\n",
    "# cancer = cancer.dropna()\n",
    "# cancer.info()"
   ]
  },
  {
   "cell_type": "code",
   "execution_count": 15,
   "id": "13729287",
   "metadata": {},
   "outputs": [],
   "source": [
    "# # check # of diagnosed conditions and patients again after dropna\n",
    "# print ('Patients', len(np.unique(cancer['Patient_ID'])))\n",
    "# print('Conditions', len(np.unique(cancer['Diagnosed_Condition'])))"
   ]
  },
  {
   "cell_type": "markdown",
   "id": "e8623ebe",
   "metadata": {},
   "source": [
    "Compared to the original, Patients 10599, Conditions 53. Patient number decreased, not good!"
   ]
  },
  {
   "cell_type": "code",
   "execution_count": 16,
   "id": "00813a5e",
   "metadata": {},
   "outputs": [
    {
     "data": {
      "text/plain": [
       "0"
      ]
     },
     "execution_count": 16,
     "metadata": {},
     "output_type": "execute_result"
    }
   ],
   "source": [
    "# check if the missing values should all be 0\n",
    "cancer[cancer['Number_of_prev_cond']==0]['Number_of_prev_cond'].count()"
   ]
  },
  {
   "cell_type": "markdown",
   "id": "efd3e35c",
   "metadata": {},
   "source": [
    "The missing values are the patients that do not have previous conditions, so can not just remove them!"
   ]
  },
  {
   "cell_type": "code",
   "execution_count": 17,
   "id": "0efe3b9c",
   "metadata": {},
   "outputs": [],
   "source": [
    "# check how many different types are there in treatment:\n",
    "# len(set(cancer['Treated_with_drugs']))"
   ]
  },
  {
   "cell_type": "code",
   "execution_count": 18,
   "id": "f14d0a5c",
   "metadata": {},
   "outputs": [],
   "source": [
    "# use all upper cases and remove spaces\n",
    "cancer['Treated_with_drugs'] = cancer['Treated_with_drugs'].str.upper()\n",
    "# cancer['Treated_with_drugs'] = cancer['Treated_with_drugs'].str.replace(' ', '')\n",
    "# print(len(set(cancer['Treated_with_drugs'])))\n",
    "# print(set(cancer['Treated_with_drugs']))"
   ]
  },
  {
   "cell_type": "code",
   "execution_count": 19,
   "id": "73b17e40",
   "metadata": {},
   "outputs": [],
   "source": [
    "# seperate the treatments into 6 categories\n",
    "\n",
    "def DX1(treatments):\n",
    "    if 'DX1' in str(treatments):\n",
    "        return 1\n",
    "    else: return 0 \n",
    "sub2 = 'DX2'\n",
    "def DX2(treatments):\n",
    "    if 'DX2' in str(treatments):\n",
    "        return 1\n",
    "    else: return 0 \n",
    "def DX3(treatments):\n",
    "    if 'DX3' in str(treatments):\n",
    "        return 1\n",
    "    else: return 0 \n",
    "def DX4(treatments):\n",
    "    if 'DX4' in str(treatments):\n",
    "        return 1\n",
    "    else: return 0 \n",
    "def DX5(treatments):\n",
    "    if 'DX5' in str(treatments):\n",
    "        return 1\n",
    "    else: return 0 \n",
    "def DX6(treatments):\n",
    "    if 'DX6' in str(treatments):\n",
    "        return 1\n",
    "    else: return 0 \n",
    "\n",
    "cancer['DX1'] = cancer['Treated_with_drugs'].apply(lambda x: DX1(x))\n",
    "cancer['DX2'] = cancer['Treated_with_drugs'].apply(lambda x: DX2(x))\n",
    "cancer['DX3'] = cancer['Treated_with_drugs'].apply(lambda x: DX3(x))\n",
    "cancer['DX4'] = cancer['Treated_with_drugs'].apply(lambda x: DX4(x))\n",
    "cancer['DX5'] = cancer['Treated_with_drugs'].apply(lambda x: DX5(x))\n",
    "cancer['DX6'] = cancer['Treated_with_drugs'].apply(lambda x: DX6(x))"
   ]
  },
  {
   "cell_type": "code",
   "execution_count": 20,
   "id": "e15b4b44",
   "metadata": {},
   "outputs": [
    {
     "data": {
      "text/plain": [
       "{'CANNOT SAY',\n",
       " 'CANNOT SAY ',\n",
       " 'Cannot say',\n",
       " 'Cannot say ',\n",
       " 'NO',\n",
       " 'NO ',\n",
       " 'YES',\n",
       " 'YES ',\n",
       " 'YESS',\n",
       " 'YESS '}"
      ]
     },
     "execution_count": 20,
     "metadata": {},
     "output_type": "execute_result"
    }
   ],
   "source": [
    "set(cancer['Patient_Smoker'])"
   ]
  },
  {
   "cell_type": "code",
   "execution_count": 21,
   "id": "4abd1091",
   "metadata": {},
   "outputs": [
    {
     "data": {
      "text/plain": [
       "{1}"
      ]
     },
     "execution_count": 21,
     "metadata": {},
     "output_type": "execute_result"
    }
   ],
   "source": [
    "cancer['Patient_Smoker'] = cancer['Patient_Smoker'].str.upper()\n",
    "cancer['Patient_Smoker'] = cancer['Patient_Smoker'].str.replace(' ','')\n",
    "set(cancer['Patient_Smoker'])\n",
    "set(cancer[cancer['Patient_Smoker'] == 'CANNOTSAY']['Survived_1_year'])"
   ]
  },
  {
   "cell_type": "code",
   "execution_count": 22,
   "id": "2376afab",
   "metadata": {
    "scrolled": true
   },
   "outputs": [
    {
     "data": {
      "text/plain": [
       "{'CANNOTSAY', 'NO', 'YES'}"
      ]
     },
     "execution_count": 22,
     "metadata": {},
     "output_type": "execute_result"
    }
   ],
   "source": [
    "def remove_s(string):\n",
    "    return 'YES' if string == 'YESS' else string       \n",
    "cancer['Patient_Smoker'] = cancer['Patient_Smoker'].apply(lambda x: remove_s(x))\n",
    "set(cancer['Patient_Smoker'])"
   ]
  },
  {
   "cell_type": "code",
   "execution_count": 23,
   "id": "1250606d",
   "metadata": {},
   "outputs": [
    {
     "data": {
      "text/plain": [
       "{'RURAL', 'URBAN'}"
      ]
     },
     "execution_count": 23,
     "metadata": {},
     "output_type": "execute_result"
    }
   ],
   "source": [
    "set(cancer['Patient_Rural_Urban'])"
   ]
  },
  {
   "cell_type": "code",
   "execution_count": 24,
   "id": "fa8d1d6d",
   "metadata": {},
   "outputs": [
    {
     "data": {
      "text/plain": [
       "{'Stable'}"
      ]
     },
     "execution_count": 24,
     "metadata": {},
     "output_type": "execute_result"
    }
   ],
   "source": [
    "set(cancer['Patient_mental_condition'])"
   ]
  },
  {
   "cell_type": "code",
   "execution_count": 25,
   "id": "26f952d1",
   "metadata": {},
   "outputs": [
    {
     "data": {
      "text/plain": [
       "{0, 1}"
      ]
     },
     "execution_count": 25,
     "metadata": {},
     "output_type": "execute_result"
    }
   ],
   "source": [
    "set(cancer['Survived_1_year'])"
   ]
  },
  {
   "cell_type": "markdown",
   "id": "48b83e94",
   "metadata": {},
   "source": [
    "## Notes:\n",
    "## VERY IMPORTANT: all the NA values in 'Treated_with_drugs' and 'Number_of_prev_cond'!!\n",
    "'Patient_mental_condition', 'Patient_ID', 'Diagnosed_Condition', 'Treated_with_drugs' should also be checked out before the model"
   ]
  },
  {
   "cell_type": "markdown",
   "id": "0c06219b",
   "metadata": {},
   "source": [
    "## EDA"
   ]
  },
  {
   "cell_type": "code",
   "execution_count": 26,
   "id": "c02844f1",
   "metadata": {},
   "outputs": [
    {
     "data": {
      "text/plain": [
       "Diagnosed_Condition         0\n",
       "Patient_ID                  0\n",
       "Treated_with_drugs          0\n",
       "Patient_Age                 0\n",
       "Patient_Body_Mass_Index     0\n",
       "Patient_Smoker              0\n",
       "Patient_Rural_Urban         0\n",
       "Patient_mental_condition    0\n",
       "A                           0\n",
       "B                           0\n",
       "C                           0\n",
       "D                           0\n",
       "E                           0\n",
       "F                           0\n",
       "Z                           0\n",
       "Number_of_prev_cond         0\n",
       "Survived_1_year             0\n",
       "DX1                         0\n",
       "DX2                         0\n",
       "DX3                         0\n",
       "DX4                         0\n",
       "DX5                         0\n",
       "DX6                         0\n",
       "dtype: int64"
      ]
     },
     "execution_count": 26,
     "metadata": {},
     "output_type": "execute_result"
    }
   ],
   "source": [
    "# add 0s to the NA cells\n",
    "cancer['Treated_with_drugs'] = cancer['Treated_with_drugs'].fillna(0)\n",
    "cancer['Number_of_prev_cond'] = cancer['Number_of_prev_cond'].fillna(0)\n",
    "cancer['A'] = cancer['A'].fillna(0)\n",
    "cancer['B'] = cancer['B'].fillna(0)\n",
    "cancer['C'] = cancer['C'].fillna(0)\n",
    "cancer['D'] = cancer['D'].fillna(0)\n",
    "cancer['E'] = cancer['E'].fillna(0)\n",
    "cancer['F'] = cancer['F'].fillna(0)\n",
    "cancer['Z'] = cancer['Z'].fillna(0)\n",
    "cancer.isnull().sum()"
   ]
  },
  {
   "cell_type": "code",
   "execution_count": 27,
   "id": "1f45aad5",
   "metadata": {},
   "outputs": [],
   "source": [
    "cancer.to_csv('cancer.csv')"
   ]
  },
  {
   "cell_type": "code",
   "execution_count": 28,
   "id": "6fc9a342",
   "metadata": {},
   "outputs": [
    {
     "data": {
      "image/png": "[encoded data removed]",
      "text/plain": [
       "<Figure size 432x288 with 1 Axes>"
      ]
     },
     "metadata": {
      "needs_background": "light"
     },
     "output_type": "display_data"
    }
   ],
   "source": [
    "# 'Survived_1_year' as target variable:\n",
    "sns.set_context(\"poster\", font_scale=1)\n",
    "ax = sns.countplot(x='Survived_1_year', data=cancer, order = [1,0])\n",
    "plt.ylim(0, 20000)\n",
    "sns.despine(top = True, right = True)\n",
    "ax.set(xticklabels=[\"YES\", \"NO\"])\n",
    "ax.set_ylabel(\"COUNT\")\n",
    "ax.set_xlabel('')\n",
    "ax.set(title='Survived after 1 Year')\n",
    "plt.show()"
   ]
  },
  {
   "cell_type": "code",
   "execution_count": 29,
   "id": "010ed33c",
   "metadata": {},
   "outputs": [],
   "source": [
    "number_survide_patient = len(set(cancer[cancer['Survived_1_year']==1]['Patient_ID']))\n",
    "number_no_survide_patient = len(set(cancer[cancer['Survived_1_year']==0]['Patient_ID']))"
   ]
  },
  {
   "cell_type": "code",
   "execution_count": 30,
   "id": "ddd44965",
   "metadata": {},
   "outputs": [
    {
     "data": {
      "image/png": "[encoded data removed]",
      "text/plain": [
       "<Figure size 432x288 with 1 Axes>"
      ]
     },
     "metadata": {
      "needs_background": "light"
     },
     "output_type": "display_data"
    }
   ],
   "source": [
    "number_survide_patient = len(set(cancer[cancer['Survived_1_year']==1]['Patient_ID']))\n",
    "number_no_survide_patient = len(set(cancer[cancer['Survived_1_year']==0]['Patient_ID']))\n",
    "x = [\"YES\", 'NO']\n",
    "y = [number_survide_patient, number_no_survide_patient]\n",
    "\n",
    "ax1 = sns.barplot(x, y)\n",
    "plt.ylim(0, 10000)\n",
    "sns.despine(top = True, right = True)\n",
    "ax1.set(xticklabels=[\"YES\", 'NO'])\n",
    "ax1.set_ylabel(\"Patients\")\n",
    "ax1.set_xlabel('')\n",
    "ax1.set(title='Number of Patient Survival')\n",
    "plt.show()"
   ]
  },
  {
   "cell_type": "markdown",
   "id": "d1f07788",
   "metadata": {},
   "source": [
    "# The non_survivors are treated or diagnosed a little bit more."
   ]
  },
  {
   "cell_type": "code",
   "execution_count": 31,
   "id": "83fbbc8e",
   "metadata": {},
   "outputs": [
    {
     "name": "stdout",
     "output_type": "stream",
     "text": [
      "Column names: ['Diagnosed_Condition', 'Patient_ID', 'Treated_with_drugs', 'Patient_Age', 'Patient_Body_Mass_Index', 'Patient_Smoker', 'Patient_Rural_Urban', 'Patient_mental_condition', 'A', 'B', 'C', 'D', 'E', 'F', 'Z', 'Number_of_prev_cond', 'Survived_1_year', 'DX1', 'DX2', 'DX3', 'DX4', 'DX5', 'DX6']\n",
      "Categorical columns: ['Treated_with_drugs', 'Patient_Smoker', 'Patient_Rural_Urban', 'Patient_mental_condition']\n",
      "Numerical columns: ['Diagnosed_Condition', 'Patient_ID', 'Patient_Age', 'Patient_Body_Mass_Index', 'A', 'B', 'C', 'D', 'E', 'F', 'Z', 'Number_of_prev_cond', 'Survived_1_year', 'DX1', 'DX2', 'DX3', 'DX4', 'DX5', 'DX6']\n"
     ]
    }
   ],
   "source": [
    "# Seperate the column_names into numerical and categorical lists: cat and num\n",
    "column_name = cancer.columns.values.tolist()\n",
    "print('Column names:', column_name)\n",
    "cat = []\n",
    "num = []\n",
    "for c in column_name:\n",
    "    if cancer[c].dtype == 'object':\n",
    "        cat.append(c)\n",
    "    if cancer[c].dtype == 'int64' or cancer[c].dtype == 'float64':\n",
    "        num.append(c)\n",
    "print('Categorical columns:', cat) \n",
    "print('Numerical columns:', num)"
   ]
  },
  {
   "cell_type": "code",
   "execution_count": 32,
   "id": "a633474d",
   "metadata": {},
   "outputs": [
    {
     "name": "stdout",
     "output_type": "stream",
     "text": [
      "{0.0, 1.0}\n",
      "53\n"
     ]
    }
   ],
   "source": [
    "# check if theses are useful variables\n",
    "print(set(cancer['Z']))\n",
    "print(len(set(cancer['Diagnosed_Condition'])))"
   ]
  },
  {
   "cell_type": "code",
   "execution_count": 33,
   "id": "a8fc841f",
   "metadata": {},
   "outputs": [
    {
     "data": {
      "image/png": "[encoded data removed]",
      "text/plain": [
       "<Figure size 720x504 with 2 Axes>"
      ]
     },
     "metadata": {
      "needs_background": "light"
     },
     "output_type": "display_data"
    }
   ],
   "source": [
    "sns.set_context(\"poster\", font_scale=1)\n",
    "cancer[['Patient_Age', 'Patient_Body_Mass_Index']].plot(kind='box', layout=(1,2), subplots=True, figsize=(10,7))\n",
    "sns.despine(top = True, right = True)\n",
    "plt.subplots_adjust(wspace=1,hspace=1); "
   ]
  },
  {
   "cell_type": "code",
   "execution_count": 34,
   "id": "462a097f",
   "metadata": {},
   "outputs": [
    {
     "data": {
      "text/plain": [
       "8"
      ]
     },
     "execution_count": 34,
     "metadata": {},
     "output_type": "execute_result"
    }
   ],
   "source": [
    "len(cancer[cancer['Patient_Age']>100])"
   ]
  },
  {
   "cell_type": "code",
   "execution_count": 35,
   "id": "3844b4bc",
   "metadata": {},
   "outputs": [
    {
     "data": {
      "text/plain": [
       "8"
      ]
     },
     "execution_count": 35,
     "metadata": {},
     "output_type": "execute_result"
    }
   ],
   "source": [
    "len(cancer[cancer['Patient_Body_Mass_Index']<5])"
   ]
  },
  {
   "cell_type": "code",
   "execution_count": 36,
   "id": "583c703c",
   "metadata": {},
   "outputs": [
    {
     "data": {
      "text/html": [
       "<div>\n",
       "<style scoped>\n",
       "    .dataframe tbody tr th:only-of-type {\n",
       "        vertical-align: middle;\n",
       "    }\n",
       "\n",
       "    .dataframe tbody tr th {\n",
       "        vertical-align: top;\n",
       "    }\n",
       "\n",
       "    .dataframe thead th {\n",
       "        text-align: right;\n",
       "    }\n",
       "</style>\n",
       "<table border=\"1\" class=\"dataframe\">\n",
       "  <thead>\n",
       "    <tr style=\"text-align: right;\">\n",
       "      <th></th>\n",
       "      <th>Diagnosed_Condition</th>\n",
       "      <th>Patient_ID</th>\n",
       "      <th>Treated_with_drugs</th>\n",
       "      <th>Patient_Age</th>\n",
       "      <th>Patient_Body_Mass_Index</th>\n",
       "      <th>Patient_Smoker</th>\n",
       "      <th>Patient_Rural_Urban</th>\n",
       "      <th>Patient_mental_condition</th>\n",
       "      <th>A</th>\n",
       "      <th>B</th>\n",
       "      <th>...</th>\n",
       "      <th>F</th>\n",
       "      <th>Z</th>\n",
       "      <th>Number_of_prev_cond</th>\n",
       "      <th>Survived_1_year</th>\n",
       "      <th>DX1</th>\n",
       "      <th>DX2</th>\n",
       "      <th>DX3</th>\n",
       "      <th>DX4</th>\n",
       "      <th>DX5</th>\n",
       "      <th>DX6</th>\n",
       "    </tr>\n",
       "    <tr>\n",
       "      <th>ID_Patient_Care_Situation</th>\n",
       "      <th></th>\n",
       "      <th></th>\n",
       "      <th></th>\n",
       "      <th></th>\n",
       "      <th></th>\n",
       "      <th></th>\n",
       "      <th></th>\n",
       "      <th></th>\n",
       "      <th></th>\n",
       "      <th></th>\n",
       "      <th></th>\n",
       "      <th></th>\n",
       "      <th></th>\n",
       "      <th></th>\n",
       "      <th></th>\n",
       "      <th></th>\n",
       "      <th></th>\n",
       "      <th></th>\n",
       "      <th></th>\n",
       "      <th></th>\n",
       "      <th></th>\n",
       "    </tr>\n",
       "  </thead>\n",
       "  <tbody>\n",
       "    <tr>\n",
       "      <th>33007</th>\n",
       "      <td>0</td>\n",
       "      <td>12508</td>\n",
       "      <td>0</td>\n",
       "      <td>135</td>\n",
       "      <td>1.4606</td>\n",
       "      <td>CANNOTSAY</td>\n",
       "      <td>RURAL</td>\n",
       "      <td>Stable</td>\n",
       "      <td>0.0</td>\n",
       "      <td>0.0</td>\n",
       "      <td>...</td>\n",
       "      <td>0.0</td>\n",
       "      <td>1.0</td>\n",
       "      <td>1.0</td>\n",
       "      <td>1</td>\n",
       "      <td>0</td>\n",
       "      <td>0</td>\n",
       "      <td>0</td>\n",
       "      <td>0</td>\n",
       "      <td>0</td>\n",
       "      <td>0</td>\n",
       "    </tr>\n",
       "    <tr>\n",
       "      <th>33008</th>\n",
       "      <td>0</td>\n",
       "      <td>12509</td>\n",
       "      <td>0</td>\n",
       "      <td>112</td>\n",
       "      <td>1.2925</td>\n",
       "      <td>CANNOTSAY</td>\n",
       "      <td>RURAL</td>\n",
       "      <td>Stable</td>\n",
       "      <td>0.0</td>\n",
       "      <td>0.0</td>\n",
       "      <td>...</td>\n",
       "      <td>0.0</td>\n",
       "      <td>1.0</td>\n",
       "      <td>1.0</td>\n",
       "      <td>1</td>\n",
       "      <td>0</td>\n",
       "      <td>0</td>\n",
       "      <td>0</td>\n",
       "      <td>0</td>\n",
       "      <td>0</td>\n",
       "      <td>0</td>\n",
       "    </tr>\n",
       "    <tr>\n",
       "      <th>33010</th>\n",
       "      <td>0</td>\n",
       "      <td>12511</td>\n",
       "      <td>0</td>\n",
       "      <td>142</td>\n",
       "      <td>1.5701</td>\n",
       "      <td>CANNOTSAY</td>\n",
       "      <td>RURAL</td>\n",
       "      <td>Stable</td>\n",
       "      <td>0.0</td>\n",
       "      <td>0.0</td>\n",
       "      <td>...</td>\n",
       "      <td>0.0</td>\n",
       "      <td>1.0</td>\n",
       "      <td>1.0</td>\n",
       "      <td>1</td>\n",
       "      <td>0</td>\n",
       "      <td>0</td>\n",
       "      <td>0</td>\n",
       "      <td>0</td>\n",
       "      <td>0</td>\n",
       "      <td>0</td>\n",
       "    </tr>\n",
       "    <tr>\n",
       "      <th>33011</th>\n",
       "      <td>0</td>\n",
       "      <td>12512</td>\n",
       "      <td>0</td>\n",
       "      <td>132</td>\n",
       "      <td>1.9896</td>\n",
       "      <td>CANNOTSAY</td>\n",
       "      <td>RURAL</td>\n",
       "      <td>Stable</td>\n",
       "      <td>0.0</td>\n",
       "      <td>0.0</td>\n",
       "      <td>...</td>\n",
       "      <td>0.0</td>\n",
       "      <td>1.0</td>\n",
       "      <td>1.0</td>\n",
       "      <td>1</td>\n",
       "      <td>0</td>\n",
       "      <td>0</td>\n",
       "      <td>0</td>\n",
       "      <td>0</td>\n",
       "      <td>0</td>\n",
       "      <td>0</td>\n",
       "    </tr>\n",
       "    <tr>\n",
       "      <th>33009</th>\n",
       "      <td>0</td>\n",
       "      <td>12510</td>\n",
       "      <td>0</td>\n",
       "      <td>142</td>\n",
       "      <td>1.1450</td>\n",
       "      <td>CANNOTSAY</td>\n",
       "      <td>RURAL</td>\n",
       "      <td>Stable</td>\n",
       "      <td>0.0</td>\n",
       "      <td>0.0</td>\n",
       "      <td>...</td>\n",
       "      <td>0.0</td>\n",
       "      <td>1.0</td>\n",
       "      <td>1.0</td>\n",
       "      <td>1</td>\n",
       "      <td>0</td>\n",
       "      <td>0</td>\n",
       "      <td>0</td>\n",
       "      <td>0</td>\n",
       "      <td>0</td>\n",
       "      <td>0</td>\n",
       "    </tr>\n",
       "    <tr>\n",
       "      <th>33013</th>\n",
       "      <td>0</td>\n",
       "      <td>12514</td>\n",
       "      <td>0</td>\n",
       "      <td>121</td>\n",
       "      <td>1.0893</td>\n",
       "      <td>CANNOTSAY</td>\n",
       "      <td>RURAL</td>\n",
       "      <td>Stable</td>\n",
       "      <td>0.0</td>\n",
       "      <td>0.0</td>\n",
       "      <td>...</td>\n",
       "      <td>0.0</td>\n",
       "      <td>1.0</td>\n",
       "      <td>1.0</td>\n",
       "      <td>1</td>\n",
       "      <td>0</td>\n",
       "      <td>0</td>\n",
       "      <td>0</td>\n",
       "      <td>0</td>\n",
       "      <td>0</td>\n",
       "      <td>0</td>\n",
       "    </tr>\n",
       "    <tr>\n",
       "      <th>33003</th>\n",
       "      <td>0</td>\n",
       "      <td>12504</td>\n",
       "      <td>0</td>\n",
       "      <td>125</td>\n",
       "      <td>1.8282</td>\n",
       "      <td>CANNOTSAY</td>\n",
       "      <td>RURAL</td>\n",
       "      <td>Stable</td>\n",
       "      <td>0.0</td>\n",
       "      <td>0.0</td>\n",
       "      <td>...</td>\n",
       "      <td>0.0</td>\n",
       "      <td>1.0</td>\n",
       "      <td>1.0</td>\n",
       "      <td>1</td>\n",
       "      <td>0</td>\n",
       "      <td>0</td>\n",
       "      <td>0</td>\n",
       "      <td>0</td>\n",
       "      <td>0</td>\n",
       "      <td>0</td>\n",
       "    </tr>\n",
       "    <tr>\n",
       "      <th>33004</th>\n",
       "      <td>0</td>\n",
       "      <td>12505</td>\n",
       "      <td>0</td>\n",
       "      <td>123</td>\n",
       "      <td>1.9290</td>\n",
       "      <td>CANNOTSAY</td>\n",
       "      <td>RURAL</td>\n",
       "      <td>Stable</td>\n",
       "      <td>0.0</td>\n",
       "      <td>0.0</td>\n",
       "      <td>...</td>\n",
       "      <td>0.0</td>\n",
       "      <td>1.0</td>\n",
       "      <td>1.0</td>\n",
       "      <td>1</td>\n",
       "      <td>0</td>\n",
       "      <td>0</td>\n",
       "      <td>0</td>\n",
       "      <td>0</td>\n",
       "      <td>0</td>\n",
       "      <td>0</td>\n",
       "    </tr>\n",
       "  </tbody>\n",
       "</table>\n",
       "<p>8 rows × 23 columns</p>\n",
       "</div>"
      ],
      "text/plain": [
       "                           Diagnosed_Condition  Patient_ID Treated_with_drugs  \\\n",
       "ID_Patient_Care_Situation                                                       \n",
       "33007                                        0       12508                  0   \n",
       "33008                                        0       12509                  0   \n",
       "33010                                        0       12511                  0   \n",
       "33011                                        0       12512                  0   \n",
       "33009                                        0       12510                  0   \n",
       "33013                                        0       12514                  0   \n",
       "33003                                        0       12504                  0   \n",
       "33004                                        0       12505                  0   \n",
       "\n",
       "                           Patient_Age  Patient_Body_Mass_Index  \\\n",
       "ID_Patient_Care_Situation                                         \n",
       "33007                              135                   1.4606   \n",
       "33008                              112                   1.2925   \n",
       "33010                              142                   1.5701   \n",
       "33011                              132                   1.9896   \n",
       "33009                              142                   1.1450   \n",
       "33013                              121                   1.0893   \n",
       "33003                              125                   1.8282   \n",
       "33004                              123                   1.9290   \n",
       "\n",
       "                          Patient_Smoker Patient_Rural_Urban  \\\n",
       "ID_Patient_Care_Situation                                      \n",
       "33007                          CANNOTSAY               RURAL   \n",
       "33008                          CANNOTSAY               RURAL   \n",
       "33010                          CANNOTSAY               RURAL   \n",
       "33011                          CANNOTSAY               RURAL   \n",
       "33009                          CANNOTSAY               RURAL   \n",
       "33013                          CANNOTSAY               RURAL   \n",
       "33003                          CANNOTSAY               RURAL   \n",
       "33004                          CANNOTSAY               RURAL   \n",
       "\n",
       "                          Patient_mental_condition    A    B  ...    F    Z  \\\n",
       "ID_Patient_Care_Situation                                     ...             \n",
       "33007                                       Stable  0.0  0.0  ...  0.0  1.0   \n",
       "33008                                       Stable  0.0  0.0  ...  0.0  1.0   \n",
       "33010                                       Stable  0.0  0.0  ...  0.0  1.0   \n",
       "33011                                       Stable  0.0  0.0  ...  0.0  1.0   \n",
       "33009                                       Stable  0.0  0.0  ...  0.0  1.0   \n",
       "33013                                       Stable  0.0  0.0  ...  0.0  1.0   \n",
       "33003                                       Stable  0.0  0.0  ...  0.0  1.0   \n",
       "33004                                       Stable  0.0  0.0  ...  0.0  1.0   \n",
       "\n",
       "                           Number_of_prev_cond  Survived_1_year  DX1  DX2  \\\n",
       "ID_Patient_Care_Situation                                                   \n",
       "33007                                      1.0                1    0    0   \n",
       "33008                                      1.0                1    0    0   \n",
       "33010                                      1.0                1    0    0   \n",
       "33011                                      1.0                1    0    0   \n",
       "33009                                      1.0                1    0    0   \n",
       "33013                                      1.0                1    0    0   \n",
       "33003                                      1.0                1    0    0   \n",
       "33004                                      1.0                1    0    0   \n",
       "\n",
       "                           DX3  DX4  DX5  DX6  \n",
       "ID_Patient_Care_Situation                      \n",
       "33007                        0    0    0    0  \n",
       "33008                        0    0    0    0  \n",
       "33010                        0    0    0    0  \n",
       "33011                        0    0    0    0  \n",
       "33009                        0    0    0    0  \n",
       "33013                        0    0    0    0  \n",
       "33003                        0    0    0    0  \n",
       "33004                        0    0    0    0  \n",
       "\n",
       "[8 rows x 23 columns]"
      ]
     },
     "execution_count": 36,
     "metadata": {},
     "output_type": "execute_result"
    }
   ],
   "source": [
    "cancer[cancer['Patient_Age']>100]['Patient_Body_Mass_Index']\n",
    "\n",
    "cancer[cancer['Patient_Body_Mass_Index']<5]['Patient_Age']\n",
    "\n",
    "cancer[cancer['Patient_Body_Mass_Index']<5]"
   ]
  },
  {
   "cell_type": "markdown",
   "id": "b9bd5a8c",
   "metadata": {},
   "source": [
    "# These observations need to be removed: After remove theses column 'Z' can be removed also"
   ]
  },
  {
   "cell_type": "code",
   "execution_count": 37,
   "id": "521f2587",
   "metadata": {},
   "outputs": [
    {
     "name": "stdout",
     "output_type": "stream",
     "text": [
      "Int64Index([33007, 33008, 33010, 33011, 33009, 33013, 33003, 33004], dtype='int64', name='ID_Patient_Care_Situation')\n"
     ]
    }
   ],
   "source": [
    "print (cancer[cancer['Patient_Body_Mass_Index']<5].index)\n",
    "cancer = cancer.drop(labels=[33007, 33008, 33010, 33011, 33009, 33013, 33003, 33004], axis=0)\n",
    "\n",
    "cancer = cancer.drop(labels=[\"Treated_with_drugs\", 'Patient_mental_condition','Z'], axis=1)\n"
   ]
  },
  {
   "cell_type": "code",
   "execution_count": 38,
   "id": "cb15d8cc",
   "metadata": {},
   "outputs": [
    {
     "data": {
      "image/png": "[encoded data removed]",
      "text/plain": [
       "<Figure size 720x504 with 2 Axes>"
      ]
     },
     "metadata": {
      "needs_background": "light"
     },
     "output_type": "display_data"
    }
   ],
   "source": [
    "cancer[['Patient_Age', 'Patient_Body_Mass_Index']].plot(kind='box', layout=(1,2), subplots=True, figsize=(10,7))\n",
    "sns.despine(top = True, right = True)\n",
    "plt.subplots_adjust(wspace=1,hspace=1);  "
   ]
  },
  {
   "cell_type": "markdown",
   "id": "fa2b1ffc",
   "metadata": {},
   "source": [
    "## 'Patient_Smoker', 'Patient_Rural_Urban', 'Patient_mental_condition' are categorical"
   ]
  },
  {
   "cell_type": "code",
   "execution_count": 39,
   "id": "fd000f70",
   "metadata": {},
   "outputs": [
    {
     "data": {
      "image/png": "[encoded data removed]",
      "text/plain": [
       "<Figure size 432x288 with 1 Axes>"
      ]
     },
     "metadata": {
      "needs_background": "light"
     },
     "output_type": "display_data"
    }
   ],
   "source": [
    "# 'Patient_Smoker' \n",
    "sns.set_context(\"poster\", font_scale=1)\n",
    "ax = sns.countplot(x='Patient_Smoker', data=cancer, order = ['NO', 'YES'])\n",
    "plt.ylim(0, 20000)\n",
    "sns.despine(top = True, right = True)\n",
    "ax.set_ylabel(\"COUNT\")\n",
    "ax.set_xlabel('')\n",
    "ax.set(title='Patient Smoker')\n",
    "plt.show()"
   ]
  },
  {
   "cell_type": "code",
   "execution_count": 40,
   "id": "16a0e374",
   "metadata": {},
   "outputs": [
    {
     "ename": "SyntaxError",
     "evalue": "invalid syntax (<ipython-input-40-c2b80486784c>, line 3)",
     "output_type": "error",
     "traceback": [
      "\u001b[0;36m  File \u001b[0;32m\"<ipython-input-40-c2b80486784c>\"\u001b[0;36m, line \u001b[0;32m3\u001b[0m\n\u001b[0;31m    ax = sns.countplot(x='Patient_Smoker', data=cancer, hue='Survived_1_year', order = order = ['NO', 'YES'])\u001b[0m\n\u001b[0m                                                                                             ^\u001b[0m\n\u001b[0;31mSyntaxError\u001b[0m\u001b[0;31m:\u001b[0m invalid syntax\n"
     ]
    }
   ],
   "source": [
    "# 'Patient_Smoker' by survival\n",
    "sns.set_context(\"poster\", font_scale=1)\n",
    "ax = sns.countplot(x='Patient_Smoker', data=cancer, hue='Survived_1_year', order =  ['NO', 'YES'])\n",
    "plt.ylim(0, 20000)\n",
    "sns.despine(top = True, right = True)\n",
    "ax.set_ylabel(\"COUNT\")\n",
    "ax.set_xlabel('')\n",
    "ax.set(title='Patient Smoker by Survival')\n",
    "plt.legend(bbox_to_anchor=(1.05, 1), loc=2, borderaxespad=0.)\n",
    "plt.show()"
   ]
  },
  {
   "cell_type": "code",
   "execution_count": null,
   "id": "fcec82ee",
   "metadata": {},
   "outputs": [],
   "source": [
    "# 'Patient_Rural_Urban' \n",
    "sns.set_context(\"poster\", font_scale=1)\n",
    "ax = sns.countplot(x='Patient_Rural_Urban', data=cancer)\n",
    "plt.ylim(0, 20000)\n",
    "sns.despine(top = True, right = True)\n",
    "ax.set_ylabel(\"COUNT\")\n",
    "ax.set_xlabel('')\n",
    "ax.set(title='Patient Rural Urban')\n",
    "plt.show()"
   ]
  },
  {
   "cell_type": "code",
   "execution_count": null,
   "id": "4733eb06",
   "metadata": {},
   "outputs": [],
   "source": [
    "# 'Patient_Rural_Urban' \n",
    "sns.set_context(\"poster\", font_scale=1)\n",
    "ax = sns.countplot(x='Patient_Rural_Urban', hue = 'Survived_1_year', data=cancer)\n",
    "plt.ylim(0, 20000)\n",
    "sns.despine(top = True, right = True)\n",
    "ax.set_ylabel(\"COUNT\")\n",
    "ax.set_xlabel('')\n",
    "ax.set(title='Patient Rural Urban by Survival')\n",
    "plt.legend(bbox_to_anchor=(1.05, 1), loc=2, borderaxespad=0.)\n",
    "plt.show()"
   ]
  },
  {
   "cell_type": "code",
   "execution_count": null,
   "id": "02ed9330",
   "metadata": {},
   "outputs": [],
   "source": [
    "sns.set_context(\"paper\")\n",
    "cancer[['Diagnosed_Condition',  'Patient_Age', 'Patient_Body_Mass_Index', 'DX1', 'DX2', 'DX3', 'DX4', 'DX5', 'DX6', 'A', 'B', 'C', 'D', 'E', 'F', 'Number_of_prev_cond', 'Survived_1_year']].hist(bins = 10, grid=False, figsize=(15, 10))\n",
    "plt.subplots_adjust(hspace=0.5);"
   ]
  },
  {
   "cell_type": "code",
   "execution_count": null,
   "id": "27bcc396",
   "metadata": {},
   "outputs": [],
   "source": [
    "sns.set_context(\"poster\", font_scale=1)\n",
    "for column in ['Diagnosed_Condition',  'Patient_Age', 'Patient_Body_Mass_Index', 'Number_of_prev_cond']:\n",
    "    fig, axs = plt.subplots(2, figsize=(7,5))\n",
    "    ax[0] = sns.histplot(data=cancer, x=column)\n",
    "    ax[0].set(title= column)\n",
    "    ax[1] = sns.histplot(data=cancer, x=column, hue= 'Survived_1_year')\n",
    "    ax[1].set(title= column + ' by Survival')\n",
    "    plt.legend(bbox_to_anchor=(1.05, 1), loc=2, borderaxespad=0, labels=['Not', 'Survived'])\n",
    "    plt.show()"
   ]
  },
  {
   "cell_type": "code",
   "execution_count": null,
   "id": "ff14c7df",
   "metadata": {},
   "outputs": [],
   "source": [
    "sns.set_context(\"poster\", font_scale=1)\n",
    "for column in ['DX1', 'DX2', 'DX3', 'DX4', 'DX5', 'DX6', 'A', 'B', 'C', 'D', 'E', 'F']:\n",
    "    ax = sns.countplot(x=column, hue = 'Survived_1_year', data=cancer)\n",
    "    plt.ylim(0, 20000)\n",
    "    sns.despine(top = True, right = True)\n",
    "    ax.set_ylabel(\"COUNT\")\n",
    "    ax.set_xlabel('')\n",
    "    ax.set(xticklabels=[\"NO\",\"YES\"])\n",
    "    ax.set(title= column + ' by Survival')\n",
    "    plt.legend(bbox_to_anchor=(1.05, 1), loc=2, borderaxespad=0, labels=['Not', 'Survived'])\n",
    "    plt.show()"
   ]
  },
  {
   "cell_type": "code",
   "execution_count": null,
   "id": "cbe2f2b3",
   "metadata": {},
   "outputs": [],
   "source": [
    "sns.set_context(\"paper\", font_scale=1.5)\n",
    "plt.subplots(figsize=(5,4))\n",
    "sns.heatmap(cancer[['Diagnosed_Condition',  'Patient_Age', 'Patient_Body_Mass_Index','Number_of_prev_cond']].corr(), annot = True);"
   ]
  },
  {
   "cell_type": "code",
   "execution_count": null,
   "id": "507febd9",
   "metadata": {},
   "outputs": [],
   "source": [
    "cancer.info()"
   ]
  },
  {
   "cell_type": "code",
   "execution_count": 41,
   "id": "26a90292",
   "metadata": {},
   "outputs": [
    {
     "name": "stdout",
     "output_type": "stream",
     "text": [
      "Index(['Diagnosed_Condition', 'Patient_ID', 'Patient_Age',\n",
      "       'Patient_Body_Mass_Index', 'Patient_Smoker', 'Patient_Rural_Urban', 'A',\n",
      "       'B', 'C', 'D', 'E', 'F', 'Number_of_prev_cond', 'Survived_1_year',\n",
      "       'DX1', 'DX2', 'DX3', 'DX4', 'DX5', 'DX6'],\n",
      "      dtype='object')\n",
      "(25071, 14)\n"
     ]
    }
   ],
   "source": [
    "# Seperate the column_names into numerical and categorical lists: cat and num\n",
    "print(cancer.columns)\n",
    "cat = cancer[['Patient_Smoker', 'Patient_Rural_Urban', 'A',\n",
    "       'B', 'C', 'D', 'E', 'F',\n",
    "       'DX1', 'DX2', 'DX3', 'DX4', 'DX5', 'DX6']]\n",
    "cancer_cat = pd.get_dummies(cat,drop_first = True)\n",
    "print(cancer_cat.shape)"
   ]
  },
  {
   "cell_type": "code",
   "execution_count": 42,
   "id": "ea3be43a",
   "metadata": {},
   "outputs": [
    {
     "data": {
      "text/plain": [
       "(25071, 18)"
      ]
     },
     "execution_count": 42,
     "metadata": {},
     "output_type": "execute_result"
    }
   ],
   "source": [
    "cancer_all = pd.concat([cancer_cat, cancer[['Diagnosed_Condition', 'Patient_Age', 'Patient_Body_Mass_Index','Number_of_prev_cond' ]]],axis =1)\n",
    "cancer_all.shape"
   ]
  },
  {
   "cell_type": "code",
   "execution_count": 43,
   "id": "2a70cde5",
   "metadata": {},
   "outputs": [],
   "source": [
    "X = cancer_all\n",
    "y = cancer['Survived_1_year']\n",
    "X_train, X_test, y_train, y_test = train_test_split(X, y, test_size = 0.2, random_state = 1)\n",
    "    \n",
    "scaler = preprocessing.MinMaxScaler().fit(X_train)\n",
    "X_train_scaled=scaler.transform(X_train)\n",
    "X_test_scaled=scaler.transform(X_test)"
   ]
  },
  {
   "cell_type": "code",
   "execution_count": 44,
   "id": "5d7921a2",
   "metadata": {},
   "outputs": [],
   "source": [
    "#Define the indexing for each possible label in a dictionary\n",
    "class_to_index = {\"YES\":1, \"NO\":0}\n",
    "\n",
    "#Creates a reverse dictionary\n",
    "index_to_class = {1: \"YES\",  0: \"NO\"}\n",
    "\n",
    "#Creates lambda functions, applying the appropriate dictionary\n",
    "names_to_ids = lambda n: np.array([class_to_index.get(x) for x in n])\n",
    "ids_to_names = lambda n: np.array([index_to_class.get(x) for x in n])"
   ]
  },
  {
   "cell_type": "code",
   "execution_count": 60,
   "id": "0b488426",
   "metadata": {},
   "outputs": [
    {
     "data": {
      "text/plain": [
       "(25440, 18)"
      ]
     },
     "execution_count": 60,
     "metadata": {},
     "output_type": "execute_result"
    }
   ],
   "source": [
    "X = cancer_all\n",
    "y = cancer['Survived_1_year']\n",
    "\n",
    "over = SMOTE(sampling_strategy=1)\n",
    "X, y = over.fit_resample(X, y)\n",
    "counter = Counter(y)\n",
    "\n",
    "X_train, X_test, y_train, y_test = train_test_split(X, y, test_size = 0.2, random_state = 1)\n",
    "    \n",
    "\n",
    "X_train.shape"
   ]
  },
  {
   "cell_type": "markdown",
   "id": "ce28aacd",
   "metadata": {},
   "source": [
    "## Feature Importance"
   ]
  },
  {
   "cell_type": "code",
   "execution_count": 75,
   "id": "9ea20283",
   "metadata": {},
   "outputs": [
    {
     "name": "stdout",
     "output_type": "stream",
     "text": [
      "Fitting 5 folds for each of 64 candidates, totalling 320 fits\n",
      "[CV 1/5; 1/64] START colsample_bytree=0.2, max_depth=10, n_estimators=20, reg_alpha=1.1, reg_lambda=1.1, subsample=0.5\n",
      "[11:26:25] WARNING: /Users/travis/build/dmlc/xgboost/src/learner.cc:1115: Starting in XGBoost 1.3.0, the default evaluation metric used with the objective 'binary:logistic' was changed from 'error' to 'logloss'. Explicitly set eval_metric if you'd like to restore the old behavior.\n",
      "[CV 1/5; 1/64] END colsample_bytree=0.2, max_depth=10, n_estimators=20, reg_alpha=1.1, reg_lambda=1.1, subsample=0.5; total time=   0.3s\n",
      "[CV 2/5; 1/64] START colsample_bytree=0.2, max_depth=10, n_estimators=20, reg_alpha=1.1, reg_lambda=1.1, subsample=0.5\n",
      "[11:26:25] WARNING: /Users/travis/build/dmlc/xgboost/src/learner.cc:1115: Starting in XGBoost 1.3.0, the default evaluation metric used with the objective 'binary:logistic' was changed from 'error' to 'logloss'. Explicitly set eval_metric if you'd like to restore the old behavior.\n",
      "[CV 2/5; 1/64] END colsample_bytree=0.2, max_depth=10, n_estimators=20, reg_alpha=1.1, reg_lambda=1.1, subsample=0.5; total time=   0.3s\n",
      "[CV 3/5; 1/64] START colsample_bytree=0.2, max_depth=10, n_estimators=20, reg_alpha=1.1, reg_lambda=1.1, subsample=0.5\n",
      "[11:26:25] WARNING: /Users/travis/build/dmlc/xgboost/src/learner.cc:1115: Starting in XGBoost 1.3.0, the default evaluation metric used with the objective 'binary:logistic' was changed from 'error' to 'logloss'. Explicitly set eval_metric if you'd like to restore the old behavior.\n",
      "[CV 3/5; 1/64] END colsample_bytree=0.2, max_depth=10, n_estimators=20, reg_alpha=1.1, reg_lambda=1.1, subsample=0.5; total time=   0.3s\n",
      "[CV 4/5; 1/64] START colsample_bytree=0.2, max_depth=10, n_estimators=20, reg_alpha=1.1, reg_lambda=1.1, subsample=0.5\n",
      "[11:26:26] WARNING: /Users/travis/build/dmlc/xgboost/src/learner.cc:1115: Starting in XGBoost 1.3.0, the default evaluation metric used with the objective 'binary:logistic' was changed from 'error' to 'logloss'. Explicitly set eval_metric if you'd like to restore the old behavior.\n",
      "[CV 4/5; 1/64] END colsample_bytree=0.2, max_depth=10, n_estimators=20, reg_alpha=1.1, reg_lambda=1.1, subsample=0.5; total time=   0.3s\n",
      "[CV 5/5; 1/64] START colsample_bytree=0.2, max_depth=10, n_estimators=20, reg_alpha=1.1, reg_lambda=1.1, subsample=0.5\n",
      "[11:26:26] WARNING: /Users/travis/build/dmlc/xgboost/src/learner.cc:1115: Starting in XGBoost 1.3.0, the default evaluation metric used with the objective 'binary:logistic' was changed from 'error' to 'logloss'. Explicitly set eval_metric if you'd like to restore the old behavior.\n",
      "[CV 5/5; 1/64] END colsample_bytree=0.2, max_depth=10, n_estimators=20, reg_alpha=1.1, reg_lambda=1.1, subsample=0.5; total time=   0.4s\n",
      "[CV 1/5; 2/64] START colsample_bytree=0.2, max_depth=10, n_estimators=20, reg_alpha=1.1, reg_lambda=1.1, subsample=0.9\n",
      "[11:26:26] WARNING: /Users/travis/build/dmlc/xgboost/src/learner.cc:1115: Starting in XGBoost 1.3.0, the default evaluation metric used with the objective 'binary:logistic' was changed from 'error' to 'logloss'. Explicitly set eval_metric if you'd like to restore the old behavior.\n",
      "[CV 1/5; 2/64] END colsample_bytree=0.2, max_depth=10, n_estimators=20, reg_alpha=1.1, reg_lambda=1.1, subsample=0.9; total time=   0.3s\n",
      "[CV 2/5; 2/64] START colsample_bytree=0.2, max_depth=10, n_estimators=20, reg_alpha=1.1, reg_lambda=1.1, subsample=0.9\n",
      "[11:26:27] WARNING: /Users/travis/build/dmlc/xgboost/src/learner.cc:1115: Starting in XGBoost 1.3.0, the default evaluation metric used with the objective 'binary:logistic' was changed from 'error' to 'logloss'. Explicitly set eval_metric if you'd like to restore the old behavior.\n",
      "[CV 2/5; 2/64] END colsample_bytree=0.2, max_depth=10, n_estimators=20, reg_alpha=1.1, reg_lambda=1.1, subsample=0.9; total time=   0.3s\n",
      "[CV 3/5; 2/64] START colsample_bytree=0.2, max_depth=10, n_estimators=20, reg_alpha=1.1, reg_lambda=1.1, subsample=0.9\n",
      "[11:26:27] WARNING: /Users/travis/build/dmlc/xgboost/src/learner.cc:1115: Starting in XGBoost 1.3.0, the default evaluation metric used with the objective 'binary:logistic' was changed from 'error' to 'logloss'. Explicitly set eval_metric if you'd like to restore the old behavior.\n",
      "[CV 3/5; 2/64] END colsample_bytree=0.2, max_depth=10, n_estimators=20, reg_alpha=1.1, reg_lambda=1.1, subsample=0.9; total time=   0.4s\n",
      "[CV 4/5; 2/64] START colsample_bytree=0.2, max_depth=10, n_estimators=20, reg_alpha=1.1, reg_lambda=1.1, subsample=0.9\n",
      "[11:26:27] WARNING: /Users/travis/build/dmlc/xgboost/src/learner.cc:1115: Starting in XGBoost 1.3.0, the default evaluation metric used with the objective 'binary:logistic' was changed from 'error' to 'logloss'. Explicitly set eval_metric if you'd like to restore the old behavior.\n",
      "[CV 4/5; 2/64] END colsample_bytree=0.2, max_depth=10, n_estimators=20, reg_alpha=1.1, reg_lambda=1.1, subsample=0.9; total time=   0.4s\n",
      "[CV 5/5; 2/64] START colsample_bytree=0.2, max_depth=10, n_estimators=20, reg_alpha=1.1, reg_lambda=1.1, subsample=0.9\n",
      "[11:26:28] WARNING: /Users/travis/build/dmlc/xgboost/src/learner.cc:1115: Starting in XGBoost 1.3.0, the default evaluation metric used with the objective 'binary:logistic' was changed from 'error' to 'logloss'. Explicitly set eval_metric if you'd like to restore the old behavior.\n",
      "[CV 5/5; 2/64] END colsample_bytree=0.2, max_depth=10, n_estimators=20, reg_alpha=1.1, reg_lambda=1.1, subsample=0.9; total time=   0.3s\n",
      "[CV 1/5; 3/64] START colsample_bytree=0.2, max_depth=10, n_estimators=20, reg_alpha=1.1, reg_lambda=1.3, subsample=0.5\n",
      "[11:26:28] WARNING: /Users/travis/build/dmlc/xgboost/src/learner.cc:1115: Starting in XGBoost 1.3.0, the default evaluation metric used with the objective 'binary:logistic' was changed from 'error' to 'logloss'. Explicitly set eval_metric if you'd like to restore the old behavior.\n",
      "[CV 1/5; 3/64] END colsample_bytree=0.2, max_depth=10, n_estimators=20, reg_alpha=1.1, reg_lambda=1.3, subsample=0.5; total time=   0.4s\n",
      "[CV 2/5; 3/64] START colsample_bytree=0.2, max_depth=10, n_estimators=20, reg_alpha=1.1, reg_lambda=1.3, subsample=0.5\n",
      "[11:26:28] WARNING: /Users/travis/build/dmlc/xgboost/src/learner.cc:1115: Starting in XGBoost 1.3.0, the default evaluation metric used with the objective 'binary:logistic' was changed from 'error' to 'logloss'. Explicitly set eval_metric if you'd like to restore the old behavior.\n",
      "[CV 2/5; 3/64] END colsample_bytree=0.2, max_depth=10, n_estimators=20, reg_alpha=1.1, reg_lambda=1.3, subsample=0.5; total time=   0.3s\n",
      "[CV 3/5; 3/64] START colsample_bytree=0.2, max_depth=10, n_estimators=20, reg_alpha=1.1, reg_lambda=1.3, subsample=0.5\n",
      "[11:26:29] WARNING: /Users/travis/build/dmlc/xgboost/src/learner.cc:1115: Starting in XGBoost 1.3.0, the default evaluation metric used with the objective 'binary:logistic' was changed from 'error' to 'logloss'. Explicitly set eval_metric if you'd like to restore the old behavior.\n",
      "[CV 3/5; 3/64] END colsample_bytree=0.2, max_depth=10, n_estimators=20, reg_alpha=1.1, reg_lambda=1.3, subsample=0.5; total time=   0.3s\n",
      "[CV 4/5; 3/64] START colsample_bytree=0.2, max_depth=10, n_estimators=20, reg_alpha=1.1, reg_lambda=1.3, subsample=0.5\n",
      "[11:26:29] WARNING: /Users/travis/build/dmlc/xgboost/src/learner.cc:1115: Starting in XGBoost 1.3.0, the default evaluation metric used with the objective 'binary:logistic' was changed from 'error' to 'logloss'. Explicitly set eval_metric if you'd like to restore the old behavior.\n",
      "[CV 4/5; 3/64] END colsample_bytree=0.2, max_depth=10, n_estimators=20, reg_alpha=1.1, reg_lambda=1.3, subsample=0.5; total time=   0.4s\n",
      "[CV 5/5; 3/64] START colsample_bytree=0.2, max_depth=10, n_estimators=20, reg_alpha=1.1, reg_lambda=1.3, subsample=0.5\n",
      "[11:26:29] WARNING: /Users/travis/build/dmlc/xgboost/src/learner.cc:1115: Starting in XGBoost 1.3.0, the default evaluation metric used with the objective 'binary:logistic' was changed from 'error' to 'logloss'. Explicitly set eval_metric if you'd like to restore the old behavior.\n",
      "[CV 5/5; 3/64] END colsample_bytree=0.2, max_depth=10, n_estimators=20, reg_alpha=1.1, reg_lambda=1.3, subsample=0.5; total time=   0.3s\n",
      "[CV 1/5; 4/64] START colsample_bytree=0.2, max_depth=10, n_estimators=20, reg_alpha=1.1, reg_lambda=1.3, subsample=0.9\n",
      "[11:26:30] WARNING: /Users/travis/build/dmlc/xgboost/src/learner.cc:1115: Starting in XGBoost 1.3.0, the default evaluation metric used with the objective 'binary:logistic' was changed from 'error' to 'logloss'. Explicitly set eval_metric if you'd like to restore the old behavior.\n"
     ]
    },
    {
     "name": "stdout",
     "output_type": "stream",
     "text": [
      "[CV 1/5; 4/64] END colsample_bytree=0.2, max_depth=10, n_estimators=20, reg_alpha=1.1, reg_lambda=1.3, subsample=0.9; total time=   0.3s\n",
      "[CV 2/5; 4/64] START colsample_bytree=0.2, max_depth=10, n_estimators=20, reg_alpha=1.1, reg_lambda=1.3, subsample=0.9\n",
      "[11:26:30] WARNING: /Users/travis/build/dmlc/xgboost/src/learner.cc:1115: Starting in XGBoost 1.3.0, the default evaluation metric used with the objective 'binary:logistic' was changed from 'error' to 'logloss'. Explicitly set eval_metric if you'd like to restore the old behavior.\n",
      "[CV 2/5; 4/64] END colsample_bytree=0.2, max_depth=10, n_estimators=20, reg_alpha=1.1, reg_lambda=1.3, subsample=0.9; total time=   0.3s\n",
      "[CV 3/5; 4/64] START colsample_bytree=0.2, max_depth=10, n_estimators=20, reg_alpha=1.1, reg_lambda=1.3, subsample=0.9\n",
      "[11:26:30] WARNING: /Users/travis/build/dmlc/xgboost/src/learner.cc:1115: Starting in XGBoost 1.3.0, the default evaluation metric used with the objective 'binary:logistic' was changed from 'error' to 'logloss'. Explicitly set eval_metric if you'd like to restore the old behavior.\n",
      "[CV 3/5; 4/64] END colsample_bytree=0.2, max_depth=10, n_estimators=20, reg_alpha=1.1, reg_lambda=1.3, subsample=0.9; total time=   0.3s\n",
      "[CV 4/5; 4/64] START colsample_bytree=0.2, max_depth=10, n_estimators=20, reg_alpha=1.1, reg_lambda=1.3, subsample=0.9\n",
      "[11:26:30] WARNING: /Users/travis/build/dmlc/xgboost/src/learner.cc:1115: Starting in XGBoost 1.3.0, the default evaluation metric used with the objective 'binary:logistic' was changed from 'error' to 'logloss'. Explicitly set eval_metric if you'd like to restore the old behavior.\n",
      "[CV 4/5; 4/64] END colsample_bytree=0.2, max_depth=10, n_estimators=20, reg_alpha=1.1, reg_lambda=1.3, subsample=0.9; total time=   0.3s\n",
      "[CV 5/5; 4/64] START colsample_bytree=0.2, max_depth=10, n_estimators=20, reg_alpha=1.1, reg_lambda=1.3, subsample=0.9\n",
      "[11:26:31] WARNING: /Users/travis/build/dmlc/xgboost/src/learner.cc:1115: Starting in XGBoost 1.3.0, the default evaluation metric used with the objective 'binary:logistic' was changed from 'error' to 'logloss'. Explicitly set eval_metric if you'd like to restore the old behavior.\n",
      "[CV 5/5; 4/64] END colsample_bytree=0.2, max_depth=10, n_estimators=20, reg_alpha=1.1, reg_lambda=1.3, subsample=0.9; total time=   0.4s\n",
      "[CV 1/5; 5/64] START colsample_bytree=0.2, max_depth=10, n_estimators=20, reg_alpha=1.3, reg_lambda=1.1, subsample=0.5\n",
      "[11:26:31] WARNING: /Users/travis/build/dmlc/xgboost/src/learner.cc:1115: Starting in XGBoost 1.3.0, the default evaluation metric used with the objective 'binary:logistic' was changed from 'error' to 'logloss'. Explicitly set eval_metric if you'd like to restore the old behavior.\n",
      "[CV 1/5; 5/64] END colsample_bytree=0.2, max_depth=10, n_estimators=20, reg_alpha=1.3, reg_lambda=1.1, subsample=0.5; total time=   0.3s\n",
      "[CV 2/5; 5/64] START colsample_bytree=0.2, max_depth=10, n_estimators=20, reg_alpha=1.3, reg_lambda=1.1, subsample=0.5\n",
      "[11:26:31] WARNING: /Users/travis/build/dmlc/xgboost/src/learner.cc:1115: Starting in XGBoost 1.3.0, the default evaluation metric used with the objective 'binary:logistic' was changed from 'error' to 'logloss'. Explicitly set eval_metric if you'd like to restore the old behavior.\n",
      "[CV 2/5; 5/64] END colsample_bytree=0.2, max_depth=10, n_estimators=20, reg_alpha=1.3, reg_lambda=1.1, subsample=0.5; total time=   0.3s\n",
      "[CV 3/5; 5/64] START colsample_bytree=0.2, max_depth=10, n_estimators=20, reg_alpha=1.3, reg_lambda=1.1, subsample=0.5\n",
      "[11:26:32] WARNING: /Users/travis/build/dmlc/xgboost/src/learner.cc:1115: Starting in XGBoost 1.3.0, the default evaluation metric used with the objective 'binary:logistic' was changed from 'error' to 'logloss'. Explicitly set eval_metric if you'd like to restore the old behavior.\n",
      "[CV 3/5; 5/64] END colsample_bytree=0.2, max_depth=10, n_estimators=20, reg_alpha=1.3, reg_lambda=1.1, subsample=0.5; total time=   0.3s\n",
      "[CV 4/5; 5/64] START colsample_bytree=0.2, max_depth=10, n_estimators=20, reg_alpha=1.3, reg_lambda=1.1, subsample=0.5\n",
      "[11:26:32] WARNING: /Users/travis/build/dmlc/xgboost/src/learner.cc:1115: Starting in XGBoost 1.3.0, the default evaluation metric used with the objective 'binary:logistic' was changed from 'error' to 'logloss'. Explicitly set eval_metric if you'd like to restore the old behavior.\n",
      "[CV 4/5; 5/64] END colsample_bytree=0.2, max_depth=10, n_estimators=20, reg_alpha=1.3, reg_lambda=1.1, subsample=0.5; total time=   0.3s\n",
      "[CV 5/5; 5/64] START colsample_bytree=0.2, max_depth=10, n_estimators=20, reg_alpha=1.3, reg_lambda=1.1, subsample=0.5\n",
      "[11:26:32] WARNING: /Users/travis/build/dmlc/xgboost/src/learner.cc:1115: Starting in XGBoost 1.3.0, the default evaluation metric used with the objective 'binary:logistic' was changed from 'error' to 'logloss'. Explicitly set eval_metric if you'd like to restore the old behavior.\n",
      "[CV 5/5; 5/64] END colsample_bytree=0.2, max_depth=10, n_estimators=20, reg_alpha=1.3, reg_lambda=1.1, subsample=0.5; total time=   0.3s\n",
      "[CV 1/5; 6/64] START colsample_bytree=0.2, max_depth=10, n_estimators=20, reg_alpha=1.3, reg_lambda=1.1, subsample=0.9\n",
      "[11:26:33] WARNING: /Users/travis/build/dmlc/xgboost/src/learner.cc:1115: Starting in XGBoost 1.3.0, the default evaluation metric used with the objective 'binary:logistic' was changed from 'error' to 'logloss'. Explicitly set eval_metric if you'd like to restore the old behavior.\n",
      "[CV 1/5; 6/64] END colsample_bytree=0.2, max_depth=10, n_estimators=20, reg_alpha=1.3, reg_lambda=1.1, subsample=0.9; total time=   0.4s\n",
      "[CV 2/5; 6/64] START colsample_bytree=0.2, max_depth=10, n_estimators=20, reg_alpha=1.3, reg_lambda=1.1, subsample=0.9\n",
      "[11:26:33] WARNING: /Users/travis/build/dmlc/xgboost/src/learner.cc:1115: Starting in XGBoost 1.3.0, the default evaluation metric used with the objective 'binary:logistic' was changed from 'error' to 'logloss'. Explicitly set eval_metric if you'd like to restore the old behavior.\n",
      "[CV 2/5; 6/64] END colsample_bytree=0.2, max_depth=10, n_estimators=20, reg_alpha=1.3, reg_lambda=1.1, subsample=0.9; total time=   0.3s\n",
      "[CV 3/5; 6/64] START colsample_bytree=0.2, max_depth=10, n_estimators=20, reg_alpha=1.3, reg_lambda=1.1, subsample=0.9\n",
      "[11:26:33] WARNING: /Users/travis/build/dmlc/xgboost/src/learner.cc:1115: Starting in XGBoost 1.3.0, the default evaluation metric used with the objective 'binary:logistic' was changed from 'error' to 'logloss'. Explicitly set eval_metric if you'd like to restore the old behavior.\n",
      "[CV 3/5; 6/64] END colsample_bytree=0.2, max_depth=10, n_estimators=20, reg_alpha=1.3, reg_lambda=1.1, subsample=0.9; total time=   0.4s\n",
      "[CV 4/5; 6/64] START colsample_bytree=0.2, max_depth=10, n_estimators=20, reg_alpha=1.3, reg_lambda=1.1, subsample=0.9\n",
      "[11:26:34] WARNING: /Users/travis/build/dmlc/xgboost/src/learner.cc:1115: Starting in XGBoost 1.3.0, the default evaluation metric used with the objective 'binary:logistic' was changed from 'error' to 'logloss'. Explicitly set eval_metric if you'd like to restore the old behavior.\n",
      "[CV 4/5; 6/64] END colsample_bytree=0.2, max_depth=10, n_estimators=20, reg_alpha=1.3, reg_lambda=1.1, subsample=0.9; total time=   0.3s\n",
      "[CV 5/5; 6/64] START colsample_bytree=0.2, max_depth=10, n_estimators=20, reg_alpha=1.3, reg_lambda=1.1, subsample=0.9\n",
      "[11:26:34] WARNING: /Users/travis/build/dmlc/xgboost/src/learner.cc:1115: Starting in XGBoost 1.3.0, the default evaluation metric used with the objective 'binary:logistic' was changed from 'error' to 'logloss'. Explicitly set eval_metric if you'd like to restore the old behavior.\n",
      "[CV 5/5; 6/64] END colsample_bytree=0.2, max_depth=10, n_estimators=20, reg_alpha=1.3, reg_lambda=1.1, subsample=0.9; total time=   0.3s\n",
      "[CV 1/5; 7/64] START colsample_bytree=0.2, max_depth=10, n_estimators=20, reg_alpha=1.3, reg_lambda=1.3, subsample=0.5\n",
      "[11:26:34] WARNING: /Users/travis/build/dmlc/xgboost/src/learner.cc:1115: Starting in XGBoost 1.3.0, the default evaluation metric used with the objective 'binary:logistic' was changed from 'error' to 'logloss'. Explicitly set eval_metric if you'd like to restore the old behavior.\n",
      "[CV 1/5; 7/64] END colsample_bytree=0.2, max_depth=10, n_estimators=20, reg_alpha=1.3, reg_lambda=1.3, subsample=0.5; total time=   0.2s\n",
      "[CV 2/5; 7/64] START colsample_bytree=0.2, max_depth=10, n_estimators=20, reg_alpha=1.3, reg_lambda=1.3, subsample=0.5\n",
      "[11:26:35] WARNING: /Users/travis/build/dmlc/xgboost/src/learner.cc:1115: Starting in XGBoost 1.3.0, the default evaluation metric used with the objective 'binary:logistic' was changed from 'error' to 'logloss'. Explicitly set eval_metric if you'd like to restore the old behavior.\n"
     ]
    },
    {
     "name": "stdout",
     "output_type": "stream",
     "text": [
      "[CV 2/5; 7/64] END colsample_bytree=0.2, max_depth=10, n_estimators=20, reg_alpha=1.3, reg_lambda=1.3, subsample=0.5; total time=   0.3s\n",
      "[CV 3/5; 7/64] START colsample_bytree=0.2, max_depth=10, n_estimators=20, reg_alpha=1.3, reg_lambda=1.3, subsample=0.5\n",
      "[11:26:35] WARNING: /Users/travis/build/dmlc/xgboost/src/learner.cc:1115: Starting in XGBoost 1.3.0, the default evaluation metric used with the objective 'binary:logistic' was changed from 'error' to 'logloss'. Explicitly set eval_metric if you'd like to restore the old behavior.\n",
      "[CV 3/5; 7/64] END colsample_bytree=0.2, max_depth=10, n_estimators=20, reg_alpha=1.3, reg_lambda=1.3, subsample=0.5; total time=   0.3s\n",
      "[CV 4/5; 7/64] START colsample_bytree=0.2, max_depth=10, n_estimators=20, reg_alpha=1.3, reg_lambda=1.3, subsample=0.5\n",
      "[11:26:35] WARNING: /Users/travis/build/dmlc/xgboost/src/learner.cc:1115: Starting in XGBoost 1.3.0, the default evaluation metric used with the objective 'binary:logistic' was changed from 'error' to 'logloss'. Explicitly set eval_metric if you'd like to restore the old behavior.\n",
      "[CV 4/5; 7/64] END colsample_bytree=0.2, max_depth=10, n_estimators=20, reg_alpha=1.3, reg_lambda=1.3, subsample=0.5; total time=   0.2s\n",
      "[CV 5/5; 7/64] START colsample_bytree=0.2, max_depth=10, n_estimators=20, reg_alpha=1.3, reg_lambda=1.3, subsample=0.5\n",
      "[11:26:35] WARNING: /Users/travis/build/dmlc/xgboost/src/learner.cc:1115: Starting in XGBoost 1.3.0, the default evaluation metric used with the objective 'binary:logistic' was changed from 'error' to 'logloss'. Explicitly set eval_metric if you'd like to restore the old behavior.\n",
      "[CV 5/5; 7/64] END colsample_bytree=0.2, max_depth=10, n_estimators=20, reg_alpha=1.3, reg_lambda=1.3, subsample=0.5; total time=   0.3s\n",
      "[CV 1/5; 8/64] START colsample_bytree=0.2, max_depth=10, n_estimators=20, reg_alpha=1.3, reg_lambda=1.3, subsample=0.9\n",
      "[11:26:36] WARNING: /Users/travis/build/dmlc/xgboost/src/learner.cc:1115: Starting in XGBoost 1.3.0, the default evaluation metric used with the objective 'binary:logistic' was changed from 'error' to 'logloss'. Explicitly set eval_metric if you'd like to restore the old behavior.\n",
      "[CV 1/5; 8/64] END colsample_bytree=0.2, max_depth=10, n_estimators=20, reg_alpha=1.3, reg_lambda=1.3, subsample=0.9; total time=   0.3s\n",
      "[CV 2/5; 8/64] START colsample_bytree=0.2, max_depth=10, n_estimators=20, reg_alpha=1.3, reg_lambda=1.3, subsample=0.9\n",
      "[11:26:36] WARNING: /Users/travis/build/dmlc/xgboost/src/learner.cc:1115: Starting in XGBoost 1.3.0, the default evaluation metric used with the objective 'binary:logistic' was changed from 'error' to 'logloss'. Explicitly set eval_metric if you'd like to restore the old behavior.\n",
      "[CV 2/5; 8/64] END colsample_bytree=0.2, max_depth=10, n_estimators=20, reg_alpha=1.3, reg_lambda=1.3, subsample=0.9; total time=   0.3s\n",
      "[CV 3/5; 8/64] START colsample_bytree=0.2, max_depth=10, n_estimators=20, reg_alpha=1.3, reg_lambda=1.3, subsample=0.9\n",
      "[11:26:36] WARNING: /Users/travis/build/dmlc/xgboost/src/learner.cc:1115: Starting in XGBoost 1.3.0, the default evaluation metric used with the objective 'binary:logistic' was changed from 'error' to 'logloss'. Explicitly set eval_metric if you'd like to restore the old behavior.\n",
      "[CV 3/5; 8/64] END colsample_bytree=0.2, max_depth=10, n_estimators=20, reg_alpha=1.3, reg_lambda=1.3, subsample=0.9; total time=   0.3s\n",
      "[CV 4/5; 8/64] START colsample_bytree=0.2, max_depth=10, n_estimators=20, reg_alpha=1.3, reg_lambda=1.3, subsample=0.9\n",
      "[11:26:36] WARNING: /Users/travis/build/dmlc/xgboost/src/learner.cc:1115: Starting in XGBoost 1.3.0, the default evaluation metric used with the objective 'binary:logistic' was changed from 'error' to 'logloss'. Explicitly set eval_metric if you'd like to restore the old behavior.\n",
      "[CV 4/5; 8/64] END colsample_bytree=0.2, max_depth=10, n_estimators=20, reg_alpha=1.3, reg_lambda=1.3, subsample=0.9; total time=   0.3s\n",
      "[CV 5/5; 8/64] START colsample_bytree=0.2, max_depth=10, n_estimators=20, reg_alpha=1.3, reg_lambda=1.3, subsample=0.9\n",
      "[11:26:37] WARNING: /Users/travis/build/dmlc/xgboost/src/learner.cc:1115: Starting in XGBoost 1.3.0, the default evaluation metric used with the objective 'binary:logistic' was changed from 'error' to 'logloss'. Explicitly set eval_metric if you'd like to restore the old behavior.\n",
      "[CV 5/5; 8/64] END colsample_bytree=0.2, max_depth=10, n_estimators=20, reg_alpha=1.3, reg_lambda=1.3, subsample=0.9; total time=   0.3s\n",
      "[CV 1/5; 9/64] START colsample_bytree=0.2, max_depth=10, n_estimators=200, reg_alpha=1.1, reg_lambda=1.1, subsample=0.5\n",
      "[11:26:37] WARNING: /Users/travis/build/dmlc/xgboost/src/learner.cc:1115: Starting in XGBoost 1.3.0, the default evaluation metric used with the objective 'binary:logistic' was changed from 'error' to 'logloss'. Explicitly set eval_metric if you'd like to restore the old behavior.\n",
      "[CV 1/5; 9/64] END colsample_bytree=0.2, max_depth=10, n_estimators=200, reg_alpha=1.1, reg_lambda=1.1, subsample=0.5; total time=   2.0s\n",
      "[CV 2/5; 9/64] START colsample_bytree=0.2, max_depth=10, n_estimators=200, reg_alpha=1.1, reg_lambda=1.1, subsample=0.5\n",
      "[11:26:39] WARNING: /Users/travis/build/dmlc/xgboost/src/learner.cc:1115: Starting in XGBoost 1.3.0, the default evaluation metric used with the objective 'binary:logistic' was changed from 'error' to 'logloss'. Explicitly set eval_metric if you'd like to restore the old behavior.\n",
      "[CV 2/5; 9/64] END colsample_bytree=0.2, max_depth=10, n_estimators=200, reg_alpha=1.1, reg_lambda=1.1, subsample=0.5; total time=   2.1s\n",
      "[CV 3/5; 9/64] START colsample_bytree=0.2, max_depth=10, n_estimators=200, reg_alpha=1.1, reg_lambda=1.1, subsample=0.5\n",
      "[11:26:41] WARNING: /Users/travis/build/dmlc/xgboost/src/learner.cc:1115: Starting in XGBoost 1.3.0, the default evaluation metric used with the objective 'binary:logistic' was changed from 'error' to 'logloss'. Explicitly set eval_metric if you'd like to restore the old behavior.\n",
      "[CV 3/5; 9/64] END colsample_bytree=0.2, max_depth=10, n_estimators=200, reg_alpha=1.1, reg_lambda=1.1, subsample=0.5; total time=   2.1s\n",
      "[CV 4/5; 9/64] START colsample_bytree=0.2, max_depth=10, n_estimators=200, reg_alpha=1.1, reg_lambda=1.1, subsample=0.5\n",
      "[11:26:43] WARNING: /Users/travis/build/dmlc/xgboost/src/learner.cc:1115: Starting in XGBoost 1.3.0, the default evaluation metric used with the objective 'binary:logistic' was changed from 'error' to 'logloss'. Explicitly set eval_metric if you'd like to restore the old behavior.\n",
      "[CV 4/5; 9/64] END colsample_bytree=0.2, max_depth=10, n_estimators=200, reg_alpha=1.1, reg_lambda=1.1, subsample=0.5; total time=   2.5s\n",
      "[CV 5/5; 9/64] START colsample_bytree=0.2, max_depth=10, n_estimators=200, reg_alpha=1.1, reg_lambda=1.1, subsample=0.5\n",
      "[11:26:46] WARNING: /Users/travis/build/dmlc/xgboost/src/learner.cc:1115: Starting in XGBoost 1.3.0, the default evaluation metric used with the objective 'binary:logistic' was changed from 'error' to 'logloss'. Explicitly set eval_metric if you'd like to restore the old behavior.\n",
      "[CV 5/5; 9/64] END colsample_bytree=0.2, max_depth=10, n_estimators=200, reg_alpha=1.1, reg_lambda=1.1, subsample=0.5; total time=   2.6s\n",
      "[CV 1/5; 10/64] START colsample_bytree=0.2, max_depth=10, n_estimators=200, reg_alpha=1.1, reg_lambda=1.1, subsample=0.9\n",
      "[11:26:48] WARNING: /Users/travis/build/dmlc/xgboost/src/learner.cc:1115: Starting in XGBoost 1.3.0, the default evaluation metric used with the objective 'binary:logistic' was changed from 'error' to 'logloss'. Explicitly set eval_metric if you'd like to restore the old behavior.\n",
      "[CV 1/5; 10/64] END colsample_bytree=0.2, max_depth=10, n_estimators=200, reg_alpha=1.1, reg_lambda=1.1, subsample=0.9; total time=   3.0s\n",
      "[CV 2/5; 10/64] START colsample_bytree=0.2, max_depth=10, n_estimators=200, reg_alpha=1.1, reg_lambda=1.1, subsample=0.9\n",
      "[11:26:51] WARNING: /Users/travis/build/dmlc/xgboost/src/learner.cc:1115: Starting in XGBoost 1.3.0, the default evaluation metric used with the objective 'binary:logistic' was changed from 'error' to 'logloss'. Explicitly set eval_metric if you'd like to restore the old behavior.\n",
      "[CV 2/5; 10/64] END colsample_bytree=0.2, max_depth=10, n_estimators=200, reg_alpha=1.1, reg_lambda=1.1, subsample=0.9; total time=   2.7s\n",
      "[CV 3/5; 10/64] START colsample_bytree=0.2, max_depth=10, n_estimators=200, reg_alpha=1.1, reg_lambda=1.1, subsample=0.9\n",
      "[11:26:54] WARNING: /Users/travis/build/dmlc/xgboost/src/learner.cc:1115: Starting in XGBoost 1.3.0, the default evaluation metric used with the objective 'binary:logistic' was changed from 'error' to 'logloss'. Explicitly set eval_metric if you'd like to restore the old behavior.\n"
     ]
    },
    {
     "name": "stdout",
     "output_type": "stream",
     "text": [
      "[CV 3/5; 10/64] END colsample_bytree=0.2, max_depth=10, n_estimators=200, reg_alpha=1.1, reg_lambda=1.1, subsample=0.9; total time=   2.2s\n",
      "[CV 4/5; 10/64] START colsample_bytree=0.2, max_depth=10, n_estimators=200, reg_alpha=1.1, reg_lambda=1.1, subsample=0.9\n",
      "[11:26:56] WARNING: /Users/travis/build/dmlc/xgboost/src/learner.cc:1115: Starting in XGBoost 1.3.0, the default evaluation metric used with the objective 'binary:logistic' was changed from 'error' to 'logloss'. Explicitly set eval_metric if you'd like to restore the old behavior.\n",
      "[CV 4/5; 10/64] END colsample_bytree=0.2, max_depth=10, n_estimators=200, reg_alpha=1.1, reg_lambda=1.1, subsample=0.9; total time=   2.2s\n",
      "[CV 5/5; 10/64] START colsample_bytree=0.2, max_depth=10, n_estimators=200, reg_alpha=1.1, reg_lambda=1.1, subsample=0.9\n",
      "[11:26:58] WARNING: /Users/travis/build/dmlc/xgboost/src/learner.cc:1115: Starting in XGBoost 1.3.0, the default evaluation metric used with the objective 'binary:logistic' was changed from 'error' to 'logloss'. Explicitly set eval_metric if you'd like to restore the old behavior.\n",
      "[CV 5/5; 10/64] END colsample_bytree=0.2, max_depth=10, n_estimators=200, reg_alpha=1.1, reg_lambda=1.1, subsample=0.9; total time=   2.2s\n",
      "[CV 1/5; 11/64] START colsample_bytree=0.2, max_depth=10, n_estimators=200, reg_alpha=1.1, reg_lambda=1.3, subsample=0.5\n",
      "[11:27:01] WARNING: /Users/travis/build/dmlc/xgboost/src/learner.cc:1115: Starting in XGBoost 1.3.0, the default evaluation metric used with the objective 'binary:logistic' was changed from 'error' to 'logloss'. Explicitly set eval_metric if you'd like to restore the old behavior.\n",
      "[CV 1/5; 11/64] END colsample_bytree=0.2, max_depth=10, n_estimators=200, reg_alpha=1.1, reg_lambda=1.3, subsample=0.5; total time=   2.0s\n",
      "[CV 2/5; 11/64] START colsample_bytree=0.2, max_depth=10, n_estimators=200, reg_alpha=1.1, reg_lambda=1.3, subsample=0.5\n",
      "[11:27:03] WARNING: /Users/travis/build/dmlc/xgboost/src/learner.cc:1115: Starting in XGBoost 1.3.0, the default evaluation metric used with the objective 'binary:logistic' was changed from 'error' to 'logloss'. Explicitly set eval_metric if you'd like to restore the old behavior.\n",
      "[CV 2/5; 11/64] END colsample_bytree=0.2, max_depth=10, n_estimators=200, reg_alpha=1.1, reg_lambda=1.3, subsample=0.5; total time=   2.2s\n",
      "[CV 3/5; 11/64] START colsample_bytree=0.2, max_depth=10, n_estimators=200, reg_alpha=1.1, reg_lambda=1.3, subsample=0.5\n",
      "[11:27:05] WARNING: /Users/travis/build/dmlc/xgboost/src/learner.cc:1115: Starting in XGBoost 1.3.0, the default evaluation metric used with the objective 'binary:logistic' was changed from 'error' to 'logloss'. Explicitly set eval_metric if you'd like to restore the old behavior.\n",
      "[CV 3/5; 11/64] END colsample_bytree=0.2, max_depth=10, n_estimators=200, reg_alpha=1.1, reg_lambda=1.3, subsample=0.5; total time=   2.0s\n",
      "[CV 4/5; 11/64] START colsample_bytree=0.2, max_depth=10, n_estimators=200, reg_alpha=1.1, reg_lambda=1.3, subsample=0.5\n",
      "[11:27:07] WARNING: /Users/travis/build/dmlc/xgboost/src/learner.cc:1115: Starting in XGBoost 1.3.0, the default evaluation metric used with the objective 'binary:logistic' was changed from 'error' to 'logloss'. Explicitly set eval_metric if you'd like to restore the old behavior.\n",
      "[CV 4/5; 11/64] END colsample_bytree=0.2, max_depth=10, n_estimators=200, reg_alpha=1.1, reg_lambda=1.3, subsample=0.5; total time=   2.0s\n",
      "[CV 5/5; 11/64] START colsample_bytree=0.2, max_depth=10, n_estimators=200, reg_alpha=1.1, reg_lambda=1.3, subsample=0.5\n",
      "[11:27:09] WARNING: /Users/travis/build/dmlc/xgboost/src/learner.cc:1115: Starting in XGBoost 1.3.0, the default evaluation metric used with the objective 'binary:logistic' was changed from 'error' to 'logloss'. Explicitly set eval_metric if you'd like to restore the old behavior.\n",
      "[CV 5/5; 11/64] END colsample_bytree=0.2, max_depth=10, n_estimators=200, reg_alpha=1.1, reg_lambda=1.3, subsample=0.5; total time=   2.0s\n",
      "[CV 1/5; 12/64] START colsample_bytree=0.2, max_depth=10, n_estimators=200, reg_alpha=1.1, reg_lambda=1.3, subsample=0.9\n",
      "[11:27:11] WARNING: /Users/travis/build/dmlc/xgboost/src/learner.cc:1115: Starting in XGBoost 1.3.0, the default evaluation metric used with the objective 'binary:logistic' was changed from 'error' to 'logloss'. Explicitly set eval_metric if you'd like to restore the old behavior.\n",
      "[CV 1/5; 12/64] END colsample_bytree=0.2, max_depth=10, n_estimators=200, reg_alpha=1.1, reg_lambda=1.3, subsample=0.9; total time=   2.2s\n",
      "[CV 2/5; 12/64] START colsample_bytree=0.2, max_depth=10, n_estimators=200, reg_alpha=1.1, reg_lambda=1.3, subsample=0.9\n",
      "[11:27:13] WARNING: /Users/travis/build/dmlc/xgboost/src/learner.cc:1115: Starting in XGBoost 1.3.0, the default evaluation metric used with the objective 'binary:logistic' was changed from 'error' to 'logloss'. Explicitly set eval_metric if you'd like to restore the old behavior.\n",
      "[CV 2/5; 12/64] END colsample_bytree=0.2, max_depth=10, n_estimators=200, reg_alpha=1.1, reg_lambda=1.3, subsample=0.9; total time=   2.2s\n",
      "[CV 3/5; 12/64] START colsample_bytree=0.2, max_depth=10, n_estimators=200, reg_alpha=1.1, reg_lambda=1.3, subsample=0.9\n",
      "[11:27:15] WARNING: /Users/travis/build/dmlc/xgboost/src/learner.cc:1115: Starting in XGBoost 1.3.0, the default evaluation metric used with the objective 'binary:logistic' was changed from 'error' to 'logloss'. Explicitly set eval_metric if you'd like to restore the old behavior.\n",
      "[CV 3/5; 12/64] END colsample_bytree=0.2, max_depth=10, n_estimators=200, reg_alpha=1.1, reg_lambda=1.3, subsample=0.9; total time=   2.2s\n",
      "[CV 4/5; 12/64] START colsample_bytree=0.2, max_depth=10, n_estimators=200, reg_alpha=1.1, reg_lambda=1.3, subsample=0.9\n",
      "[11:27:18] WARNING: /Users/travis/build/dmlc/xgboost/src/learner.cc:1115: Starting in XGBoost 1.3.0, the default evaluation metric used with the objective 'binary:logistic' was changed from 'error' to 'logloss'. Explicitly set eval_metric if you'd like to restore the old behavior.\n",
      "[CV 4/5; 12/64] END colsample_bytree=0.2, max_depth=10, n_estimators=200, reg_alpha=1.1, reg_lambda=1.3, subsample=0.9; total time=   2.2s\n",
      "[CV 5/5; 12/64] START colsample_bytree=0.2, max_depth=10, n_estimators=200, reg_alpha=1.1, reg_lambda=1.3, subsample=0.9\n",
      "[11:27:20] WARNING: /Users/travis/build/dmlc/xgboost/src/learner.cc:1115: Starting in XGBoost 1.3.0, the default evaluation metric used with the objective 'binary:logistic' was changed from 'error' to 'logloss'. Explicitly set eval_metric if you'd like to restore the old behavior.\n",
      "[CV 5/5; 12/64] END colsample_bytree=0.2, max_depth=10, n_estimators=200, reg_alpha=1.1, reg_lambda=1.3, subsample=0.9; total time=   2.2s\n",
      "[CV 1/5; 13/64] START colsample_bytree=0.2, max_depth=10, n_estimators=200, reg_alpha=1.3, reg_lambda=1.1, subsample=0.5\n",
      "[11:27:22] WARNING: /Users/travis/build/dmlc/xgboost/src/learner.cc:1115: Starting in XGBoost 1.3.0, the default evaluation metric used with the objective 'binary:logistic' was changed from 'error' to 'logloss'. Explicitly set eval_metric if you'd like to restore the old behavior.\n",
      "[CV 1/5; 13/64] END colsample_bytree=0.2, max_depth=10, n_estimators=200, reg_alpha=1.3, reg_lambda=1.1, subsample=0.5; total time=   2.0s\n",
      "[CV 2/5; 13/64] START colsample_bytree=0.2, max_depth=10, n_estimators=200, reg_alpha=1.3, reg_lambda=1.1, subsample=0.5\n",
      "[11:27:24] WARNING: /Users/travis/build/dmlc/xgboost/src/learner.cc:1115: Starting in XGBoost 1.3.0, the default evaluation metric used with the objective 'binary:logistic' was changed from 'error' to 'logloss'. Explicitly set eval_metric if you'd like to restore the old behavior.\n",
      "[CV 2/5; 13/64] END colsample_bytree=0.2, max_depth=10, n_estimators=200, reg_alpha=1.3, reg_lambda=1.1, subsample=0.5; total time=   2.0s\n",
      "[CV 3/5; 13/64] START colsample_bytree=0.2, max_depth=10, n_estimators=200, reg_alpha=1.3, reg_lambda=1.1, subsample=0.5\n",
      "[11:27:26] WARNING: /Users/travis/build/dmlc/xgboost/src/learner.cc:1115: Starting in XGBoost 1.3.0, the default evaluation metric used with the objective 'binary:logistic' was changed from 'error' to 'logloss'. Explicitly set eval_metric if you'd like to restore the old behavior.\n",
      "[CV 3/5; 13/64] END colsample_bytree=0.2, max_depth=10, n_estimators=200, reg_alpha=1.3, reg_lambda=1.1, subsample=0.5; total time=   2.2s\n",
      "[CV 4/5; 13/64] START colsample_bytree=0.2, max_depth=10, n_estimators=200, reg_alpha=1.3, reg_lambda=1.1, subsample=0.5\n",
      "[11:27:28] WARNING: /Users/travis/build/dmlc/xgboost/src/learner.cc:1115: Starting in XGBoost 1.3.0, the default evaluation metric used with the objective 'binary:logistic' was changed from 'error' to 'logloss'. Explicitly set eval_metric if you'd like to restore the old behavior.\n"
     ]
    },
    {
     "name": "stdout",
     "output_type": "stream",
     "text": [
      "[CV 4/5; 13/64] END colsample_bytree=0.2, max_depth=10, n_estimators=200, reg_alpha=1.3, reg_lambda=1.1, subsample=0.5; total time=   2.2s\n",
      "[CV 5/5; 13/64] START colsample_bytree=0.2, max_depth=10, n_estimators=200, reg_alpha=1.3, reg_lambda=1.1, subsample=0.5\n",
      "[11:27:30] WARNING: /Users/travis/build/dmlc/xgboost/src/learner.cc:1115: Starting in XGBoost 1.3.0, the default evaluation metric used with the objective 'binary:logistic' was changed from 'error' to 'logloss'. Explicitly set eval_metric if you'd like to restore the old behavior.\n",
      "[CV 5/5; 13/64] END colsample_bytree=0.2, max_depth=10, n_estimators=200, reg_alpha=1.3, reg_lambda=1.1, subsample=0.5; total time=   2.1s\n",
      "[CV 1/5; 14/64] START colsample_bytree=0.2, max_depth=10, n_estimators=200, reg_alpha=1.3, reg_lambda=1.1, subsample=0.9\n",
      "[11:27:33] WARNING: /Users/travis/build/dmlc/xgboost/src/learner.cc:1115: Starting in XGBoost 1.3.0, the default evaluation metric used with the objective 'binary:logistic' was changed from 'error' to 'logloss'. Explicitly set eval_metric if you'd like to restore the old behavior.\n",
      "[CV 1/5; 14/64] END colsample_bytree=0.2, max_depth=10, n_estimators=200, reg_alpha=1.3, reg_lambda=1.1, subsample=0.9; total time=   2.2s\n",
      "[CV 2/5; 14/64] START colsample_bytree=0.2, max_depth=10, n_estimators=200, reg_alpha=1.3, reg_lambda=1.1, subsample=0.9\n",
      "[11:27:35] WARNING: /Users/travis/build/dmlc/xgboost/src/learner.cc:1115: Starting in XGBoost 1.3.0, the default evaluation metric used with the objective 'binary:logistic' was changed from 'error' to 'logloss'. Explicitly set eval_metric if you'd like to restore the old behavior.\n",
      "[CV 2/5; 14/64] END colsample_bytree=0.2, max_depth=10, n_estimators=200, reg_alpha=1.3, reg_lambda=1.1, subsample=0.9; total time=   2.2s\n",
      "[CV 3/5; 14/64] START colsample_bytree=0.2, max_depth=10, n_estimators=200, reg_alpha=1.3, reg_lambda=1.1, subsample=0.9\n",
      "[11:27:37] WARNING: /Users/travis/build/dmlc/xgboost/src/learner.cc:1115: Starting in XGBoost 1.3.0, the default evaluation metric used with the objective 'binary:logistic' was changed from 'error' to 'logloss'. Explicitly set eval_metric if you'd like to restore the old behavior.\n",
      "[CV 3/5; 14/64] END colsample_bytree=0.2, max_depth=10, n_estimators=200, reg_alpha=1.3, reg_lambda=1.1, subsample=0.9; total time=   2.2s\n",
      "[CV 4/5; 14/64] START colsample_bytree=0.2, max_depth=10, n_estimators=200, reg_alpha=1.3, reg_lambda=1.1, subsample=0.9\n",
      "[11:27:39] WARNING: /Users/travis/build/dmlc/xgboost/src/learner.cc:1115: Starting in XGBoost 1.3.0, the default evaluation metric used with the objective 'binary:logistic' was changed from 'error' to 'logloss'. Explicitly set eval_metric if you'd like to restore the old behavior.\n",
      "[CV 4/5; 14/64] END colsample_bytree=0.2, max_depth=10, n_estimators=200, reg_alpha=1.3, reg_lambda=1.1, subsample=0.9; total time=   2.3s\n",
      "[CV 5/5; 14/64] START colsample_bytree=0.2, max_depth=10, n_estimators=200, reg_alpha=1.3, reg_lambda=1.1, subsample=0.9\n",
      "[11:27:42] WARNING: /Users/travis/build/dmlc/xgboost/src/learner.cc:1115: Starting in XGBoost 1.3.0, the default evaluation metric used with the objective 'binary:logistic' was changed from 'error' to 'logloss'. Explicitly set eval_metric if you'd like to restore the old behavior.\n",
      "[CV 5/5; 14/64] END colsample_bytree=0.2, max_depth=10, n_estimators=200, reg_alpha=1.3, reg_lambda=1.1, subsample=0.9; total time=   2.6s\n",
      "[CV 1/5; 15/64] START colsample_bytree=0.2, max_depth=10, n_estimators=200, reg_alpha=1.3, reg_lambda=1.3, subsample=0.5\n",
      "[11:27:44] WARNING: /Users/travis/build/dmlc/xgboost/src/learner.cc:1115: Starting in XGBoost 1.3.0, the default evaluation metric used with the objective 'binary:logistic' was changed from 'error' to 'logloss'. Explicitly set eval_metric if you'd like to restore the old behavior.\n",
      "[CV 1/5; 15/64] END colsample_bytree=0.2, max_depth=10, n_estimators=200, reg_alpha=1.3, reg_lambda=1.3, subsample=0.5; total time=   2.0s\n",
      "[CV 2/5; 15/64] START colsample_bytree=0.2, max_depth=10, n_estimators=200, reg_alpha=1.3, reg_lambda=1.3, subsample=0.5\n",
      "[11:27:46] WARNING: /Users/travis/build/dmlc/xgboost/src/learner.cc:1115: Starting in XGBoost 1.3.0, the default evaluation metric used with the objective 'binary:logistic' was changed from 'error' to 'logloss'. Explicitly set eval_metric if you'd like to restore the old behavior.\n",
      "[CV 2/5; 15/64] END colsample_bytree=0.2, max_depth=10, n_estimators=200, reg_alpha=1.3, reg_lambda=1.3, subsample=0.5; total time=   2.0s\n",
      "[CV 3/5; 15/64] START colsample_bytree=0.2, max_depth=10, n_estimators=200, reg_alpha=1.3, reg_lambda=1.3, subsample=0.5\n",
      "[11:27:48] WARNING: /Users/travis/build/dmlc/xgboost/src/learner.cc:1115: Starting in XGBoost 1.3.0, the default evaluation metric used with the objective 'binary:logistic' was changed from 'error' to 'logloss'. Explicitly set eval_metric if you'd like to restore the old behavior.\n",
      "[CV 3/5; 15/64] END colsample_bytree=0.2, max_depth=10, n_estimators=200, reg_alpha=1.3, reg_lambda=1.3, subsample=0.5; total time=   2.0s\n",
      "[CV 4/5; 15/64] START colsample_bytree=0.2, max_depth=10, n_estimators=200, reg_alpha=1.3, reg_lambda=1.3, subsample=0.5\n",
      "[11:27:50] WARNING: /Users/travis/build/dmlc/xgboost/src/learner.cc:1115: Starting in XGBoost 1.3.0, the default evaluation metric used with the objective 'binary:logistic' was changed from 'error' to 'logloss'. Explicitly set eval_metric if you'd like to restore the old behavior.\n",
      "[CV 4/5; 15/64] END colsample_bytree=0.2, max_depth=10, n_estimators=200, reg_alpha=1.3, reg_lambda=1.3, subsample=0.5; total time=   2.0s\n",
      "[CV 5/5; 15/64] START colsample_bytree=0.2, max_depth=10, n_estimators=200, reg_alpha=1.3, reg_lambda=1.3, subsample=0.5\n",
      "[11:27:52] WARNING: /Users/travis/build/dmlc/xgboost/src/learner.cc:1115: Starting in XGBoost 1.3.0, the default evaluation metric used with the objective 'binary:logistic' was changed from 'error' to 'logloss'. Explicitly set eval_metric if you'd like to restore the old behavior.\n",
      "[CV 5/5; 15/64] END colsample_bytree=0.2, max_depth=10, n_estimators=200, reg_alpha=1.3, reg_lambda=1.3, subsample=0.5; total time=   2.0s\n",
      "[CV 1/5; 16/64] START colsample_bytree=0.2, max_depth=10, n_estimators=200, reg_alpha=1.3, reg_lambda=1.3, subsample=0.9\n",
      "[11:27:54] WARNING: /Users/travis/build/dmlc/xgboost/src/learner.cc:1115: Starting in XGBoost 1.3.0, the default evaluation metric used with the objective 'binary:logistic' was changed from 'error' to 'logloss'. Explicitly set eval_metric if you'd like to restore the old behavior.\n",
      "[CV 1/5; 16/64] END colsample_bytree=0.2, max_depth=10, n_estimators=200, reg_alpha=1.3, reg_lambda=1.3, subsample=0.9; total time=   2.2s\n",
      "[CV 2/5; 16/64] START colsample_bytree=0.2, max_depth=10, n_estimators=200, reg_alpha=1.3, reg_lambda=1.3, subsample=0.9\n",
      "[11:27:56] WARNING: /Users/travis/build/dmlc/xgboost/src/learner.cc:1115: Starting in XGBoost 1.3.0, the default evaluation metric used with the objective 'binary:logistic' was changed from 'error' to 'logloss'. Explicitly set eval_metric if you'd like to restore the old behavior.\n",
      "[CV 2/5; 16/64] END colsample_bytree=0.2, max_depth=10, n_estimators=200, reg_alpha=1.3, reg_lambda=1.3, subsample=0.9; total time=   2.2s\n",
      "[CV 3/5; 16/64] START colsample_bytree=0.2, max_depth=10, n_estimators=200, reg_alpha=1.3, reg_lambda=1.3, subsample=0.9\n",
      "[11:27:59] WARNING: /Users/travis/build/dmlc/xgboost/src/learner.cc:1115: Starting in XGBoost 1.3.0, the default evaluation metric used with the objective 'binary:logistic' was changed from 'error' to 'logloss'. Explicitly set eval_metric if you'd like to restore the old behavior.\n",
      "[CV 3/5; 16/64] END colsample_bytree=0.2, max_depth=10, n_estimators=200, reg_alpha=1.3, reg_lambda=1.3, subsample=0.9; total time=   2.2s\n",
      "[CV 4/5; 16/64] START colsample_bytree=0.2, max_depth=10, n_estimators=200, reg_alpha=1.3, reg_lambda=1.3, subsample=0.9\n",
      "[11:28:01] WARNING: /Users/travis/build/dmlc/xgboost/src/learner.cc:1115: Starting in XGBoost 1.3.0, the default evaluation metric used with the objective 'binary:logistic' was changed from 'error' to 'logloss'. Explicitly set eval_metric if you'd like to restore the old behavior.\n",
      "[CV 4/5; 16/64] END colsample_bytree=0.2, max_depth=10, n_estimators=200, reg_alpha=1.3, reg_lambda=1.3, subsample=0.9; total time=   2.2s\n",
      "[CV 5/5; 16/64] START colsample_bytree=0.2, max_depth=10, n_estimators=200, reg_alpha=1.3, reg_lambda=1.3, subsample=0.9\n",
      "[11:28:03] WARNING: /Users/travis/build/dmlc/xgboost/src/learner.cc:1115: Starting in XGBoost 1.3.0, the default evaluation metric used with the objective 'binary:logistic' was changed from 'error' to 'logloss'. Explicitly set eval_metric if you'd like to restore the old behavior.\n"
     ]
    },
    {
     "name": "stdout",
     "output_type": "stream",
     "text": [
      "[CV 5/5; 16/64] END colsample_bytree=0.2, max_depth=10, n_estimators=200, reg_alpha=1.3, reg_lambda=1.3, subsample=0.9; total time=   2.2s\n",
      "[CV 1/5; 17/64] START colsample_bytree=0.2, max_depth=50, n_estimators=20, reg_alpha=1.1, reg_lambda=1.1, subsample=0.5\n",
      "[11:28:05] WARNING: /Users/travis/build/dmlc/xgboost/src/learner.cc:1115: Starting in XGBoost 1.3.0, the default evaluation metric used with the objective 'binary:logistic' was changed from 'error' to 'logloss'. Explicitly set eval_metric if you'd like to restore the old behavior.\n",
      "[CV 1/5; 17/64] END colsample_bytree=0.2, max_depth=50, n_estimators=20, reg_alpha=1.1, reg_lambda=1.1, subsample=0.5; total time=   0.3s\n",
      "[CV 2/5; 17/64] START colsample_bytree=0.2, max_depth=50, n_estimators=20, reg_alpha=1.1, reg_lambda=1.1, subsample=0.5\n",
      "[11:28:06] WARNING: /Users/travis/build/dmlc/xgboost/src/learner.cc:1115: Starting in XGBoost 1.3.0, the default evaluation metric used with the objective 'binary:logistic' was changed from 'error' to 'logloss'. Explicitly set eval_metric if you'd like to restore the old behavior.\n",
      "[CV 2/5; 17/64] END colsample_bytree=0.2, max_depth=50, n_estimators=20, reg_alpha=1.1, reg_lambda=1.1, subsample=0.5; total time=   0.3s\n",
      "[CV 3/5; 17/64] START colsample_bytree=0.2, max_depth=50, n_estimators=20, reg_alpha=1.1, reg_lambda=1.1, subsample=0.5\n",
      "[11:28:06] WARNING: /Users/travis/build/dmlc/xgboost/src/learner.cc:1115: Starting in XGBoost 1.3.0, the default evaluation metric used with the objective 'binary:logistic' was changed from 'error' to 'logloss'. Explicitly set eval_metric if you'd like to restore the old behavior.\n",
      "[CV 3/5; 17/64] END colsample_bytree=0.2, max_depth=50, n_estimators=20, reg_alpha=1.1, reg_lambda=1.1, subsample=0.5; total time=   0.3s\n",
      "[CV 4/5; 17/64] START colsample_bytree=0.2, max_depth=50, n_estimators=20, reg_alpha=1.1, reg_lambda=1.1, subsample=0.5\n",
      "[11:28:06] WARNING: /Users/travis/build/dmlc/xgboost/src/learner.cc:1115: Starting in XGBoost 1.3.0, the default evaluation metric used with the objective 'binary:logistic' was changed from 'error' to 'logloss'. Explicitly set eval_metric if you'd like to restore the old behavior.\n",
      "[CV 4/5; 17/64] END colsample_bytree=0.2, max_depth=50, n_estimators=20, reg_alpha=1.1, reg_lambda=1.1, subsample=0.5; total time=   0.3s\n",
      "[CV 5/5; 17/64] START colsample_bytree=0.2, max_depth=50, n_estimators=20, reg_alpha=1.1, reg_lambda=1.1, subsample=0.5\n",
      "[11:28:06] WARNING: /Users/travis/build/dmlc/xgboost/src/learner.cc:1115: Starting in XGBoost 1.3.0, the default evaluation metric used with the objective 'binary:logistic' was changed from 'error' to 'logloss'. Explicitly set eval_metric if you'd like to restore the old behavior.\n",
      "[CV 5/5; 17/64] END colsample_bytree=0.2, max_depth=50, n_estimators=20, reg_alpha=1.1, reg_lambda=1.1, subsample=0.5; total time=   0.3s\n",
      "[CV 1/5; 18/64] START colsample_bytree=0.2, max_depth=50, n_estimators=20, reg_alpha=1.1, reg_lambda=1.1, subsample=0.9\n",
      "[11:28:07] WARNING: /Users/travis/build/dmlc/xgboost/src/learner.cc:1115: Starting in XGBoost 1.3.0, the default evaluation metric used with the objective 'binary:logistic' was changed from 'error' to 'logloss'. Explicitly set eval_metric if you'd like to restore the old behavior.\n",
      "[CV 1/5; 18/64] END colsample_bytree=0.2, max_depth=50, n_estimators=20, reg_alpha=1.1, reg_lambda=1.1, subsample=0.9; total time=   0.3s\n",
      "[CV 2/5; 18/64] START colsample_bytree=0.2, max_depth=50, n_estimators=20, reg_alpha=1.1, reg_lambda=1.1, subsample=0.9\n",
      "[11:28:07] WARNING: /Users/travis/build/dmlc/xgboost/src/learner.cc:1115: Starting in XGBoost 1.3.0, the default evaluation metric used with the objective 'binary:logistic' was changed from 'error' to 'logloss'. Explicitly set eval_metric if you'd like to restore the old behavior.\n",
      "[CV 2/5; 18/64] END colsample_bytree=0.2, max_depth=50, n_estimators=20, reg_alpha=1.1, reg_lambda=1.1, subsample=0.9; total time=   0.3s\n",
      "[CV 3/5; 18/64] START colsample_bytree=0.2, max_depth=50, n_estimators=20, reg_alpha=1.1, reg_lambda=1.1, subsample=0.9\n",
      "[11:28:07] WARNING: /Users/travis/build/dmlc/xgboost/src/learner.cc:1115: Starting in XGBoost 1.3.0, the default evaluation metric used with the objective 'binary:logistic' was changed from 'error' to 'logloss'. Explicitly set eval_metric if you'd like to restore the old behavior.\n",
      "[CV 3/5; 18/64] END colsample_bytree=0.2, max_depth=50, n_estimators=20, reg_alpha=1.1, reg_lambda=1.1, subsample=0.9; total time=   0.3s\n",
      "[CV 4/5; 18/64] START colsample_bytree=0.2, max_depth=50, n_estimators=20, reg_alpha=1.1, reg_lambda=1.1, subsample=0.9\n",
      "[11:28:08] WARNING: /Users/travis/build/dmlc/xgboost/src/learner.cc:1115: Starting in XGBoost 1.3.0, the default evaluation metric used with the objective 'binary:logistic' was changed from 'error' to 'logloss'. Explicitly set eval_metric if you'd like to restore the old behavior.\n",
      "[CV 4/5; 18/64] END colsample_bytree=0.2, max_depth=50, n_estimators=20, reg_alpha=1.1, reg_lambda=1.1, subsample=0.9; total time=   0.3s\n",
      "[CV 5/5; 18/64] START colsample_bytree=0.2, max_depth=50, n_estimators=20, reg_alpha=1.1, reg_lambda=1.1, subsample=0.9\n",
      "[11:28:08] WARNING: /Users/travis/build/dmlc/xgboost/src/learner.cc:1115: Starting in XGBoost 1.3.0, the default evaluation metric used with the objective 'binary:logistic' was changed from 'error' to 'logloss'. Explicitly set eval_metric if you'd like to restore the old behavior.\n",
      "[CV 5/5; 18/64] END colsample_bytree=0.2, max_depth=50, n_estimators=20, reg_alpha=1.1, reg_lambda=1.1, subsample=0.9; total time=   0.3s\n",
      "[CV 1/5; 19/64] START colsample_bytree=0.2, max_depth=50, n_estimators=20, reg_alpha=1.1, reg_lambda=1.3, subsample=0.5\n",
      "[11:28:08] WARNING: /Users/travis/build/dmlc/xgboost/src/learner.cc:1115: Starting in XGBoost 1.3.0, the default evaluation metric used with the objective 'binary:logistic' was changed from 'error' to 'logloss'. Explicitly set eval_metric if you'd like to restore the old behavior.\n",
      "[CV 1/5; 19/64] END colsample_bytree=0.2, max_depth=50, n_estimators=20, reg_alpha=1.1, reg_lambda=1.3, subsample=0.5; total time=   0.3s\n",
      "[CV 2/5; 19/64] START colsample_bytree=0.2, max_depth=50, n_estimators=20, reg_alpha=1.1, reg_lambda=1.3, subsample=0.5\n",
      "[11:28:09] WARNING: /Users/travis/build/dmlc/xgboost/src/learner.cc:1115: Starting in XGBoost 1.3.0, the default evaluation metric used with the objective 'binary:logistic' was changed from 'error' to 'logloss'. Explicitly set eval_metric if you'd like to restore the old behavior.\n",
      "[CV 2/5; 19/64] END colsample_bytree=0.2, max_depth=50, n_estimators=20, reg_alpha=1.1, reg_lambda=1.3, subsample=0.5; total time=   0.3s\n",
      "[CV 3/5; 19/64] START colsample_bytree=0.2, max_depth=50, n_estimators=20, reg_alpha=1.1, reg_lambda=1.3, subsample=0.5\n",
      "[11:28:09] WARNING: /Users/travis/build/dmlc/xgboost/src/learner.cc:1115: Starting in XGBoost 1.3.0, the default evaluation metric used with the objective 'binary:logistic' was changed from 'error' to 'logloss'. Explicitly set eval_metric if you'd like to restore the old behavior.\n",
      "[CV 3/5; 19/64] END colsample_bytree=0.2, max_depth=50, n_estimators=20, reg_alpha=1.1, reg_lambda=1.3, subsample=0.5; total time=   0.3s\n",
      "[CV 4/5; 19/64] START colsample_bytree=0.2, max_depth=50, n_estimators=20, reg_alpha=1.1, reg_lambda=1.3, subsample=0.5\n",
      "[11:28:09] WARNING: /Users/travis/build/dmlc/xgboost/src/learner.cc:1115: Starting in XGBoost 1.3.0, the default evaluation metric used with the objective 'binary:logistic' was changed from 'error' to 'logloss'. Explicitly set eval_metric if you'd like to restore the old behavior.\n",
      "[CV 4/5; 19/64] END colsample_bytree=0.2, max_depth=50, n_estimators=20, reg_alpha=1.1, reg_lambda=1.3, subsample=0.5; total time=   0.3s\n",
      "[CV 5/5; 19/64] START colsample_bytree=0.2, max_depth=50, n_estimators=20, reg_alpha=1.1, reg_lambda=1.3, subsample=0.5\n",
      "[11:28:10] WARNING: /Users/travis/build/dmlc/xgboost/src/learner.cc:1115: Starting in XGBoost 1.3.0, the default evaluation metric used with the objective 'binary:logistic' was changed from 'error' to 'logloss'. Explicitly set eval_metric if you'd like to restore the old behavior.\n",
      "[CV 5/5; 19/64] END colsample_bytree=0.2, max_depth=50, n_estimators=20, reg_alpha=1.1, reg_lambda=1.3, subsample=0.5; total time=   0.3s\n",
      "[CV 1/5; 20/64] START colsample_bytree=0.2, max_depth=50, n_estimators=20, reg_alpha=1.1, reg_lambda=1.3, subsample=0.9\n",
      "[11:28:10] WARNING: /Users/travis/build/dmlc/xgboost/src/learner.cc:1115: Starting in XGBoost 1.3.0, the default evaluation metric used with the objective 'binary:logistic' was changed from 'error' to 'logloss'. Explicitly set eval_metric if you'd like to restore the old behavior.\n"
     ]
    },
    {
     "name": "stdout",
     "output_type": "stream",
     "text": [
      "[CV 1/5; 20/64] END colsample_bytree=0.2, max_depth=50, n_estimators=20, reg_alpha=1.1, reg_lambda=1.3, subsample=0.9; total time=   0.4s\n",
      "[CV 2/5; 20/64] START colsample_bytree=0.2, max_depth=50, n_estimators=20, reg_alpha=1.1, reg_lambda=1.3, subsample=0.9\n",
      "[11:28:10] WARNING: /Users/travis/build/dmlc/xgboost/src/learner.cc:1115: Starting in XGBoost 1.3.0, the default evaluation metric used with the objective 'binary:logistic' was changed from 'error' to 'logloss'. Explicitly set eval_metric if you'd like to restore the old behavior.\n",
      "[CV 2/5; 20/64] END colsample_bytree=0.2, max_depth=50, n_estimators=20, reg_alpha=1.1, reg_lambda=1.3, subsample=0.9; total time=   0.3s\n",
      "[CV 3/5; 20/64] START colsample_bytree=0.2, max_depth=50, n_estimators=20, reg_alpha=1.1, reg_lambda=1.3, subsample=0.9\n",
      "[11:28:11] WARNING: /Users/travis/build/dmlc/xgboost/src/learner.cc:1115: Starting in XGBoost 1.3.0, the default evaluation metric used with the objective 'binary:logistic' was changed from 'error' to 'logloss'. Explicitly set eval_metric if you'd like to restore the old behavior.\n",
      "[CV 3/5; 20/64] END colsample_bytree=0.2, max_depth=50, n_estimators=20, reg_alpha=1.1, reg_lambda=1.3, subsample=0.9; total time=   0.3s\n",
      "[CV 4/5; 20/64] START colsample_bytree=0.2, max_depth=50, n_estimators=20, reg_alpha=1.1, reg_lambda=1.3, subsample=0.9\n",
      "[11:28:11] WARNING: /Users/travis/build/dmlc/xgboost/src/learner.cc:1115: Starting in XGBoost 1.3.0, the default evaluation metric used with the objective 'binary:logistic' was changed from 'error' to 'logloss'. Explicitly set eval_metric if you'd like to restore the old behavior.\n",
      "[CV 4/5; 20/64] END colsample_bytree=0.2, max_depth=50, n_estimators=20, reg_alpha=1.1, reg_lambda=1.3, subsample=0.9; total time=   0.3s\n",
      "[CV 5/5; 20/64] START colsample_bytree=0.2, max_depth=50, n_estimators=20, reg_alpha=1.1, reg_lambda=1.3, subsample=0.9\n",
      "[11:28:11] WARNING: /Users/travis/build/dmlc/xgboost/src/learner.cc:1115: Starting in XGBoost 1.3.0, the default evaluation metric used with the objective 'binary:logistic' was changed from 'error' to 'logloss'. Explicitly set eval_metric if you'd like to restore the old behavior.\n",
      "[CV 5/5; 20/64] END colsample_bytree=0.2, max_depth=50, n_estimators=20, reg_alpha=1.1, reg_lambda=1.3, subsample=0.9; total time=   0.4s\n",
      "[CV 1/5; 21/64] START colsample_bytree=0.2, max_depth=50, n_estimators=20, reg_alpha=1.3, reg_lambda=1.1, subsample=0.5\n",
      "[11:28:12] WARNING: /Users/travis/build/dmlc/xgboost/src/learner.cc:1115: Starting in XGBoost 1.3.0, the default evaluation metric used with the objective 'binary:logistic' was changed from 'error' to 'logloss'. Explicitly set eval_metric if you'd like to restore the old behavior.\n",
      "[CV 1/5; 21/64] END colsample_bytree=0.2, max_depth=50, n_estimators=20, reg_alpha=1.3, reg_lambda=1.1, subsample=0.5; total time=   0.3s\n",
      "[CV 2/5; 21/64] START colsample_bytree=0.2, max_depth=50, n_estimators=20, reg_alpha=1.3, reg_lambda=1.1, subsample=0.5\n",
      "[11:28:12] WARNING: /Users/travis/build/dmlc/xgboost/src/learner.cc:1115: Starting in XGBoost 1.3.0, the default evaluation metric used with the objective 'binary:logistic' was changed from 'error' to 'logloss'. Explicitly set eval_metric if you'd like to restore the old behavior.\n",
      "[CV 2/5; 21/64] END colsample_bytree=0.2, max_depth=50, n_estimators=20, reg_alpha=1.3, reg_lambda=1.1, subsample=0.5; total time=   0.3s\n",
      "[CV 3/5; 21/64] START colsample_bytree=0.2, max_depth=50, n_estimators=20, reg_alpha=1.3, reg_lambda=1.1, subsample=0.5\n",
      "[11:28:12] WARNING: /Users/travis/build/dmlc/xgboost/src/learner.cc:1115: Starting in XGBoost 1.3.0, the default evaluation metric used with the objective 'binary:logistic' was changed from 'error' to 'logloss'. Explicitly set eval_metric if you'd like to restore the old behavior.\n",
      "[CV 3/5; 21/64] END colsample_bytree=0.2, max_depth=50, n_estimators=20, reg_alpha=1.3, reg_lambda=1.1, subsample=0.5; total time=   0.3s\n",
      "[CV 4/5; 21/64] START colsample_bytree=0.2, max_depth=50, n_estimators=20, reg_alpha=1.3, reg_lambda=1.1, subsample=0.5\n",
      "[11:28:12] WARNING: /Users/travis/build/dmlc/xgboost/src/learner.cc:1115: Starting in XGBoost 1.3.0, the default evaluation metric used with the objective 'binary:logistic' was changed from 'error' to 'logloss'. Explicitly set eval_metric if you'd like to restore the old behavior.\n",
      "[CV 4/5; 21/64] END colsample_bytree=0.2, max_depth=50, n_estimators=20, reg_alpha=1.3, reg_lambda=1.1, subsample=0.5; total time=   0.3s\n",
      "[CV 5/5; 21/64] START colsample_bytree=0.2, max_depth=50, n_estimators=20, reg_alpha=1.3, reg_lambda=1.1, subsample=0.5\n",
      "[11:28:13] WARNING: /Users/travis/build/dmlc/xgboost/src/learner.cc:1115: Starting in XGBoost 1.3.0, the default evaluation metric used with the objective 'binary:logistic' was changed from 'error' to 'logloss'. Explicitly set eval_metric if you'd like to restore the old behavior.\n",
      "[CV 5/5; 21/64] END colsample_bytree=0.2, max_depth=50, n_estimators=20, reg_alpha=1.3, reg_lambda=1.1, subsample=0.5; total time=   0.3s\n",
      "[CV 1/5; 22/64] START colsample_bytree=0.2, max_depth=50, n_estimators=20, reg_alpha=1.3, reg_lambda=1.1, subsample=0.9\n",
      "[11:28:13] WARNING: /Users/travis/build/dmlc/xgboost/src/learner.cc:1115: Starting in XGBoost 1.3.0, the default evaluation metric used with the objective 'binary:logistic' was changed from 'error' to 'logloss'. Explicitly set eval_metric if you'd like to restore the old behavior.\n",
      "[CV 1/5; 22/64] END colsample_bytree=0.2, max_depth=50, n_estimators=20, reg_alpha=1.3, reg_lambda=1.1, subsample=0.9; total time=   0.4s\n",
      "[CV 2/5; 22/64] START colsample_bytree=0.2, max_depth=50, n_estimators=20, reg_alpha=1.3, reg_lambda=1.1, subsample=0.9\n",
      "[11:28:13] WARNING: /Users/travis/build/dmlc/xgboost/src/learner.cc:1115: Starting in XGBoost 1.3.0, the default evaluation metric used with the objective 'binary:logistic' was changed from 'error' to 'logloss'. Explicitly set eval_metric if you'd like to restore the old behavior.\n",
      "[CV 2/5; 22/64] END colsample_bytree=0.2, max_depth=50, n_estimators=20, reg_alpha=1.3, reg_lambda=1.1, subsample=0.9; total time=   0.3s\n",
      "[CV 3/5; 22/64] START colsample_bytree=0.2, max_depth=50, n_estimators=20, reg_alpha=1.3, reg_lambda=1.1, subsample=0.9\n",
      "[11:28:14] WARNING: /Users/travis/build/dmlc/xgboost/src/learner.cc:1115: Starting in XGBoost 1.3.0, the default evaluation metric used with the objective 'binary:logistic' was changed from 'error' to 'logloss'. Explicitly set eval_metric if you'd like to restore the old behavior.\n",
      "[CV 3/5; 22/64] END colsample_bytree=0.2, max_depth=50, n_estimators=20, reg_alpha=1.3, reg_lambda=1.1, subsample=0.9; total time=   0.3s\n",
      "[CV 4/5; 22/64] START colsample_bytree=0.2, max_depth=50, n_estimators=20, reg_alpha=1.3, reg_lambda=1.1, subsample=0.9\n",
      "[11:28:14] WARNING: /Users/travis/build/dmlc/xgboost/src/learner.cc:1115: Starting in XGBoost 1.3.0, the default evaluation metric used with the objective 'binary:logistic' was changed from 'error' to 'logloss'. Explicitly set eval_metric if you'd like to restore the old behavior.\n",
      "[CV 4/5; 22/64] END colsample_bytree=0.2, max_depth=50, n_estimators=20, reg_alpha=1.3, reg_lambda=1.1, subsample=0.9; total time=   0.3s\n",
      "[CV 5/5; 22/64] START colsample_bytree=0.2, max_depth=50, n_estimators=20, reg_alpha=1.3, reg_lambda=1.1, subsample=0.9\n",
      "[11:28:14] WARNING: /Users/travis/build/dmlc/xgboost/src/learner.cc:1115: Starting in XGBoost 1.3.0, the default evaluation metric used with the objective 'binary:logistic' was changed from 'error' to 'logloss'. Explicitly set eval_metric if you'd like to restore the old behavior.\n",
      "[CV 5/5; 22/64] END colsample_bytree=0.2, max_depth=50, n_estimators=20, reg_alpha=1.3, reg_lambda=1.1, subsample=0.9; total time=   0.3s\n",
      "[CV 1/5; 23/64] START colsample_bytree=0.2, max_depth=50, n_estimators=20, reg_alpha=1.3, reg_lambda=1.3, subsample=0.5\n",
      "[11:28:15] WARNING: /Users/travis/build/dmlc/xgboost/src/learner.cc:1115: Starting in XGBoost 1.3.0, the default evaluation metric used with the objective 'binary:logistic' was changed from 'error' to 'logloss'. Explicitly set eval_metric if you'd like to restore the old behavior.\n",
      "[CV 1/5; 23/64] END colsample_bytree=0.2, max_depth=50, n_estimators=20, reg_alpha=1.3, reg_lambda=1.3, subsample=0.5; total time=   0.3s\n",
      "[CV 2/5; 23/64] START colsample_bytree=0.2, max_depth=50, n_estimators=20, reg_alpha=1.3, reg_lambda=1.3, subsample=0.5\n",
      "[11:28:15] WARNING: /Users/travis/build/dmlc/xgboost/src/learner.cc:1115: Starting in XGBoost 1.3.0, the default evaluation metric used with the objective 'binary:logistic' was changed from 'error' to 'logloss'. Explicitly set eval_metric if you'd like to restore the old behavior.\n"
     ]
    },
    {
     "name": "stdout",
     "output_type": "stream",
     "text": [
      "[CV 2/5; 23/64] END colsample_bytree=0.2, max_depth=50, n_estimators=20, reg_alpha=1.3, reg_lambda=1.3, subsample=0.5; total time=   0.3s\n",
      "[CV 3/5; 23/64] START colsample_bytree=0.2, max_depth=50, n_estimators=20, reg_alpha=1.3, reg_lambda=1.3, subsample=0.5\n",
      "[11:28:15] WARNING: /Users/travis/build/dmlc/xgboost/src/learner.cc:1115: Starting in XGBoost 1.3.0, the default evaluation metric used with the objective 'binary:logistic' was changed from 'error' to 'logloss'. Explicitly set eval_metric if you'd like to restore the old behavior.\n",
      "[CV 3/5; 23/64] END colsample_bytree=0.2, max_depth=50, n_estimators=20, reg_alpha=1.3, reg_lambda=1.3, subsample=0.5; total time=   0.3s\n",
      "[CV 4/5; 23/64] START colsample_bytree=0.2, max_depth=50, n_estimators=20, reg_alpha=1.3, reg_lambda=1.3, subsample=0.5\n",
      "[11:28:16] WARNING: /Users/travis/build/dmlc/xgboost/src/learner.cc:1115: Starting in XGBoost 1.3.0, the default evaluation metric used with the objective 'binary:logistic' was changed from 'error' to 'logloss'. Explicitly set eval_metric if you'd like to restore the old behavior.\n",
      "[CV 4/5; 23/64] END colsample_bytree=0.2, max_depth=50, n_estimators=20, reg_alpha=1.3, reg_lambda=1.3, subsample=0.5; total time=   0.3s\n",
      "[CV 5/5; 23/64] START colsample_bytree=0.2, max_depth=50, n_estimators=20, reg_alpha=1.3, reg_lambda=1.3, subsample=0.5\n",
      "[11:28:16] WARNING: /Users/travis/build/dmlc/xgboost/src/learner.cc:1115: Starting in XGBoost 1.3.0, the default evaluation metric used with the objective 'binary:logistic' was changed from 'error' to 'logloss'. Explicitly set eval_metric if you'd like to restore the old behavior.\n",
      "[CV 5/5; 23/64] END colsample_bytree=0.2, max_depth=50, n_estimators=20, reg_alpha=1.3, reg_lambda=1.3, subsample=0.5; total time=   0.3s\n",
      "[CV 1/5; 24/64] START colsample_bytree=0.2, max_depth=50, n_estimators=20, reg_alpha=1.3, reg_lambda=1.3, subsample=0.9\n",
      "[11:28:16] WARNING: /Users/travis/build/dmlc/xgboost/src/learner.cc:1115: Starting in XGBoost 1.3.0, the default evaluation metric used with the objective 'binary:logistic' was changed from 'error' to 'logloss'. Explicitly set eval_metric if you'd like to restore the old behavior.\n",
      "[CV 1/5; 24/64] END colsample_bytree=0.2, max_depth=50, n_estimators=20, reg_alpha=1.3, reg_lambda=1.3, subsample=0.9; total time=   0.3s\n",
      "[CV 2/5; 24/64] START colsample_bytree=0.2, max_depth=50, n_estimators=20, reg_alpha=1.3, reg_lambda=1.3, subsample=0.9\n",
      "[11:28:16] WARNING: /Users/travis/build/dmlc/xgboost/src/learner.cc:1115: Starting in XGBoost 1.3.0, the default evaluation metric used with the objective 'binary:logistic' was changed from 'error' to 'logloss'. Explicitly set eval_metric if you'd like to restore the old behavior.\n",
      "[CV 2/5; 24/64] END colsample_bytree=0.2, max_depth=50, n_estimators=20, reg_alpha=1.3, reg_lambda=1.3, subsample=0.9; total time=   0.3s\n",
      "[CV 3/5; 24/64] START colsample_bytree=0.2, max_depth=50, n_estimators=20, reg_alpha=1.3, reg_lambda=1.3, subsample=0.9\n",
      "[11:28:17] WARNING: /Users/travis/build/dmlc/xgboost/src/learner.cc:1115: Starting in XGBoost 1.3.0, the default evaluation metric used with the objective 'binary:logistic' was changed from 'error' to 'logloss'. Explicitly set eval_metric if you'd like to restore the old behavior.\n",
      "[CV 3/5; 24/64] END colsample_bytree=0.2, max_depth=50, n_estimators=20, reg_alpha=1.3, reg_lambda=1.3, subsample=0.9; total time=   0.3s\n",
      "[CV 4/5; 24/64] START colsample_bytree=0.2, max_depth=50, n_estimators=20, reg_alpha=1.3, reg_lambda=1.3, subsample=0.9\n",
      "[11:28:17] WARNING: /Users/travis/build/dmlc/xgboost/src/learner.cc:1115: Starting in XGBoost 1.3.0, the default evaluation metric used with the objective 'binary:logistic' was changed from 'error' to 'logloss'. Explicitly set eval_metric if you'd like to restore the old behavior.\n",
      "[CV 4/5; 24/64] END colsample_bytree=0.2, max_depth=50, n_estimators=20, reg_alpha=1.3, reg_lambda=1.3, subsample=0.9; total time=   0.3s\n",
      "[CV 5/5; 24/64] START colsample_bytree=0.2, max_depth=50, n_estimators=20, reg_alpha=1.3, reg_lambda=1.3, subsample=0.9\n",
      "[11:28:17] WARNING: /Users/travis/build/dmlc/xgboost/src/learner.cc:1115: Starting in XGBoost 1.3.0, the default evaluation metric used with the objective 'binary:logistic' was changed from 'error' to 'logloss'. Explicitly set eval_metric if you'd like to restore the old behavior.\n",
      "[CV 5/5; 24/64] END colsample_bytree=0.2, max_depth=50, n_estimators=20, reg_alpha=1.3, reg_lambda=1.3, subsample=0.9; total time=   0.3s\n",
      "[CV 1/5; 25/64] START colsample_bytree=0.2, max_depth=50, n_estimators=200, reg_alpha=1.1, reg_lambda=1.1, subsample=0.5\n",
      "[11:28:18] WARNING: /Users/travis/build/dmlc/xgboost/src/learner.cc:1115: Starting in XGBoost 1.3.0, the default evaluation metric used with the objective 'binary:logistic' was changed from 'error' to 'logloss'. Explicitly set eval_metric if you'd like to restore the old behavior.\n",
      "[CV 1/5; 25/64] END colsample_bytree=0.2, max_depth=50, n_estimators=200, reg_alpha=1.1, reg_lambda=1.1, subsample=0.5; total time=   2.6s\n",
      "[CV 2/5; 25/64] START colsample_bytree=0.2, max_depth=50, n_estimators=200, reg_alpha=1.1, reg_lambda=1.1, subsample=0.5\n",
      "[11:28:20] WARNING: /Users/travis/build/dmlc/xgboost/src/learner.cc:1115: Starting in XGBoost 1.3.0, the default evaluation metric used with the objective 'binary:logistic' was changed from 'error' to 'logloss'. Explicitly set eval_metric if you'd like to restore the old behavior.\n",
      "[CV 2/5; 25/64] END colsample_bytree=0.2, max_depth=50, n_estimators=200, reg_alpha=1.1, reg_lambda=1.1, subsample=0.5; total time=   2.6s\n",
      "[CV 3/5; 25/64] START colsample_bytree=0.2, max_depth=50, n_estimators=200, reg_alpha=1.1, reg_lambda=1.1, subsample=0.5\n",
      "[11:28:23] WARNING: /Users/travis/build/dmlc/xgboost/src/learner.cc:1115: Starting in XGBoost 1.3.0, the default evaluation metric used with the objective 'binary:logistic' was changed from 'error' to 'logloss'. Explicitly set eval_metric if you'd like to restore the old behavior.\n",
      "[CV 3/5; 25/64] END colsample_bytree=0.2, max_depth=50, n_estimators=200, reg_alpha=1.1, reg_lambda=1.1, subsample=0.5; total time=   2.9s\n",
      "[CV 4/5; 25/64] START colsample_bytree=0.2, max_depth=50, n_estimators=200, reg_alpha=1.1, reg_lambda=1.1, subsample=0.5\n",
      "[11:28:26] WARNING: /Users/travis/build/dmlc/xgboost/src/learner.cc:1115: Starting in XGBoost 1.3.0, the default evaluation metric used with the objective 'binary:logistic' was changed from 'error' to 'logloss'. Explicitly set eval_metric if you'd like to restore the old behavior.\n",
      "[CV 4/5; 25/64] END colsample_bytree=0.2, max_depth=50, n_estimators=200, reg_alpha=1.1, reg_lambda=1.1, subsample=0.5; total time=   2.6s\n",
      "[CV 5/5; 25/64] START colsample_bytree=0.2, max_depth=50, n_estimators=200, reg_alpha=1.1, reg_lambda=1.1, subsample=0.5\n",
      "[11:28:29] WARNING: /Users/travis/build/dmlc/xgboost/src/learner.cc:1115: Starting in XGBoost 1.3.0, the default evaluation metric used with the objective 'binary:logistic' was changed from 'error' to 'logloss'. Explicitly set eval_metric if you'd like to restore the old behavior.\n",
      "[CV 5/5; 25/64] END colsample_bytree=0.2, max_depth=50, n_estimators=200, reg_alpha=1.1, reg_lambda=1.1, subsample=0.5; total time=   2.6s\n",
      "[CV 1/5; 26/64] START colsample_bytree=0.2, max_depth=50, n_estimators=200, reg_alpha=1.1, reg_lambda=1.1, subsample=0.9\n",
      "[11:28:31] WARNING: /Users/travis/build/dmlc/xgboost/src/learner.cc:1115: Starting in XGBoost 1.3.0, the default evaluation metric used with the objective 'binary:logistic' was changed from 'error' to 'logloss'. Explicitly set eval_metric if you'd like to restore the old behavior.\n",
      "[CV 1/5; 26/64] END colsample_bytree=0.2, max_depth=50, n_estimators=200, reg_alpha=1.1, reg_lambda=1.1, subsample=0.9; total time=   3.2s\n",
      "[CV 2/5; 26/64] START colsample_bytree=0.2, max_depth=50, n_estimators=200, reg_alpha=1.1, reg_lambda=1.1, subsample=0.9\n",
      "[11:28:34] WARNING: /Users/travis/build/dmlc/xgboost/src/learner.cc:1115: Starting in XGBoost 1.3.0, the default evaluation metric used with the objective 'binary:logistic' was changed from 'error' to 'logloss'. Explicitly set eval_metric if you'd like to restore the old behavior.\n",
      "[CV 2/5; 26/64] END colsample_bytree=0.2, max_depth=50, n_estimators=200, reg_alpha=1.1, reg_lambda=1.1, subsample=0.9; total time=   3.1s\n",
      "[CV 3/5; 26/64] START colsample_bytree=0.2, max_depth=50, n_estimators=200, reg_alpha=1.1, reg_lambda=1.1, subsample=0.9\n",
      "[11:28:37] WARNING: /Users/travis/build/dmlc/xgboost/src/learner.cc:1115: Starting in XGBoost 1.3.0, the default evaluation metric used with the objective 'binary:logistic' was changed from 'error' to 'logloss'. Explicitly set eval_metric if you'd like to restore the old behavior.\n"
     ]
    },
    {
     "name": "stdout",
     "output_type": "stream",
     "text": [
      "[CV 3/5; 26/64] END colsample_bytree=0.2, max_depth=50, n_estimators=200, reg_alpha=1.1, reg_lambda=1.1, subsample=0.9; total time=   3.1s\n",
      "[CV 4/5; 26/64] START colsample_bytree=0.2, max_depth=50, n_estimators=200, reg_alpha=1.1, reg_lambda=1.1, subsample=0.9\n",
      "[11:28:41] WARNING: /Users/travis/build/dmlc/xgboost/src/learner.cc:1115: Starting in XGBoost 1.3.0, the default evaluation metric used with the objective 'binary:logistic' was changed from 'error' to 'logloss'. Explicitly set eval_metric if you'd like to restore the old behavior.\n",
      "[CV 4/5; 26/64] END colsample_bytree=0.2, max_depth=50, n_estimators=200, reg_alpha=1.1, reg_lambda=1.1, subsample=0.9; total time=   3.4s\n",
      "[CV 5/5; 26/64] START colsample_bytree=0.2, max_depth=50, n_estimators=200, reg_alpha=1.1, reg_lambda=1.1, subsample=0.9\n",
      "[11:28:44] WARNING: /Users/travis/build/dmlc/xgboost/src/learner.cc:1115: Starting in XGBoost 1.3.0, the default evaluation metric used with the objective 'binary:logistic' was changed from 'error' to 'logloss'. Explicitly set eval_metric if you'd like to restore the old behavior.\n",
      "[CV 5/5; 26/64] END colsample_bytree=0.2, max_depth=50, n_estimators=200, reg_alpha=1.1, reg_lambda=1.1, subsample=0.9; total time=   3.1s\n",
      "[CV 1/5; 27/64] START colsample_bytree=0.2, max_depth=50, n_estimators=200, reg_alpha=1.1, reg_lambda=1.3, subsample=0.5\n",
      "[11:28:47] WARNING: /Users/travis/build/dmlc/xgboost/src/learner.cc:1115: Starting in XGBoost 1.3.0, the default evaluation metric used with the objective 'binary:logistic' was changed from 'error' to 'logloss'. Explicitly set eval_metric if you'd like to restore the old behavior.\n",
      "[CV 1/5; 27/64] END colsample_bytree=0.2, max_depth=50, n_estimators=200, reg_alpha=1.1, reg_lambda=1.3, subsample=0.5; total time=   2.6s\n",
      "[CV 2/5; 27/64] START colsample_bytree=0.2, max_depth=50, n_estimators=200, reg_alpha=1.1, reg_lambda=1.3, subsample=0.5\n",
      "[11:28:50] WARNING: /Users/travis/build/dmlc/xgboost/src/learner.cc:1115: Starting in XGBoost 1.3.0, the default evaluation metric used with the objective 'binary:logistic' was changed from 'error' to 'logloss'. Explicitly set eval_metric if you'd like to restore the old behavior.\n",
      "[CV 2/5; 27/64] END colsample_bytree=0.2, max_depth=50, n_estimators=200, reg_alpha=1.1, reg_lambda=1.3, subsample=0.5; total time=   2.6s\n",
      "[CV 3/5; 27/64] START colsample_bytree=0.2, max_depth=50, n_estimators=200, reg_alpha=1.1, reg_lambda=1.3, subsample=0.5\n",
      "[11:28:52] WARNING: /Users/travis/build/dmlc/xgboost/src/learner.cc:1115: Starting in XGBoost 1.3.0, the default evaluation metric used with the objective 'binary:logistic' was changed from 'error' to 'logloss'. Explicitly set eval_metric if you'd like to restore the old behavior.\n",
      "[CV 3/5; 27/64] END colsample_bytree=0.2, max_depth=50, n_estimators=200, reg_alpha=1.1, reg_lambda=1.3, subsample=0.5; total time=   2.6s\n",
      "[CV 4/5; 27/64] START colsample_bytree=0.2, max_depth=50, n_estimators=200, reg_alpha=1.1, reg_lambda=1.3, subsample=0.5\n",
      "[11:28:55] WARNING: /Users/travis/build/dmlc/xgboost/src/learner.cc:1115: Starting in XGBoost 1.3.0, the default evaluation metric used with the objective 'binary:logistic' was changed from 'error' to 'logloss'. Explicitly set eval_metric if you'd like to restore the old behavior.\n",
      "[CV 4/5; 27/64] END colsample_bytree=0.2, max_depth=50, n_estimators=200, reg_alpha=1.1, reg_lambda=1.3, subsample=0.5; total time=   2.6s\n",
      "[CV 5/5; 27/64] START colsample_bytree=0.2, max_depth=50, n_estimators=200, reg_alpha=1.1, reg_lambda=1.3, subsample=0.5\n",
      "[11:28:57] WARNING: /Users/travis/build/dmlc/xgboost/src/learner.cc:1115: Starting in XGBoost 1.3.0, the default evaluation metric used with the objective 'binary:logistic' was changed from 'error' to 'logloss'. Explicitly set eval_metric if you'd like to restore the old behavior.\n",
      "[CV 5/5; 27/64] END colsample_bytree=0.2, max_depth=50, n_estimators=200, reg_alpha=1.1, reg_lambda=1.3, subsample=0.5; total time=   2.6s\n",
      "[CV 1/5; 28/64] START colsample_bytree=0.2, max_depth=50, n_estimators=200, reg_alpha=1.1, reg_lambda=1.3, subsample=0.9\n",
      "[11:29:00] WARNING: /Users/travis/build/dmlc/xgboost/src/learner.cc:1115: Starting in XGBoost 1.3.0, the default evaluation metric used with the objective 'binary:logistic' was changed from 'error' to 'logloss'. Explicitly set eval_metric if you'd like to restore the old behavior.\n",
      "[CV 1/5; 28/64] END colsample_bytree=0.2, max_depth=50, n_estimators=200, reg_alpha=1.1, reg_lambda=1.3, subsample=0.9; total time=   3.1s\n",
      "[CV 2/5; 28/64] START colsample_bytree=0.2, max_depth=50, n_estimators=200, reg_alpha=1.1, reg_lambda=1.3, subsample=0.9\n",
      "[11:29:03] WARNING: /Users/travis/build/dmlc/xgboost/src/learner.cc:1115: Starting in XGBoost 1.3.0, the default evaluation metric used with the objective 'binary:logistic' was changed from 'error' to 'logloss'. Explicitly set eval_metric if you'd like to restore the old behavior.\n",
      "[CV 2/5; 28/64] END colsample_bytree=0.2, max_depth=50, n_estimators=200, reg_alpha=1.1, reg_lambda=1.3, subsample=0.9; total time=   3.1s\n",
      "[CV 3/5; 28/64] START colsample_bytree=0.2, max_depth=50, n_estimators=200, reg_alpha=1.1, reg_lambda=1.3, subsample=0.9\n",
      "[11:29:06] WARNING: /Users/travis/build/dmlc/xgboost/src/learner.cc:1115: Starting in XGBoost 1.3.0, the default evaluation metric used with the objective 'binary:logistic' was changed from 'error' to 'logloss'. Explicitly set eval_metric if you'd like to restore the old behavior.\n",
      "[CV 3/5; 28/64] END colsample_bytree=0.2, max_depth=50, n_estimators=200, reg_alpha=1.1, reg_lambda=1.3, subsample=0.9; total time=   3.1s\n",
      "[CV 4/5; 28/64] START colsample_bytree=0.2, max_depth=50, n_estimators=200, reg_alpha=1.1, reg_lambda=1.3, subsample=0.9\n",
      "[11:29:09] WARNING: /Users/travis/build/dmlc/xgboost/src/learner.cc:1115: Starting in XGBoost 1.3.0, the default evaluation metric used with the objective 'binary:logistic' was changed from 'error' to 'logloss'. Explicitly set eval_metric if you'd like to restore the old behavior.\n",
      "[CV 4/5; 28/64] END colsample_bytree=0.2, max_depth=50, n_estimators=200, reg_alpha=1.1, reg_lambda=1.3, subsample=0.9; total time=   3.1s\n",
      "[CV 5/5; 28/64] START colsample_bytree=0.2, max_depth=50, n_estimators=200, reg_alpha=1.1, reg_lambda=1.3, subsample=0.9\n",
      "[11:29:12] WARNING: /Users/travis/build/dmlc/xgboost/src/learner.cc:1115: Starting in XGBoost 1.3.0, the default evaluation metric used with the objective 'binary:logistic' was changed from 'error' to 'logloss'. Explicitly set eval_metric if you'd like to restore the old behavior.\n",
      "[CV 5/5; 28/64] END colsample_bytree=0.2, max_depth=50, n_estimators=200, reg_alpha=1.1, reg_lambda=1.3, subsample=0.9; total time=   3.1s\n",
      "[CV 1/5; 29/64] START colsample_bytree=0.2, max_depth=50, n_estimators=200, reg_alpha=1.3, reg_lambda=1.1, subsample=0.5\n",
      "[11:29:16] WARNING: /Users/travis/build/dmlc/xgboost/src/learner.cc:1115: Starting in XGBoost 1.3.0, the default evaluation metric used with the objective 'binary:logistic' was changed from 'error' to 'logloss'. Explicitly set eval_metric if you'd like to restore the old behavior.\n",
      "[CV 1/5; 29/64] END colsample_bytree=0.2, max_depth=50, n_estimators=200, reg_alpha=1.3, reg_lambda=1.1, subsample=0.5; total time=   2.5s\n",
      "[CV 2/5; 29/64] START colsample_bytree=0.2, max_depth=50, n_estimators=200, reg_alpha=1.3, reg_lambda=1.1, subsample=0.5\n",
      "[11:29:18] WARNING: /Users/travis/build/dmlc/xgboost/src/learner.cc:1115: Starting in XGBoost 1.3.0, the default evaluation metric used with the objective 'binary:logistic' was changed from 'error' to 'logloss'. Explicitly set eval_metric if you'd like to restore the old behavior.\n",
      "[CV 2/5; 29/64] END colsample_bytree=0.2, max_depth=50, n_estimators=200, reg_alpha=1.3, reg_lambda=1.1, subsample=0.5; total time=   2.5s\n",
      "[CV 3/5; 29/64] START colsample_bytree=0.2, max_depth=50, n_estimators=200, reg_alpha=1.3, reg_lambda=1.1, subsample=0.5\n",
      "[11:29:21] WARNING: /Users/travis/build/dmlc/xgboost/src/learner.cc:1115: Starting in XGBoost 1.3.0, the default evaluation metric used with the objective 'binary:logistic' was changed from 'error' to 'logloss'. Explicitly set eval_metric if you'd like to restore the old behavior.\n",
      "[CV 3/5; 29/64] END colsample_bytree=0.2, max_depth=50, n_estimators=200, reg_alpha=1.3, reg_lambda=1.1, subsample=0.5; total time=   2.6s\n",
      "[CV 4/5; 29/64] START colsample_bytree=0.2, max_depth=50, n_estimators=200, reg_alpha=1.3, reg_lambda=1.1, subsample=0.5\n",
      "[11:29:23] WARNING: /Users/travis/build/dmlc/xgboost/src/learner.cc:1115: Starting in XGBoost 1.3.0, the default evaluation metric used with the objective 'binary:logistic' was changed from 'error' to 'logloss'. Explicitly set eval_metric if you'd like to restore the old behavior.\n"
     ]
    },
    {
     "name": "stdout",
     "output_type": "stream",
     "text": [
      "[CV 4/5; 29/64] END colsample_bytree=0.2, max_depth=50, n_estimators=200, reg_alpha=1.3, reg_lambda=1.1, subsample=0.5; total time=   2.5s\n",
      "[CV 5/5; 29/64] START colsample_bytree=0.2, max_depth=50, n_estimators=200, reg_alpha=1.3, reg_lambda=1.1, subsample=0.5\n",
      "[11:29:26] WARNING: /Users/travis/build/dmlc/xgboost/src/learner.cc:1115: Starting in XGBoost 1.3.0, the default evaluation metric used with the objective 'binary:logistic' was changed from 'error' to 'logloss'. Explicitly set eval_metric if you'd like to restore the old behavior.\n",
      "[CV 5/5; 29/64] END colsample_bytree=0.2, max_depth=50, n_estimators=200, reg_alpha=1.3, reg_lambda=1.1, subsample=0.5; total time=   2.5s\n",
      "[CV 1/5; 30/64] START colsample_bytree=0.2, max_depth=50, n_estimators=200, reg_alpha=1.3, reg_lambda=1.1, subsample=0.9\n",
      "[11:29:28] WARNING: /Users/travis/build/dmlc/xgboost/src/learner.cc:1115: Starting in XGBoost 1.3.0, the default evaluation metric used with the objective 'binary:logistic' was changed from 'error' to 'logloss'. Explicitly set eval_metric if you'd like to restore the old behavior.\n",
      "[CV 1/5; 30/64] END colsample_bytree=0.2, max_depth=50, n_estimators=200, reg_alpha=1.3, reg_lambda=1.1, subsample=0.9; total time=   3.0s\n",
      "[CV 2/5; 30/64] START colsample_bytree=0.2, max_depth=50, n_estimators=200, reg_alpha=1.3, reg_lambda=1.1, subsample=0.9\n",
      "[11:29:31] WARNING: /Users/travis/build/dmlc/xgboost/src/learner.cc:1115: Starting in XGBoost 1.3.0, the default evaluation metric used with the objective 'binary:logistic' was changed from 'error' to 'logloss'. Explicitly set eval_metric if you'd like to restore the old behavior.\n",
      "[CV 2/5; 30/64] END colsample_bytree=0.2, max_depth=50, n_estimators=200, reg_alpha=1.3, reg_lambda=1.1, subsample=0.9; total time=   2.9s\n",
      "[CV 3/5; 30/64] START colsample_bytree=0.2, max_depth=50, n_estimators=200, reg_alpha=1.3, reg_lambda=1.1, subsample=0.9\n",
      "[11:29:34] WARNING: /Users/travis/build/dmlc/xgboost/src/learner.cc:1115: Starting in XGBoost 1.3.0, the default evaluation metric used with the objective 'binary:logistic' was changed from 'error' to 'logloss'. Explicitly set eval_metric if you'd like to restore the old behavior.\n",
      "[CV 3/5; 30/64] END colsample_bytree=0.2, max_depth=50, n_estimators=200, reg_alpha=1.3, reg_lambda=1.1, subsample=0.9; total time=   2.9s\n",
      "[CV 4/5; 30/64] START colsample_bytree=0.2, max_depth=50, n_estimators=200, reg_alpha=1.3, reg_lambda=1.1, subsample=0.9\n",
      "[11:29:37] WARNING: /Users/travis/build/dmlc/xgboost/src/learner.cc:1115: Starting in XGBoost 1.3.0, the default evaluation metric used with the objective 'binary:logistic' was changed from 'error' to 'logloss'. Explicitly set eval_metric if you'd like to restore the old behavior.\n",
      "[CV 4/5; 30/64] END colsample_bytree=0.2, max_depth=50, n_estimators=200, reg_alpha=1.3, reg_lambda=1.1, subsample=0.9; total time=   3.0s\n",
      "[CV 5/5; 30/64] START colsample_bytree=0.2, max_depth=50, n_estimators=200, reg_alpha=1.3, reg_lambda=1.1, subsample=0.9\n",
      "[11:29:40] WARNING: /Users/travis/build/dmlc/xgboost/src/learner.cc:1115: Starting in XGBoost 1.3.0, the default evaluation metric used with the objective 'binary:logistic' was changed from 'error' to 'logloss'. Explicitly set eval_metric if you'd like to restore the old behavior.\n",
      "[CV 5/5; 30/64] END colsample_bytree=0.2, max_depth=50, n_estimators=200, reg_alpha=1.3, reg_lambda=1.1, subsample=0.9; total time=   3.0s\n",
      "[CV 1/5; 31/64] START colsample_bytree=0.2, max_depth=50, n_estimators=200, reg_alpha=1.3, reg_lambda=1.3, subsample=0.5\n",
      "[11:29:43] WARNING: /Users/travis/build/dmlc/xgboost/src/learner.cc:1115: Starting in XGBoost 1.3.0, the default evaluation metric used with the objective 'binary:logistic' was changed from 'error' to 'logloss'. Explicitly set eval_metric if you'd like to restore the old behavior.\n",
      "[CV 1/5; 31/64] END colsample_bytree=0.2, max_depth=50, n_estimators=200, reg_alpha=1.3, reg_lambda=1.3, subsample=0.5; total time=   2.6s\n",
      "[CV 2/5; 31/64] START colsample_bytree=0.2, max_depth=50, n_estimators=200, reg_alpha=1.3, reg_lambda=1.3, subsample=0.5\n",
      "[11:29:46] WARNING: /Users/travis/build/dmlc/xgboost/src/learner.cc:1115: Starting in XGBoost 1.3.0, the default evaluation metric used with the objective 'binary:logistic' was changed from 'error' to 'logloss'. Explicitly set eval_metric if you'd like to restore the old behavior.\n",
      "[CV 2/5; 31/64] END colsample_bytree=0.2, max_depth=50, n_estimators=200, reg_alpha=1.3, reg_lambda=1.3, subsample=0.5; total time=   2.5s\n",
      "[CV 3/5; 31/64] START colsample_bytree=0.2, max_depth=50, n_estimators=200, reg_alpha=1.3, reg_lambda=1.3, subsample=0.5\n",
      "[11:29:48] WARNING: /Users/travis/build/dmlc/xgboost/src/learner.cc:1115: Starting in XGBoost 1.3.0, the default evaluation metric used with the objective 'binary:logistic' was changed from 'error' to 'logloss'. Explicitly set eval_metric if you'd like to restore the old behavior.\n",
      "[CV 3/5; 31/64] END colsample_bytree=0.2, max_depth=50, n_estimators=200, reg_alpha=1.3, reg_lambda=1.3, subsample=0.5; total time=   2.5s\n",
      "[CV 4/5; 31/64] START colsample_bytree=0.2, max_depth=50, n_estimators=200, reg_alpha=1.3, reg_lambda=1.3, subsample=0.5\n",
      "[11:29:51] WARNING: /Users/travis/build/dmlc/xgboost/src/learner.cc:1115: Starting in XGBoost 1.3.0, the default evaluation metric used with the objective 'binary:logistic' was changed from 'error' to 'logloss'. Explicitly set eval_metric if you'd like to restore the old behavior.\n",
      "[CV 4/5; 31/64] END colsample_bytree=0.2, max_depth=50, n_estimators=200, reg_alpha=1.3, reg_lambda=1.3, subsample=0.5; total time=   2.5s\n",
      "[CV 5/5; 31/64] START colsample_bytree=0.2, max_depth=50, n_estimators=200, reg_alpha=1.3, reg_lambda=1.3, subsample=0.5\n",
      "[11:29:53] WARNING: /Users/travis/build/dmlc/xgboost/src/learner.cc:1115: Starting in XGBoost 1.3.0, the default evaluation metric used with the objective 'binary:logistic' was changed from 'error' to 'logloss'. Explicitly set eval_metric if you'd like to restore the old behavior.\n",
      "[CV 5/5; 31/64] END colsample_bytree=0.2, max_depth=50, n_estimators=200, reg_alpha=1.3, reg_lambda=1.3, subsample=0.5; total time=   2.5s\n",
      "[CV 1/5; 32/64] START colsample_bytree=0.2, max_depth=50, n_estimators=200, reg_alpha=1.3, reg_lambda=1.3, subsample=0.9\n",
      "[11:29:56] WARNING: /Users/travis/build/dmlc/xgboost/src/learner.cc:1115: Starting in XGBoost 1.3.0, the default evaluation metric used with the objective 'binary:logistic' was changed from 'error' to 'logloss'. Explicitly set eval_metric if you'd like to restore the old behavior.\n",
      "[CV 1/5; 32/64] END colsample_bytree=0.2, max_depth=50, n_estimators=200, reg_alpha=1.3, reg_lambda=1.3, subsample=0.9; total time=   3.0s\n",
      "[CV 2/5; 32/64] START colsample_bytree=0.2, max_depth=50, n_estimators=200, reg_alpha=1.3, reg_lambda=1.3, subsample=0.9\n",
      "[11:29:59] WARNING: /Users/travis/build/dmlc/xgboost/src/learner.cc:1115: Starting in XGBoost 1.3.0, the default evaluation metric used with the objective 'binary:logistic' was changed from 'error' to 'logloss'. Explicitly set eval_metric if you'd like to restore the old behavior.\n",
      "[CV 2/5; 32/64] END colsample_bytree=0.2, max_depth=50, n_estimators=200, reg_alpha=1.3, reg_lambda=1.3, subsample=0.9; total time=   3.8s\n",
      "[CV 3/5; 32/64] START colsample_bytree=0.2, max_depth=50, n_estimators=200, reg_alpha=1.3, reg_lambda=1.3, subsample=0.9\n",
      "[11:30:03] WARNING: /Users/travis/build/dmlc/xgboost/src/learner.cc:1115: Starting in XGBoost 1.3.0, the default evaluation metric used with the objective 'binary:logistic' was changed from 'error' to 'logloss'. Explicitly set eval_metric if you'd like to restore the old behavior.\n",
      "[CV 3/5; 32/64] END colsample_bytree=0.2, max_depth=50, n_estimators=200, reg_alpha=1.3, reg_lambda=1.3, subsample=0.9; total time=   3.0s\n",
      "[CV 4/5; 32/64] START colsample_bytree=0.2, max_depth=50, n_estimators=200, reg_alpha=1.3, reg_lambda=1.3, subsample=0.9\n",
      "[11:30:06] WARNING: /Users/travis/build/dmlc/xgboost/src/learner.cc:1115: Starting in XGBoost 1.3.0, the default evaluation metric used with the objective 'binary:logistic' was changed from 'error' to 'logloss'. Explicitly set eval_metric if you'd like to restore the old behavior.\n",
      "[CV 4/5; 32/64] END colsample_bytree=0.2, max_depth=50, n_estimators=200, reg_alpha=1.3, reg_lambda=1.3, subsample=0.9; total time=   3.0s\n",
      "[CV 5/5; 32/64] START colsample_bytree=0.2, max_depth=50, n_estimators=200, reg_alpha=1.3, reg_lambda=1.3, subsample=0.9\n",
      "[11:30:08] WARNING: /Users/travis/build/dmlc/xgboost/src/learner.cc:1115: Starting in XGBoost 1.3.0, the default evaluation metric used with the objective 'binary:logistic' was changed from 'error' to 'logloss'. Explicitly set eval_metric if you'd like to restore the old behavior.\n"
     ]
    },
    {
     "name": "stdout",
     "output_type": "stream",
     "text": [
      "[CV 5/5; 32/64] END colsample_bytree=0.2, max_depth=50, n_estimators=200, reg_alpha=1.3, reg_lambda=1.3, subsample=0.9; total time=   3.1s\n",
      "[CV 1/5; 33/64] START colsample_bytree=0.8, max_depth=10, n_estimators=20, reg_alpha=1.1, reg_lambda=1.1, subsample=0.5\n",
      "[11:30:12] WARNING: /Users/travis/build/dmlc/xgboost/src/learner.cc:1115: Starting in XGBoost 1.3.0, the default evaluation metric used with the objective 'binary:logistic' was changed from 'error' to 'logloss'. Explicitly set eval_metric if you'd like to restore the old behavior.\n",
      "[CV 1/5; 33/64] END colsample_bytree=0.8, max_depth=10, n_estimators=20, reg_alpha=1.1, reg_lambda=1.1, subsample=0.5; total time=   0.7s\n",
      "[CV 2/5; 33/64] START colsample_bytree=0.8, max_depth=10, n_estimators=20, reg_alpha=1.1, reg_lambda=1.1, subsample=0.5\n",
      "[11:30:12] WARNING: /Users/travis/build/dmlc/xgboost/src/learner.cc:1115: Starting in XGBoost 1.3.0, the default evaluation metric used with the objective 'binary:logistic' was changed from 'error' to 'logloss'. Explicitly set eval_metric if you'd like to restore the old behavior.\n",
      "[CV 2/5; 33/64] END colsample_bytree=0.8, max_depth=10, n_estimators=20, reg_alpha=1.1, reg_lambda=1.1, subsample=0.5; total time=   0.7s\n",
      "[CV 3/5; 33/64] START colsample_bytree=0.8, max_depth=10, n_estimators=20, reg_alpha=1.1, reg_lambda=1.1, subsample=0.5\n",
      "[11:30:13] WARNING: /Users/travis/build/dmlc/xgboost/src/learner.cc:1115: Starting in XGBoost 1.3.0, the default evaluation metric used with the objective 'binary:logistic' was changed from 'error' to 'logloss'. Explicitly set eval_metric if you'd like to restore the old behavior.\n",
      "[CV 3/5; 33/64] END colsample_bytree=0.8, max_depth=10, n_estimators=20, reg_alpha=1.1, reg_lambda=1.1, subsample=0.5; total time=   0.7s\n",
      "[CV 4/5; 33/64] START colsample_bytree=0.8, max_depth=10, n_estimators=20, reg_alpha=1.1, reg_lambda=1.1, subsample=0.5\n",
      "[11:30:14] WARNING: /Users/travis/build/dmlc/xgboost/src/learner.cc:1115: Starting in XGBoost 1.3.0, the default evaluation metric used with the objective 'binary:logistic' was changed from 'error' to 'logloss'. Explicitly set eval_metric if you'd like to restore the old behavior.\n",
      "[CV 4/5; 33/64] END colsample_bytree=0.8, max_depth=10, n_estimators=20, reg_alpha=1.1, reg_lambda=1.1, subsample=0.5; total time=   0.7s\n",
      "[CV 5/5; 33/64] START colsample_bytree=0.8, max_depth=10, n_estimators=20, reg_alpha=1.1, reg_lambda=1.1, subsample=0.5\n",
      "[11:30:15] WARNING: /Users/travis/build/dmlc/xgboost/src/learner.cc:1115: Starting in XGBoost 1.3.0, the default evaluation metric used with the objective 'binary:logistic' was changed from 'error' to 'logloss'. Explicitly set eval_metric if you'd like to restore the old behavior.\n",
      "[CV 5/5; 33/64] END colsample_bytree=0.8, max_depth=10, n_estimators=20, reg_alpha=1.1, reg_lambda=1.1, subsample=0.5; total time=   0.7s\n",
      "[CV 1/5; 34/64] START colsample_bytree=0.8, max_depth=10, n_estimators=20, reg_alpha=1.1, reg_lambda=1.1, subsample=0.9\n",
      "[11:30:15] WARNING: /Users/travis/build/dmlc/xgboost/src/learner.cc:1115: Starting in XGBoost 1.3.0, the default evaluation metric used with the objective 'binary:logistic' was changed from 'error' to 'logloss'. Explicitly set eval_metric if you'd like to restore the old behavior.\n",
      "[CV 1/5; 34/64] END colsample_bytree=0.8, max_depth=10, n_estimators=20, reg_alpha=1.1, reg_lambda=1.1, subsample=0.9; total time=   0.8s\n",
      "[CV 2/5; 34/64] START colsample_bytree=0.8, max_depth=10, n_estimators=20, reg_alpha=1.1, reg_lambda=1.1, subsample=0.9\n",
      "[11:30:16] WARNING: /Users/travis/build/dmlc/xgboost/src/learner.cc:1115: Starting in XGBoost 1.3.0, the default evaluation metric used with the objective 'binary:logistic' was changed from 'error' to 'logloss'. Explicitly set eval_metric if you'd like to restore the old behavior.\n",
      "[CV 2/5; 34/64] END colsample_bytree=0.8, max_depth=10, n_estimators=20, reg_alpha=1.1, reg_lambda=1.1, subsample=0.9; total time=   0.8s\n",
      "[CV 3/5; 34/64] START colsample_bytree=0.8, max_depth=10, n_estimators=20, reg_alpha=1.1, reg_lambda=1.1, subsample=0.9\n",
      "[11:30:17] WARNING: /Users/travis/build/dmlc/xgboost/src/learner.cc:1115: Starting in XGBoost 1.3.0, the default evaluation metric used with the objective 'binary:logistic' was changed from 'error' to 'logloss'. Explicitly set eval_metric if you'd like to restore the old behavior.\n",
      "[CV 3/5; 34/64] END colsample_bytree=0.8, max_depth=10, n_estimators=20, reg_alpha=1.1, reg_lambda=1.1, subsample=0.9; total time=   0.8s\n",
      "[CV 4/5; 34/64] START colsample_bytree=0.8, max_depth=10, n_estimators=20, reg_alpha=1.1, reg_lambda=1.1, subsample=0.9\n",
      "[11:30:18] WARNING: /Users/travis/build/dmlc/xgboost/src/learner.cc:1115: Starting in XGBoost 1.3.0, the default evaluation metric used with the objective 'binary:logistic' was changed from 'error' to 'logloss'. Explicitly set eval_metric if you'd like to restore the old behavior.\n",
      "[CV 4/5; 34/64] END colsample_bytree=0.8, max_depth=10, n_estimators=20, reg_alpha=1.1, reg_lambda=1.1, subsample=0.9; total time=   0.9s\n",
      "[CV 5/5; 34/64] START colsample_bytree=0.8, max_depth=10, n_estimators=20, reg_alpha=1.1, reg_lambda=1.1, subsample=0.9\n",
      "[11:30:19] WARNING: /Users/travis/build/dmlc/xgboost/src/learner.cc:1115: Starting in XGBoost 1.3.0, the default evaluation metric used with the objective 'binary:logistic' was changed from 'error' to 'logloss'. Explicitly set eval_metric if you'd like to restore the old behavior.\n",
      "[CV 5/5; 34/64] END colsample_bytree=0.8, max_depth=10, n_estimators=20, reg_alpha=1.1, reg_lambda=1.1, subsample=0.9; total time=   0.8s\n",
      "[CV 1/5; 35/64] START colsample_bytree=0.8, max_depth=10, n_estimators=20, reg_alpha=1.1, reg_lambda=1.3, subsample=0.5\n",
      "[11:30:19] WARNING: /Users/travis/build/dmlc/xgboost/src/learner.cc:1115: Starting in XGBoost 1.3.0, the default evaluation metric used with the objective 'binary:logistic' was changed from 'error' to 'logloss'. Explicitly set eval_metric if you'd like to restore the old behavior.\n",
      "[CV 1/5; 35/64] END colsample_bytree=0.8, max_depth=10, n_estimators=20, reg_alpha=1.1, reg_lambda=1.3, subsample=0.5; total time=   0.7s\n",
      "[CV 2/5; 35/64] START colsample_bytree=0.8, max_depth=10, n_estimators=20, reg_alpha=1.1, reg_lambda=1.3, subsample=0.5\n",
      "[11:30:20] WARNING: /Users/travis/build/dmlc/xgboost/src/learner.cc:1115: Starting in XGBoost 1.3.0, the default evaluation metric used with the objective 'binary:logistic' was changed from 'error' to 'logloss'. Explicitly set eval_metric if you'd like to restore the old behavior.\n",
      "[CV 2/5; 35/64] END colsample_bytree=0.8, max_depth=10, n_estimators=20, reg_alpha=1.1, reg_lambda=1.3, subsample=0.5; total time=   0.7s\n",
      "[CV 3/5; 35/64] START colsample_bytree=0.8, max_depth=10, n_estimators=20, reg_alpha=1.1, reg_lambda=1.3, subsample=0.5\n",
      "[11:30:21] WARNING: /Users/travis/build/dmlc/xgboost/src/learner.cc:1115: Starting in XGBoost 1.3.0, the default evaluation metric used with the objective 'binary:logistic' was changed from 'error' to 'logloss'. Explicitly set eval_metric if you'd like to restore the old behavior.\n",
      "[CV 3/5; 35/64] END colsample_bytree=0.8, max_depth=10, n_estimators=20, reg_alpha=1.1, reg_lambda=1.3, subsample=0.5; total time=   0.7s\n",
      "[CV 4/5; 35/64] START colsample_bytree=0.8, max_depth=10, n_estimators=20, reg_alpha=1.1, reg_lambda=1.3, subsample=0.5\n",
      "[11:30:22] WARNING: /Users/travis/build/dmlc/xgboost/src/learner.cc:1115: Starting in XGBoost 1.3.0, the default evaluation metric used with the objective 'binary:logistic' was changed from 'error' to 'logloss'. Explicitly set eval_metric if you'd like to restore the old behavior.\n",
      "[CV 4/5; 35/64] END colsample_bytree=0.8, max_depth=10, n_estimators=20, reg_alpha=1.1, reg_lambda=1.3, subsample=0.5; total time=   0.7s\n",
      "[CV 5/5; 35/64] START colsample_bytree=0.8, max_depth=10, n_estimators=20, reg_alpha=1.1, reg_lambda=1.3, subsample=0.5\n",
      "[11:30:22] WARNING: /Users/travis/build/dmlc/xgboost/src/learner.cc:1115: Starting in XGBoost 1.3.0, the default evaluation metric used with the objective 'binary:logistic' was changed from 'error' to 'logloss'. Explicitly set eval_metric if you'd like to restore the old behavior.\n",
      "[CV 5/5; 35/64] END colsample_bytree=0.8, max_depth=10, n_estimators=20, reg_alpha=1.1, reg_lambda=1.3, subsample=0.5; total time=   0.7s\n",
      "[CV 1/5; 36/64] START colsample_bytree=0.8, max_depth=10, n_estimators=20, reg_alpha=1.1, reg_lambda=1.3, subsample=0.9\n",
      "[11:30:23] WARNING: /Users/travis/build/dmlc/xgboost/src/learner.cc:1115: Starting in XGBoost 1.3.0, the default evaluation metric used with the objective 'binary:logistic' was changed from 'error' to 'logloss'. Explicitly set eval_metric if you'd like to restore the old behavior.\n"
     ]
    },
    {
     "name": "stdout",
     "output_type": "stream",
     "text": [
      "[CV 1/5; 36/64] END colsample_bytree=0.8, max_depth=10, n_estimators=20, reg_alpha=1.1, reg_lambda=1.3, subsample=0.9; total time=   0.8s\n",
      "[CV 2/5; 36/64] START colsample_bytree=0.8, max_depth=10, n_estimators=20, reg_alpha=1.1, reg_lambda=1.3, subsample=0.9\n",
      "[11:30:24] WARNING: /Users/travis/build/dmlc/xgboost/src/learner.cc:1115: Starting in XGBoost 1.3.0, the default evaluation metric used with the objective 'binary:logistic' was changed from 'error' to 'logloss'. Explicitly set eval_metric if you'd like to restore the old behavior.\n",
      "[CV 2/5; 36/64] END colsample_bytree=0.8, max_depth=10, n_estimators=20, reg_alpha=1.1, reg_lambda=1.3, subsample=0.9; total time=   0.8s\n",
      "[CV 3/5; 36/64] START colsample_bytree=0.8, max_depth=10, n_estimators=20, reg_alpha=1.1, reg_lambda=1.3, subsample=0.9\n",
      "[11:30:25] WARNING: /Users/travis/build/dmlc/xgboost/src/learner.cc:1115: Starting in XGBoost 1.3.0, the default evaluation metric used with the objective 'binary:logistic' was changed from 'error' to 'logloss'. Explicitly set eval_metric if you'd like to restore the old behavior.\n",
      "[CV 3/5; 36/64] END colsample_bytree=0.8, max_depth=10, n_estimators=20, reg_alpha=1.1, reg_lambda=1.3, subsample=0.9; total time=   0.8s\n",
      "[CV 4/5; 36/64] START colsample_bytree=0.8, max_depth=10, n_estimators=20, reg_alpha=1.1, reg_lambda=1.3, subsample=0.9\n",
      "[11:30:25] WARNING: /Users/travis/build/dmlc/xgboost/src/learner.cc:1115: Starting in XGBoost 1.3.0, the default evaluation metric used with the objective 'binary:logistic' was changed from 'error' to 'logloss'. Explicitly set eval_metric if you'd like to restore the old behavior.\n",
      "[CV 4/5; 36/64] END colsample_bytree=0.8, max_depth=10, n_estimators=20, reg_alpha=1.1, reg_lambda=1.3, subsample=0.9; total time=   1.0s\n",
      "[CV 5/5; 36/64] START colsample_bytree=0.8, max_depth=10, n_estimators=20, reg_alpha=1.1, reg_lambda=1.3, subsample=0.9\n",
      "[11:30:26] WARNING: /Users/travis/build/dmlc/xgboost/src/learner.cc:1115: Starting in XGBoost 1.3.0, the default evaluation metric used with the objective 'binary:logistic' was changed from 'error' to 'logloss'. Explicitly set eval_metric if you'd like to restore the old behavior.\n",
      "[CV 5/5; 36/64] END colsample_bytree=0.8, max_depth=10, n_estimators=20, reg_alpha=1.1, reg_lambda=1.3, subsample=0.9; total time=   0.8s\n",
      "[CV 1/5; 37/64] START colsample_bytree=0.8, max_depth=10, n_estimators=20, reg_alpha=1.3, reg_lambda=1.1, subsample=0.5\n",
      "[11:30:27] WARNING: /Users/travis/build/dmlc/xgboost/src/learner.cc:1115: Starting in XGBoost 1.3.0, the default evaluation metric used with the objective 'binary:logistic' was changed from 'error' to 'logloss'. Explicitly set eval_metric if you'd like to restore the old behavior.\n",
      "[CV 1/5; 37/64] END colsample_bytree=0.8, max_depth=10, n_estimators=20, reg_alpha=1.3, reg_lambda=1.1, subsample=0.5; total time=   0.7s\n",
      "[CV 2/5; 37/64] START colsample_bytree=0.8, max_depth=10, n_estimators=20, reg_alpha=1.3, reg_lambda=1.1, subsample=0.5\n",
      "[11:30:28] WARNING: /Users/travis/build/dmlc/xgboost/src/learner.cc:1115: Starting in XGBoost 1.3.0, the default evaluation metric used with the objective 'binary:logistic' was changed from 'error' to 'logloss'. Explicitly set eval_metric if you'd like to restore the old behavior.\n",
      "[CV 2/5; 37/64] END colsample_bytree=0.8, max_depth=10, n_estimators=20, reg_alpha=1.3, reg_lambda=1.1, subsample=0.5; total time=   0.7s\n",
      "[CV 3/5; 37/64] START colsample_bytree=0.8, max_depth=10, n_estimators=20, reg_alpha=1.3, reg_lambda=1.1, subsample=0.5\n",
      "[11:30:29] WARNING: /Users/travis/build/dmlc/xgboost/src/learner.cc:1115: Starting in XGBoost 1.3.0, the default evaluation metric used with the objective 'binary:logistic' was changed from 'error' to 'logloss'. Explicitly set eval_metric if you'd like to restore the old behavior.\n",
      "[CV 3/5; 37/64] END colsample_bytree=0.8, max_depth=10, n_estimators=20, reg_alpha=1.3, reg_lambda=1.1, subsample=0.5; total time=   0.7s\n",
      "[CV 4/5; 37/64] START colsample_bytree=0.8, max_depth=10, n_estimators=20, reg_alpha=1.3, reg_lambda=1.1, subsample=0.5\n",
      "[11:30:29] WARNING: /Users/travis/build/dmlc/xgboost/src/learner.cc:1115: Starting in XGBoost 1.3.0, the default evaluation metric used with the objective 'binary:logistic' was changed from 'error' to 'logloss'. Explicitly set eval_metric if you'd like to restore the old behavior.\n",
      "[CV 4/5; 37/64] END colsample_bytree=0.8, max_depth=10, n_estimators=20, reg_alpha=1.3, reg_lambda=1.1, subsample=0.5; total time=   0.7s\n",
      "[CV 5/5; 37/64] START colsample_bytree=0.8, max_depth=10, n_estimators=20, reg_alpha=1.3, reg_lambda=1.1, subsample=0.5\n",
      "[11:30:30] WARNING: /Users/travis/build/dmlc/xgboost/src/learner.cc:1115: Starting in XGBoost 1.3.0, the default evaluation metric used with the objective 'binary:logistic' was changed from 'error' to 'logloss'. Explicitly set eval_metric if you'd like to restore the old behavior.\n",
      "[CV 5/5; 37/64] END colsample_bytree=0.8, max_depth=10, n_estimators=20, reg_alpha=1.3, reg_lambda=1.1, subsample=0.5; total time=   0.7s\n",
      "[CV 1/5; 38/64] START colsample_bytree=0.8, max_depth=10, n_estimators=20, reg_alpha=1.3, reg_lambda=1.1, subsample=0.9\n",
      "[11:30:31] WARNING: /Users/travis/build/dmlc/xgboost/src/learner.cc:1115: Starting in XGBoost 1.3.0, the default evaluation metric used with the objective 'binary:logistic' was changed from 'error' to 'logloss'. Explicitly set eval_metric if you'd like to restore the old behavior.\n",
      "[CV 1/5; 38/64] END colsample_bytree=0.8, max_depth=10, n_estimators=20, reg_alpha=1.3, reg_lambda=1.1, subsample=0.9; total time=   0.8s\n",
      "[CV 2/5; 38/64] START colsample_bytree=0.8, max_depth=10, n_estimators=20, reg_alpha=1.3, reg_lambda=1.1, subsample=0.9\n",
      "[11:30:32] WARNING: /Users/travis/build/dmlc/xgboost/src/learner.cc:1115: Starting in XGBoost 1.3.0, the default evaluation metric used with the objective 'binary:logistic' was changed from 'error' to 'logloss'. Explicitly set eval_metric if you'd like to restore the old behavior.\n",
      "[CV 2/5; 38/64] END colsample_bytree=0.8, max_depth=10, n_estimators=20, reg_alpha=1.3, reg_lambda=1.1, subsample=0.9; total time=   0.8s\n",
      "[CV 3/5; 38/64] START colsample_bytree=0.8, max_depth=10, n_estimators=20, reg_alpha=1.3, reg_lambda=1.1, subsample=0.9\n",
      "[11:30:32] WARNING: /Users/travis/build/dmlc/xgboost/src/learner.cc:1115: Starting in XGBoost 1.3.0, the default evaluation metric used with the objective 'binary:logistic' was changed from 'error' to 'logloss'. Explicitly set eval_metric if you'd like to restore the old behavior.\n",
      "[CV 3/5; 38/64] END colsample_bytree=0.8, max_depth=10, n_estimators=20, reg_alpha=1.3, reg_lambda=1.1, subsample=0.9; total time=   0.8s\n",
      "[CV 4/5; 38/64] START colsample_bytree=0.8, max_depth=10, n_estimators=20, reg_alpha=1.3, reg_lambda=1.1, subsample=0.9\n",
      "[11:30:33] WARNING: /Users/travis/build/dmlc/xgboost/src/learner.cc:1115: Starting in XGBoost 1.3.0, the default evaluation metric used with the objective 'binary:logistic' was changed from 'error' to 'logloss'. Explicitly set eval_metric if you'd like to restore the old behavior.\n",
      "[CV 4/5; 38/64] END colsample_bytree=0.8, max_depth=10, n_estimators=20, reg_alpha=1.3, reg_lambda=1.1, subsample=0.9; total time=   0.8s\n",
      "[CV 5/5; 38/64] START colsample_bytree=0.8, max_depth=10, n_estimators=20, reg_alpha=1.3, reg_lambda=1.1, subsample=0.9\n",
      "[11:30:34] WARNING: /Users/travis/build/dmlc/xgboost/src/learner.cc:1115: Starting in XGBoost 1.3.0, the default evaluation metric used with the objective 'binary:logistic' was changed from 'error' to 'logloss'. Explicitly set eval_metric if you'd like to restore the old behavior.\n",
      "[CV 5/5; 38/64] END colsample_bytree=0.8, max_depth=10, n_estimators=20, reg_alpha=1.3, reg_lambda=1.1, subsample=0.9; total time=   0.8s\n",
      "[CV 1/5; 39/64] START colsample_bytree=0.8, max_depth=10, n_estimators=20, reg_alpha=1.3, reg_lambda=1.3, subsample=0.5\n",
      "[11:30:35] WARNING: /Users/travis/build/dmlc/xgboost/src/learner.cc:1115: Starting in XGBoost 1.3.0, the default evaluation metric used with the objective 'binary:logistic' was changed from 'error' to 'logloss'. Explicitly set eval_metric if you'd like to restore the old behavior.\n",
      "[CV 1/5; 39/64] END colsample_bytree=0.8, max_depth=10, n_estimators=20, reg_alpha=1.3, reg_lambda=1.3, subsample=0.5; total time=   0.7s\n",
      "[CV 2/5; 39/64] START colsample_bytree=0.8, max_depth=10, n_estimators=20, reg_alpha=1.3, reg_lambda=1.3, subsample=0.5\n",
      "[11:30:36] WARNING: /Users/travis/build/dmlc/xgboost/src/learner.cc:1115: Starting in XGBoost 1.3.0, the default evaluation metric used with the objective 'binary:logistic' was changed from 'error' to 'logloss'. Explicitly set eval_metric if you'd like to restore the old behavior.\n"
     ]
    },
    {
     "name": "stdout",
     "output_type": "stream",
     "text": [
      "[CV 2/5; 39/64] END colsample_bytree=0.8, max_depth=10, n_estimators=20, reg_alpha=1.3, reg_lambda=1.3, subsample=0.5; total time=   0.7s\n",
      "[CV 3/5; 39/64] START colsample_bytree=0.8, max_depth=10, n_estimators=20, reg_alpha=1.3, reg_lambda=1.3, subsample=0.5\n",
      "[11:30:36] WARNING: /Users/travis/build/dmlc/xgboost/src/learner.cc:1115: Starting in XGBoost 1.3.0, the default evaluation metric used with the objective 'binary:logistic' was changed from 'error' to 'logloss'. Explicitly set eval_metric if you'd like to restore the old behavior.\n",
      "[CV 3/5; 39/64] END colsample_bytree=0.8, max_depth=10, n_estimators=20, reg_alpha=1.3, reg_lambda=1.3, subsample=0.5; total time=   0.7s\n",
      "[CV 4/5; 39/64] START colsample_bytree=0.8, max_depth=10, n_estimators=20, reg_alpha=1.3, reg_lambda=1.3, subsample=0.5\n",
      "[11:30:37] WARNING: /Users/travis/build/dmlc/xgboost/src/learner.cc:1115: Starting in XGBoost 1.3.0, the default evaluation metric used with the objective 'binary:logistic' was changed from 'error' to 'logloss'. Explicitly set eval_metric if you'd like to restore the old behavior.\n",
      "[CV 4/5; 39/64] END colsample_bytree=0.8, max_depth=10, n_estimators=20, reg_alpha=1.3, reg_lambda=1.3, subsample=0.5; total time=   0.7s\n",
      "[CV 5/5; 39/64] START colsample_bytree=0.8, max_depth=10, n_estimators=20, reg_alpha=1.3, reg_lambda=1.3, subsample=0.5\n",
      "[11:30:38] WARNING: /Users/travis/build/dmlc/xgboost/src/learner.cc:1115: Starting in XGBoost 1.3.0, the default evaluation metric used with the objective 'binary:logistic' was changed from 'error' to 'logloss'. Explicitly set eval_metric if you'd like to restore the old behavior.\n",
      "[CV 5/5; 39/64] END colsample_bytree=0.8, max_depth=10, n_estimators=20, reg_alpha=1.3, reg_lambda=1.3, subsample=0.5; total time=   0.7s\n",
      "[CV 1/5; 40/64] START colsample_bytree=0.8, max_depth=10, n_estimators=20, reg_alpha=1.3, reg_lambda=1.3, subsample=0.9\n",
      "[11:30:38] WARNING: /Users/travis/build/dmlc/xgboost/src/learner.cc:1115: Starting in XGBoost 1.3.0, the default evaluation metric used with the objective 'binary:logistic' was changed from 'error' to 'logloss'. Explicitly set eval_metric if you'd like to restore the old behavior.\n",
      "[CV 1/5; 40/64] END colsample_bytree=0.8, max_depth=10, n_estimators=20, reg_alpha=1.3, reg_lambda=1.3, subsample=0.9; total time=   0.8s\n",
      "[CV 2/5; 40/64] START colsample_bytree=0.8, max_depth=10, n_estimators=20, reg_alpha=1.3, reg_lambda=1.3, subsample=0.9\n",
      "[11:30:39] WARNING: /Users/travis/build/dmlc/xgboost/src/learner.cc:1115: Starting in XGBoost 1.3.0, the default evaluation metric used with the objective 'binary:logistic' was changed from 'error' to 'logloss'. Explicitly set eval_metric if you'd like to restore the old behavior.\n",
      "[CV 2/5; 40/64] END colsample_bytree=0.8, max_depth=10, n_estimators=20, reg_alpha=1.3, reg_lambda=1.3, subsample=0.9; total time=   0.8s\n",
      "[CV 3/5; 40/64] START colsample_bytree=0.8, max_depth=10, n_estimators=20, reg_alpha=1.3, reg_lambda=1.3, subsample=0.9\n",
      "[11:30:40] WARNING: /Users/travis/build/dmlc/xgboost/src/learner.cc:1115: Starting in XGBoost 1.3.0, the default evaluation metric used with the objective 'binary:logistic' was changed from 'error' to 'logloss'. Explicitly set eval_metric if you'd like to restore the old behavior.\n",
      "[CV 3/5; 40/64] END colsample_bytree=0.8, max_depth=10, n_estimators=20, reg_alpha=1.3, reg_lambda=1.3, subsample=0.9; total time=   0.8s\n",
      "[CV 4/5; 40/64] START colsample_bytree=0.8, max_depth=10, n_estimators=20, reg_alpha=1.3, reg_lambda=1.3, subsample=0.9\n",
      "[11:30:41] WARNING: /Users/travis/build/dmlc/xgboost/src/learner.cc:1115: Starting in XGBoost 1.3.0, the default evaluation metric used with the objective 'binary:logistic' was changed from 'error' to 'logloss'. Explicitly set eval_metric if you'd like to restore the old behavior.\n",
      "[CV 4/5; 40/64] END colsample_bytree=0.8, max_depth=10, n_estimators=20, reg_alpha=1.3, reg_lambda=1.3, subsample=0.9; total time=   0.8s\n",
      "[CV 5/5; 40/64] START colsample_bytree=0.8, max_depth=10, n_estimators=20, reg_alpha=1.3, reg_lambda=1.3, subsample=0.9\n",
      "[11:30:42] WARNING: /Users/travis/build/dmlc/xgboost/src/learner.cc:1115: Starting in XGBoost 1.3.0, the default evaluation metric used with the objective 'binary:logistic' was changed from 'error' to 'logloss'. Explicitly set eval_metric if you'd like to restore the old behavior.\n",
      "[CV 5/5; 40/64] END colsample_bytree=0.8, max_depth=10, n_estimators=20, reg_alpha=1.3, reg_lambda=1.3, subsample=0.9; total time=   0.8s\n",
      "[CV 1/5; 41/64] START colsample_bytree=0.8, max_depth=10, n_estimators=200, reg_alpha=1.1, reg_lambda=1.1, subsample=0.5\n",
      "[11:30:43] WARNING: /Users/travis/build/dmlc/xgboost/src/learner.cc:1115: Starting in XGBoost 1.3.0, the default evaluation metric used with the objective 'binary:logistic' was changed from 'error' to 'logloss'. Explicitly set eval_metric if you'd like to restore the old behavior.\n",
      "[CV 1/5; 41/64] END colsample_bytree=0.8, max_depth=10, n_estimators=200, reg_alpha=1.1, reg_lambda=1.1, subsample=0.5; total time=   5.9s\n",
      "[CV 2/5; 41/64] START colsample_bytree=0.8, max_depth=10, n_estimators=200, reg_alpha=1.1, reg_lambda=1.1, subsample=0.5\n",
      "[11:30:48] WARNING: /Users/travis/build/dmlc/xgboost/src/learner.cc:1115: Starting in XGBoost 1.3.0, the default evaluation metric used with the objective 'binary:logistic' was changed from 'error' to 'logloss'. Explicitly set eval_metric if you'd like to restore the old behavior.\n",
      "[CV 2/5; 41/64] END colsample_bytree=0.8, max_depth=10, n_estimators=200, reg_alpha=1.1, reg_lambda=1.1, subsample=0.5; total time=   6.0s\n",
      "[CV 3/5; 41/64] START colsample_bytree=0.8, max_depth=10, n_estimators=200, reg_alpha=1.1, reg_lambda=1.1, subsample=0.5\n",
      "[11:30:54] WARNING: /Users/travis/build/dmlc/xgboost/src/learner.cc:1115: Starting in XGBoost 1.3.0, the default evaluation metric used with the objective 'binary:logistic' was changed from 'error' to 'logloss'. Explicitly set eval_metric if you'd like to restore the old behavior.\n",
      "[CV 3/5; 41/64] END colsample_bytree=0.8, max_depth=10, n_estimators=200, reg_alpha=1.1, reg_lambda=1.1, subsample=0.5; total time=   6.0s\n",
      "[CV 4/5; 41/64] START colsample_bytree=0.8, max_depth=10, n_estimators=200, reg_alpha=1.1, reg_lambda=1.1, subsample=0.5\n",
      "[11:31:00] WARNING: /Users/travis/build/dmlc/xgboost/src/learner.cc:1115: Starting in XGBoost 1.3.0, the default evaluation metric used with the objective 'binary:logistic' was changed from 'error' to 'logloss'. Explicitly set eval_metric if you'd like to restore the old behavior.\n",
      "[CV 4/5; 41/64] END colsample_bytree=0.8, max_depth=10, n_estimators=200, reg_alpha=1.1, reg_lambda=1.1, subsample=0.5; total time=   6.0s\n",
      "[CV 5/5; 41/64] START colsample_bytree=0.8, max_depth=10, n_estimators=200, reg_alpha=1.1, reg_lambda=1.1, subsample=0.5\n",
      "[11:31:06] WARNING: /Users/travis/build/dmlc/xgboost/src/learner.cc:1115: Starting in XGBoost 1.3.0, the default evaluation metric used with the objective 'binary:logistic' was changed from 'error' to 'logloss'. Explicitly set eval_metric if you'd like to restore the old behavior.\n",
      "[CV 5/5; 41/64] END colsample_bytree=0.8, max_depth=10, n_estimators=200, reg_alpha=1.1, reg_lambda=1.1, subsample=0.5; total time=   6.0s\n",
      "[CV 1/5; 42/64] START colsample_bytree=0.8, max_depth=10, n_estimators=200, reg_alpha=1.1, reg_lambda=1.1, subsample=0.9\n",
      "[11:31:12] WARNING: /Users/travis/build/dmlc/xgboost/src/learner.cc:1115: Starting in XGBoost 1.3.0, the default evaluation metric used with the objective 'binary:logistic' was changed from 'error' to 'logloss'. Explicitly set eval_metric if you'd like to restore the old behavior.\n",
      "[CV 1/5; 42/64] END colsample_bytree=0.8, max_depth=10, n_estimators=200, reg_alpha=1.1, reg_lambda=1.1, subsample=0.9; total time=   7.1s\n",
      "[CV 2/5; 42/64] START colsample_bytree=0.8, max_depth=10, n_estimators=200, reg_alpha=1.1, reg_lambda=1.1, subsample=0.9\n",
      "[11:31:20] WARNING: /Users/travis/build/dmlc/xgboost/src/learner.cc:1115: Starting in XGBoost 1.3.0, the default evaluation metric used with the objective 'binary:logistic' was changed from 'error' to 'logloss'. Explicitly set eval_metric if you'd like to restore the old behavior.\n",
      "[CV 2/5; 42/64] END colsample_bytree=0.8, max_depth=10, n_estimators=200, reg_alpha=1.1, reg_lambda=1.1, subsample=0.9; total time=   6.9s\n",
      "[CV 3/5; 42/64] START colsample_bytree=0.8, max_depth=10, n_estimators=200, reg_alpha=1.1, reg_lambda=1.1, subsample=0.9\n",
      "[11:31:26] WARNING: /Users/travis/build/dmlc/xgboost/src/learner.cc:1115: Starting in XGBoost 1.3.0, the default evaluation metric used with the objective 'binary:logistic' was changed from 'error' to 'logloss'. Explicitly set eval_metric if you'd like to restore the old behavior.\n"
     ]
    },
    {
     "name": "stdout",
     "output_type": "stream",
     "text": [
      "[CV 3/5; 42/64] END colsample_bytree=0.8, max_depth=10, n_estimators=200, reg_alpha=1.1, reg_lambda=1.1, subsample=0.9; total time=   6.9s\n",
      "[CV 4/5; 42/64] START colsample_bytree=0.8, max_depth=10, n_estimators=200, reg_alpha=1.1, reg_lambda=1.1, subsample=0.9\n",
      "[11:31:33] WARNING: /Users/travis/build/dmlc/xgboost/src/learner.cc:1115: Starting in XGBoost 1.3.0, the default evaluation metric used with the objective 'binary:logistic' was changed from 'error' to 'logloss'. Explicitly set eval_metric if you'd like to restore the old behavior.\n",
      "[CV 4/5; 42/64] END colsample_bytree=0.8, max_depth=10, n_estimators=200, reg_alpha=1.1, reg_lambda=1.1, subsample=0.9; total time=   7.1s\n",
      "[CV 5/5; 42/64] START colsample_bytree=0.8, max_depth=10, n_estimators=200, reg_alpha=1.1, reg_lambda=1.1, subsample=0.9\n",
      "[11:31:40] WARNING: /Users/travis/build/dmlc/xgboost/src/learner.cc:1115: Starting in XGBoost 1.3.0, the default evaluation metric used with the objective 'binary:logistic' was changed from 'error' to 'logloss'. Explicitly set eval_metric if you'd like to restore the old behavior.\n",
      "[CV 5/5; 42/64] END colsample_bytree=0.8, max_depth=10, n_estimators=200, reg_alpha=1.1, reg_lambda=1.1, subsample=0.9; total time=   7.2s\n",
      "[CV 1/5; 43/64] START colsample_bytree=0.8, max_depth=10, n_estimators=200, reg_alpha=1.1, reg_lambda=1.3, subsample=0.5\n",
      "[11:31:48] WARNING: /Users/travis/build/dmlc/xgboost/src/learner.cc:1115: Starting in XGBoost 1.3.0, the default evaluation metric used with the objective 'binary:logistic' was changed from 'error' to 'logloss'. Explicitly set eval_metric if you'd like to restore the old behavior.\n",
      "[CV 1/5; 43/64] END colsample_bytree=0.8, max_depth=10, n_estimators=200, reg_alpha=1.1, reg_lambda=1.3, subsample=0.5; total time=   6.1s\n",
      "[CV 2/5; 43/64] START colsample_bytree=0.8, max_depth=10, n_estimators=200, reg_alpha=1.1, reg_lambda=1.3, subsample=0.5\n",
      "[11:31:54] WARNING: /Users/travis/build/dmlc/xgboost/src/learner.cc:1115: Starting in XGBoost 1.3.0, the default evaluation metric used with the objective 'binary:logistic' was changed from 'error' to 'logloss'. Explicitly set eval_metric if you'd like to restore the old behavior.\n",
      "[CV 2/5; 43/64] END colsample_bytree=0.8, max_depth=10, n_estimators=200, reg_alpha=1.1, reg_lambda=1.3, subsample=0.5; total time=   6.0s\n",
      "[CV 3/5; 43/64] START colsample_bytree=0.8, max_depth=10, n_estimators=200, reg_alpha=1.1, reg_lambda=1.3, subsample=0.5\n",
      "[11:32:00] WARNING: /Users/travis/build/dmlc/xgboost/src/learner.cc:1115: Starting in XGBoost 1.3.0, the default evaluation metric used with the objective 'binary:logistic' was changed from 'error' to 'logloss'. Explicitly set eval_metric if you'd like to restore the old behavior.\n",
      "[CV 3/5; 43/64] END colsample_bytree=0.8, max_depth=10, n_estimators=200, reg_alpha=1.1, reg_lambda=1.3, subsample=0.5; total time=   6.0s\n",
      "[CV 4/5; 43/64] START colsample_bytree=0.8, max_depth=10, n_estimators=200, reg_alpha=1.1, reg_lambda=1.3, subsample=0.5\n",
      "[11:32:06] WARNING: /Users/travis/build/dmlc/xgboost/src/learner.cc:1115: Starting in XGBoost 1.3.0, the default evaluation metric used with the objective 'binary:logistic' was changed from 'error' to 'logloss'. Explicitly set eval_metric if you'd like to restore the old behavior.\n",
      "[CV 4/5; 43/64] END colsample_bytree=0.8, max_depth=10, n_estimators=200, reg_alpha=1.1, reg_lambda=1.3, subsample=0.5; total time=   6.0s\n",
      "[CV 5/5; 43/64] START colsample_bytree=0.8, max_depth=10, n_estimators=200, reg_alpha=1.1, reg_lambda=1.3, subsample=0.5\n",
      "[11:32:12] WARNING: /Users/travis/build/dmlc/xgboost/src/learner.cc:1115: Starting in XGBoost 1.3.0, the default evaluation metric used with the objective 'binary:logistic' was changed from 'error' to 'logloss'. Explicitly set eval_metric if you'd like to restore the old behavior.\n",
      "[CV 5/5; 43/64] END colsample_bytree=0.8, max_depth=10, n_estimators=200, reg_alpha=1.1, reg_lambda=1.3, subsample=0.5; total time=   6.1s\n",
      "[CV 1/5; 44/64] START colsample_bytree=0.8, max_depth=10, n_estimators=200, reg_alpha=1.1, reg_lambda=1.3, subsample=0.9\n",
      "[11:32:18] WARNING: /Users/travis/build/dmlc/xgboost/src/learner.cc:1115: Starting in XGBoost 1.3.0, the default evaluation metric used with the objective 'binary:logistic' was changed from 'error' to 'logloss'. Explicitly set eval_metric if you'd like to restore the old behavior.\n",
      "[CV 1/5; 44/64] END colsample_bytree=0.8, max_depth=10, n_estimators=200, reg_alpha=1.1, reg_lambda=1.3, subsample=0.9; total time=   7.0s\n",
      "[CV 2/5; 44/64] START colsample_bytree=0.8, max_depth=10, n_estimators=200, reg_alpha=1.1, reg_lambda=1.3, subsample=0.9\n",
      "[11:32:25] WARNING: /Users/travis/build/dmlc/xgboost/src/learner.cc:1115: Starting in XGBoost 1.3.0, the default evaluation metric used with the objective 'binary:logistic' was changed from 'error' to 'logloss'. Explicitly set eval_metric if you'd like to restore the old behavior.\n",
      "[CV 2/5; 44/64] END colsample_bytree=0.8, max_depth=10, n_estimators=200, reg_alpha=1.1, reg_lambda=1.3, subsample=0.9; total time=   7.0s\n",
      "[CV 3/5; 44/64] START colsample_bytree=0.8, max_depth=10, n_estimators=200, reg_alpha=1.1, reg_lambda=1.3, subsample=0.9\n",
      "[11:32:32] WARNING: /Users/travis/build/dmlc/xgboost/src/learner.cc:1115: Starting in XGBoost 1.3.0, the default evaluation metric used with the objective 'binary:logistic' was changed from 'error' to 'logloss'. Explicitly set eval_metric if you'd like to restore the old behavior.\n",
      "[CV 3/5; 44/64] END colsample_bytree=0.8, max_depth=10, n_estimators=200, reg_alpha=1.1, reg_lambda=1.3, subsample=0.9; total time=   6.9s\n",
      "[CV 4/5; 44/64] START colsample_bytree=0.8, max_depth=10, n_estimators=200, reg_alpha=1.1, reg_lambda=1.3, subsample=0.9\n",
      "[11:32:39] WARNING: /Users/travis/build/dmlc/xgboost/src/learner.cc:1115: Starting in XGBoost 1.3.0, the default evaluation metric used with the objective 'binary:logistic' was changed from 'error' to 'logloss'. Explicitly set eval_metric if you'd like to restore the old behavior.\n",
      "[CV 4/5; 44/64] END colsample_bytree=0.8, max_depth=10, n_estimators=200, reg_alpha=1.1, reg_lambda=1.3, subsample=0.9; total time=   7.1s\n",
      "[CV 5/5; 44/64] START colsample_bytree=0.8, max_depth=10, n_estimators=200, reg_alpha=1.1, reg_lambda=1.3, subsample=0.9\n",
      "[11:32:46] WARNING: /Users/travis/build/dmlc/xgboost/src/learner.cc:1115: Starting in XGBoost 1.3.0, the default evaluation metric used with the objective 'binary:logistic' was changed from 'error' to 'logloss'. Explicitly set eval_metric if you'd like to restore the old behavior.\n",
      "[CV 5/5; 44/64] END colsample_bytree=0.8, max_depth=10, n_estimators=200, reg_alpha=1.1, reg_lambda=1.3, subsample=0.9; total time=   7.0s\n",
      "[CV 1/5; 45/64] START colsample_bytree=0.8, max_depth=10, n_estimators=200, reg_alpha=1.3, reg_lambda=1.1, subsample=0.5\n",
      "[11:32:53] WARNING: /Users/travis/build/dmlc/xgboost/src/learner.cc:1115: Starting in XGBoost 1.3.0, the default evaluation metric used with the objective 'binary:logistic' was changed from 'error' to 'logloss'. Explicitly set eval_metric if you'd like to restore the old behavior.\n",
      "[CV 1/5; 45/64] END colsample_bytree=0.8, max_depth=10, n_estimators=200, reg_alpha=1.3, reg_lambda=1.1, subsample=0.5; total time=   6.3s\n",
      "[CV 2/5; 45/64] START colsample_bytree=0.8, max_depth=10, n_estimators=200, reg_alpha=1.3, reg_lambda=1.1, subsample=0.5\n",
      "[11:32:59] WARNING: /Users/travis/build/dmlc/xgboost/src/learner.cc:1115: Starting in XGBoost 1.3.0, the default evaluation metric used with the objective 'binary:logistic' was changed from 'error' to 'logloss'. Explicitly set eval_metric if you'd like to restore the old behavior.\n",
      "[CV 2/5; 45/64] END colsample_bytree=0.8, max_depth=10, n_estimators=200, reg_alpha=1.3, reg_lambda=1.1, subsample=0.5; total time=   6.1s\n",
      "[CV 3/5; 45/64] START colsample_bytree=0.8, max_depth=10, n_estimators=200, reg_alpha=1.3, reg_lambda=1.1, subsample=0.5\n",
      "[11:33:05] WARNING: /Users/travis/build/dmlc/xgboost/src/learner.cc:1115: Starting in XGBoost 1.3.0, the default evaluation metric used with the objective 'binary:logistic' was changed from 'error' to 'logloss'. Explicitly set eval_metric if you'd like to restore the old behavior.\n",
      "[CV 3/5; 45/64] END colsample_bytree=0.8, max_depth=10, n_estimators=200, reg_alpha=1.3, reg_lambda=1.1, subsample=0.5; total time=   6.2s\n",
      "[CV 4/5; 45/64] START colsample_bytree=0.8, max_depth=10, n_estimators=200, reg_alpha=1.3, reg_lambda=1.1, subsample=0.5\n",
      "[11:33:12] WARNING: /Users/travis/build/dmlc/xgboost/src/learner.cc:1115: Starting in XGBoost 1.3.0, the default evaluation metric used with the objective 'binary:logistic' was changed from 'error' to 'logloss'. Explicitly set eval_metric if you'd like to restore the old behavior.\n"
     ]
    },
    {
     "name": "stdout",
     "output_type": "stream",
     "text": [
      "[CV 4/5; 45/64] END colsample_bytree=0.8, max_depth=10, n_estimators=200, reg_alpha=1.3, reg_lambda=1.1, subsample=0.5; total time=   6.4s\n",
      "[CV 5/5; 45/64] START colsample_bytree=0.8, max_depth=10, n_estimators=200, reg_alpha=1.3, reg_lambda=1.1, subsample=0.5\n",
      "[11:33:18] WARNING: /Users/travis/build/dmlc/xgboost/src/learner.cc:1115: Starting in XGBoost 1.3.0, the default evaluation metric used with the objective 'binary:logistic' was changed from 'error' to 'logloss'. Explicitly set eval_metric if you'd like to restore the old behavior.\n",
      "[CV 5/5; 45/64] END colsample_bytree=0.8, max_depth=10, n_estimators=200, reg_alpha=1.3, reg_lambda=1.1, subsample=0.5; total time=   6.3s\n",
      "[CV 1/5; 46/64] START colsample_bytree=0.8, max_depth=10, n_estimators=200, reg_alpha=1.3, reg_lambda=1.1, subsample=0.9\n",
      "[11:33:24] WARNING: /Users/travis/build/dmlc/xgboost/src/learner.cc:1115: Starting in XGBoost 1.3.0, the default evaluation metric used with the objective 'binary:logistic' was changed from 'error' to 'logloss'. Explicitly set eval_metric if you'd like to restore the old behavior.\n",
      "[CV 1/5; 46/64] END colsample_bytree=0.8, max_depth=10, n_estimators=200, reg_alpha=1.3, reg_lambda=1.1, subsample=0.9; total time=   7.6s\n",
      "[CV 2/5; 46/64] START colsample_bytree=0.8, max_depth=10, n_estimators=200, reg_alpha=1.3, reg_lambda=1.1, subsample=0.9\n",
      "[11:33:32] WARNING: /Users/travis/build/dmlc/xgboost/src/learner.cc:1115: Starting in XGBoost 1.3.0, the default evaluation metric used with the objective 'binary:logistic' was changed from 'error' to 'logloss'. Explicitly set eval_metric if you'd like to restore the old behavior.\n",
      "[CV 2/5; 46/64] END colsample_bytree=0.8, max_depth=10, n_estimators=200, reg_alpha=1.3, reg_lambda=1.1, subsample=0.9; total time=   7.1s\n",
      "[CV 3/5; 46/64] START colsample_bytree=0.8, max_depth=10, n_estimators=200, reg_alpha=1.3, reg_lambda=1.1, subsample=0.9\n",
      "[11:33:39] WARNING: /Users/travis/build/dmlc/xgboost/src/learner.cc:1115: Starting in XGBoost 1.3.0, the default evaluation metric used with the objective 'binary:logistic' was changed from 'error' to 'logloss'. Explicitly set eval_metric if you'd like to restore the old behavior.\n",
      "[CV 3/5; 46/64] END colsample_bytree=0.8, max_depth=10, n_estimators=200, reg_alpha=1.3, reg_lambda=1.1, subsample=0.9; total time=   7.5s\n",
      "[CV 4/5; 46/64] START colsample_bytree=0.8, max_depth=10, n_estimators=200, reg_alpha=1.3, reg_lambda=1.1, subsample=0.9\n",
      "[11:33:47] WARNING: /Users/travis/build/dmlc/xgboost/src/learner.cc:1115: Starting in XGBoost 1.3.0, the default evaluation metric used with the objective 'binary:logistic' was changed from 'error' to 'logloss'. Explicitly set eval_metric if you'd like to restore the old behavior.\n",
      "[CV 4/5; 46/64] END colsample_bytree=0.8, max_depth=10, n_estimators=200, reg_alpha=1.3, reg_lambda=1.1, subsample=0.9; total time=   7.3s\n",
      "[CV 5/5; 46/64] START colsample_bytree=0.8, max_depth=10, n_estimators=200, reg_alpha=1.3, reg_lambda=1.1, subsample=0.9\n",
      "[11:33:54] WARNING: /Users/travis/build/dmlc/xgboost/src/learner.cc:1115: Starting in XGBoost 1.3.0, the default evaluation metric used with the objective 'binary:logistic' was changed from 'error' to 'logloss'. Explicitly set eval_metric if you'd like to restore the old behavior.\n",
      "[CV 5/5; 46/64] END colsample_bytree=0.8, max_depth=10, n_estimators=200, reg_alpha=1.3, reg_lambda=1.1, subsample=0.9; total time=   7.4s\n",
      "[CV 1/5; 47/64] START colsample_bytree=0.8, max_depth=10, n_estimators=200, reg_alpha=1.3, reg_lambda=1.3, subsample=0.5\n",
      "[11:34:01] WARNING: /Users/travis/build/dmlc/xgboost/src/learner.cc:1115: Starting in XGBoost 1.3.0, the default evaluation metric used with the objective 'binary:logistic' was changed from 'error' to 'logloss'. Explicitly set eval_metric if you'd like to restore the old behavior.\n",
      "[CV 1/5; 47/64] END colsample_bytree=0.8, max_depth=10, n_estimators=200, reg_alpha=1.3, reg_lambda=1.3, subsample=0.5; total time=   6.1s\n",
      "[CV 2/5; 47/64] START colsample_bytree=0.8, max_depth=10, n_estimators=200, reg_alpha=1.3, reg_lambda=1.3, subsample=0.5\n",
      "[11:34:07] WARNING: /Users/travis/build/dmlc/xgboost/src/learner.cc:1115: Starting in XGBoost 1.3.0, the default evaluation metric used with the objective 'binary:logistic' was changed from 'error' to 'logloss'. Explicitly set eval_metric if you'd like to restore the old behavior.\n",
      "[CV 2/5; 47/64] END colsample_bytree=0.8, max_depth=10, n_estimators=200, reg_alpha=1.3, reg_lambda=1.3, subsample=0.5; total time=   6.4s\n",
      "[CV 3/5; 47/64] START colsample_bytree=0.8, max_depth=10, n_estimators=200, reg_alpha=1.3, reg_lambda=1.3, subsample=0.5\n",
      "[11:34:14] WARNING: /Users/travis/build/dmlc/xgboost/src/learner.cc:1115: Starting in XGBoost 1.3.0, the default evaluation metric used with the objective 'binary:logistic' was changed from 'error' to 'logloss'. Explicitly set eval_metric if you'd like to restore the old behavior.\n",
      "[CV 3/5; 47/64] END colsample_bytree=0.8, max_depth=10, n_estimators=200, reg_alpha=1.3, reg_lambda=1.3, subsample=0.5; total time=   6.2s\n",
      "[CV 4/5; 47/64] START colsample_bytree=0.8, max_depth=10, n_estimators=200, reg_alpha=1.3, reg_lambda=1.3, subsample=0.5\n",
      "[11:34:20] WARNING: /Users/travis/build/dmlc/xgboost/src/learner.cc:1115: Starting in XGBoost 1.3.0, the default evaluation metric used with the objective 'binary:logistic' was changed from 'error' to 'logloss'. Explicitly set eval_metric if you'd like to restore the old behavior.\n",
      "[CV 4/5; 47/64] END colsample_bytree=0.8, max_depth=10, n_estimators=200, reg_alpha=1.3, reg_lambda=1.3, subsample=0.5; total time=   6.0s\n",
      "[CV 5/5; 47/64] START colsample_bytree=0.8, max_depth=10, n_estimators=200, reg_alpha=1.3, reg_lambda=1.3, subsample=0.5\n",
      "[11:34:26] WARNING: /Users/travis/build/dmlc/xgboost/src/learner.cc:1115: Starting in XGBoost 1.3.0, the default evaluation metric used with the objective 'binary:logistic' was changed from 'error' to 'logloss'. Explicitly set eval_metric if you'd like to restore the old behavior.\n",
      "[CV 5/5; 47/64] END colsample_bytree=0.8, max_depth=10, n_estimators=200, reg_alpha=1.3, reg_lambda=1.3, subsample=0.5; total time=   6.1s\n",
      "[CV 1/5; 48/64] START colsample_bytree=0.8, max_depth=10, n_estimators=200, reg_alpha=1.3, reg_lambda=1.3, subsample=0.9\n",
      "[11:34:32] WARNING: /Users/travis/build/dmlc/xgboost/src/learner.cc:1115: Starting in XGBoost 1.3.0, the default evaluation metric used with the objective 'binary:logistic' was changed from 'error' to 'logloss'. Explicitly set eval_metric if you'd like to restore the old behavior.\n",
      "[CV 1/5; 48/64] END colsample_bytree=0.8, max_depth=10, n_estimators=200, reg_alpha=1.3, reg_lambda=1.3, subsample=0.9; total time=   7.0s\n",
      "[CV 2/5; 48/64] START colsample_bytree=0.8, max_depth=10, n_estimators=200, reg_alpha=1.3, reg_lambda=1.3, subsample=0.9\n",
      "[11:34:39] WARNING: /Users/travis/build/dmlc/xgboost/src/learner.cc:1115: Starting in XGBoost 1.3.0, the default evaluation metric used with the objective 'binary:logistic' was changed from 'error' to 'logloss'. Explicitly set eval_metric if you'd like to restore the old behavior.\n",
      "[CV 2/5; 48/64] END colsample_bytree=0.8, max_depth=10, n_estimators=200, reg_alpha=1.3, reg_lambda=1.3, subsample=0.9; total time=   7.0s\n",
      "[CV 3/5; 48/64] START colsample_bytree=0.8, max_depth=10, n_estimators=200, reg_alpha=1.3, reg_lambda=1.3, subsample=0.9\n",
      "[11:34:46] WARNING: /Users/travis/build/dmlc/xgboost/src/learner.cc:1115: Starting in XGBoost 1.3.0, the default evaluation metric used with the objective 'binary:logistic' was changed from 'error' to 'logloss'. Explicitly set eval_metric if you'd like to restore the old behavior.\n",
      "[CV 3/5; 48/64] END colsample_bytree=0.8, max_depth=10, n_estimators=200, reg_alpha=1.3, reg_lambda=1.3, subsample=0.9; total time=   6.9s\n",
      "[CV 4/5; 48/64] START colsample_bytree=0.8, max_depth=10, n_estimators=200, reg_alpha=1.3, reg_lambda=1.3, subsample=0.9\n",
      "[11:34:53] WARNING: /Users/travis/build/dmlc/xgboost/src/learner.cc:1115: Starting in XGBoost 1.3.0, the default evaluation metric used with the objective 'binary:logistic' was changed from 'error' to 'logloss'. Explicitly set eval_metric if you'd like to restore the old behavior.\n",
      "[CV 4/5; 48/64] END colsample_bytree=0.8, max_depth=10, n_estimators=200, reg_alpha=1.3, reg_lambda=1.3, subsample=0.9; total time=   7.5s\n",
      "[CV 5/5; 48/64] START colsample_bytree=0.8, max_depth=10, n_estimators=200, reg_alpha=1.3, reg_lambda=1.3, subsample=0.9\n",
      "[11:35:01] WARNING: /Users/travis/build/dmlc/xgboost/src/learner.cc:1115: Starting in XGBoost 1.3.0, the default evaluation metric used with the objective 'binary:logistic' was changed from 'error' to 'logloss'. Explicitly set eval_metric if you'd like to restore the old behavior.\n"
     ]
    },
    {
     "name": "stdout",
     "output_type": "stream",
     "text": [
      "[CV 5/5; 48/64] END colsample_bytree=0.8, max_depth=10, n_estimators=200, reg_alpha=1.3, reg_lambda=1.3, subsample=0.9; total time=   7.0s\n",
      "[CV 1/5; 49/64] START colsample_bytree=0.8, max_depth=50, n_estimators=20, reg_alpha=1.1, reg_lambda=1.1, subsample=0.5\n",
      "[11:35:08] WARNING: /Users/travis/build/dmlc/xgboost/src/learner.cc:1115: Starting in XGBoost 1.3.0, the default evaluation metric used with the objective 'binary:logistic' was changed from 'error' to 'logloss'. Explicitly set eval_metric if you'd like to restore the old behavior.\n",
      "[CV 1/5; 49/64] END colsample_bytree=0.8, max_depth=50, n_estimators=20, reg_alpha=1.1, reg_lambda=1.1, subsample=0.5; total time=   1.3s\n",
      "[CV 2/5; 49/64] START colsample_bytree=0.8, max_depth=50, n_estimators=20, reg_alpha=1.1, reg_lambda=1.1, subsample=0.5\n",
      "[11:35:09] WARNING: /Users/travis/build/dmlc/xgboost/src/learner.cc:1115: Starting in XGBoost 1.3.0, the default evaluation metric used with the objective 'binary:logistic' was changed from 'error' to 'logloss'. Explicitly set eval_metric if you'd like to restore the old behavior.\n",
      "[CV 2/5; 49/64] END colsample_bytree=0.8, max_depth=50, n_estimators=20, reg_alpha=1.1, reg_lambda=1.1, subsample=0.5; total time=   1.1s\n",
      "[CV 3/5; 49/64] START colsample_bytree=0.8, max_depth=50, n_estimators=20, reg_alpha=1.1, reg_lambda=1.1, subsample=0.5\n",
      "[11:35:10] WARNING: /Users/travis/build/dmlc/xgboost/src/learner.cc:1115: Starting in XGBoost 1.3.0, the default evaluation metric used with the objective 'binary:logistic' was changed from 'error' to 'logloss'. Explicitly set eval_metric if you'd like to restore the old behavior.\n",
      "[CV 3/5; 49/64] END colsample_bytree=0.8, max_depth=50, n_estimators=20, reg_alpha=1.1, reg_lambda=1.1, subsample=0.5; total time=   1.1s\n",
      "[CV 4/5; 49/64] START colsample_bytree=0.8, max_depth=50, n_estimators=20, reg_alpha=1.1, reg_lambda=1.1, subsample=0.5\n",
      "[11:35:11] WARNING: /Users/travis/build/dmlc/xgboost/src/learner.cc:1115: Starting in XGBoost 1.3.0, the default evaluation metric used with the objective 'binary:logistic' was changed from 'error' to 'logloss'. Explicitly set eval_metric if you'd like to restore the old behavior.\n",
      "[CV 4/5; 49/64] END colsample_bytree=0.8, max_depth=50, n_estimators=20, reg_alpha=1.1, reg_lambda=1.1, subsample=0.5; total time=   1.1s\n",
      "[CV 5/5; 49/64] START colsample_bytree=0.8, max_depth=50, n_estimators=20, reg_alpha=1.1, reg_lambda=1.1, subsample=0.5\n",
      "[11:35:12] WARNING: /Users/travis/build/dmlc/xgboost/src/learner.cc:1115: Starting in XGBoost 1.3.0, the default evaluation metric used with the objective 'binary:logistic' was changed from 'error' to 'logloss'. Explicitly set eval_metric if you'd like to restore the old behavior.\n",
      "[CV 5/5; 49/64] END colsample_bytree=0.8, max_depth=50, n_estimators=20, reg_alpha=1.1, reg_lambda=1.1, subsample=0.5; total time=   1.1s\n",
      "[CV 1/5; 50/64] START colsample_bytree=0.8, max_depth=50, n_estimators=20, reg_alpha=1.1, reg_lambda=1.1, subsample=0.9\n",
      "[11:35:13] WARNING: /Users/travis/build/dmlc/xgboost/src/learner.cc:1115: Starting in XGBoost 1.3.0, the default evaluation metric used with the objective 'binary:logistic' was changed from 'error' to 'logloss'. Explicitly set eval_metric if you'd like to restore the old behavior.\n",
      "[CV 1/5; 50/64] END colsample_bytree=0.8, max_depth=50, n_estimators=20, reg_alpha=1.1, reg_lambda=1.1, subsample=0.9; total time=   1.5s\n",
      "[CV 2/5; 50/64] START colsample_bytree=0.8, max_depth=50, n_estimators=20, reg_alpha=1.1, reg_lambda=1.1, subsample=0.9\n",
      "[11:35:15] WARNING: /Users/travis/build/dmlc/xgboost/src/learner.cc:1115: Starting in XGBoost 1.3.0, the default evaluation metric used with the objective 'binary:logistic' was changed from 'error' to 'logloss'. Explicitly set eval_metric if you'd like to restore the old behavior.\n",
      "[CV 2/5; 50/64] END colsample_bytree=0.8, max_depth=50, n_estimators=20, reg_alpha=1.1, reg_lambda=1.1, subsample=0.9; total time=   1.9s\n",
      "[CV 3/5; 50/64] START colsample_bytree=0.8, max_depth=50, n_estimators=20, reg_alpha=1.1, reg_lambda=1.1, subsample=0.9\n",
      "[11:35:17] WARNING: /Users/travis/build/dmlc/xgboost/src/learner.cc:1115: Starting in XGBoost 1.3.0, the default evaluation metric used with the objective 'binary:logistic' was changed from 'error' to 'logloss'. Explicitly set eval_metric if you'd like to restore the old behavior.\n",
      "[CV 3/5; 50/64] END colsample_bytree=0.8, max_depth=50, n_estimators=20, reg_alpha=1.1, reg_lambda=1.1, subsample=0.9; total time=   1.5s\n",
      "[CV 4/5; 50/64] START colsample_bytree=0.8, max_depth=50, n_estimators=20, reg_alpha=1.1, reg_lambda=1.1, subsample=0.9\n",
      "[11:35:18] WARNING: /Users/travis/build/dmlc/xgboost/src/learner.cc:1115: Starting in XGBoost 1.3.0, the default evaluation metric used with the objective 'binary:logistic' was changed from 'error' to 'logloss'. Explicitly set eval_metric if you'd like to restore the old behavior.\n",
      "[CV 4/5; 50/64] END colsample_bytree=0.8, max_depth=50, n_estimators=20, reg_alpha=1.1, reg_lambda=1.1, subsample=0.9; total time=   1.4s\n",
      "[CV 5/5; 50/64] START colsample_bytree=0.8, max_depth=50, n_estimators=20, reg_alpha=1.1, reg_lambda=1.1, subsample=0.9\n",
      "[11:35:19] WARNING: /Users/travis/build/dmlc/xgboost/src/learner.cc:1115: Starting in XGBoost 1.3.0, the default evaluation metric used with the objective 'binary:logistic' was changed from 'error' to 'logloss'. Explicitly set eval_metric if you'd like to restore the old behavior.\n",
      "[CV 5/5; 50/64] END colsample_bytree=0.8, max_depth=50, n_estimators=20, reg_alpha=1.1, reg_lambda=1.1, subsample=0.9; total time=   1.4s\n",
      "[CV 1/5; 51/64] START colsample_bytree=0.8, max_depth=50, n_estimators=20, reg_alpha=1.1, reg_lambda=1.3, subsample=0.5\n",
      "[11:35:21] WARNING: /Users/travis/build/dmlc/xgboost/src/learner.cc:1115: Starting in XGBoost 1.3.0, the default evaluation metric used with the objective 'binary:logistic' was changed from 'error' to 'logloss'. Explicitly set eval_metric if you'd like to restore the old behavior.\n",
      "[CV 1/5; 51/64] END colsample_bytree=0.8, max_depth=50, n_estimators=20, reg_alpha=1.1, reg_lambda=1.3, subsample=0.5; total time=   1.1s\n",
      "[CV 2/5; 51/64] START colsample_bytree=0.8, max_depth=50, n_estimators=20, reg_alpha=1.1, reg_lambda=1.3, subsample=0.5\n",
      "[11:35:22] WARNING: /Users/travis/build/dmlc/xgboost/src/learner.cc:1115: Starting in XGBoost 1.3.0, the default evaluation metric used with the objective 'binary:logistic' was changed from 'error' to 'logloss'. Explicitly set eval_metric if you'd like to restore the old behavior.\n",
      "[CV 2/5; 51/64] END colsample_bytree=0.8, max_depth=50, n_estimators=20, reg_alpha=1.1, reg_lambda=1.3, subsample=0.5; total time=   1.1s\n",
      "[CV 3/5; 51/64] START colsample_bytree=0.8, max_depth=50, n_estimators=20, reg_alpha=1.1, reg_lambda=1.3, subsample=0.5\n",
      "[11:35:23] WARNING: /Users/travis/build/dmlc/xgboost/src/learner.cc:1115: Starting in XGBoost 1.3.0, the default evaluation metric used with the objective 'binary:logistic' was changed from 'error' to 'logloss'. Explicitly set eval_metric if you'd like to restore the old behavior.\n",
      "[CV 3/5; 51/64] END colsample_bytree=0.8, max_depth=50, n_estimators=20, reg_alpha=1.1, reg_lambda=1.3, subsample=0.5; total time=   1.1s\n",
      "[CV 4/5; 51/64] START colsample_bytree=0.8, max_depth=50, n_estimators=20, reg_alpha=1.1, reg_lambda=1.3, subsample=0.5\n",
      "[11:35:24] WARNING: /Users/travis/build/dmlc/xgboost/src/learner.cc:1115: Starting in XGBoost 1.3.0, the default evaluation metric used with the objective 'binary:logistic' was changed from 'error' to 'logloss'. Explicitly set eval_metric if you'd like to restore the old behavior.\n",
      "[CV 4/5; 51/64] END colsample_bytree=0.8, max_depth=50, n_estimators=20, reg_alpha=1.1, reg_lambda=1.3, subsample=0.5; total time=   1.1s\n",
      "[CV 5/5; 51/64] START colsample_bytree=0.8, max_depth=50, n_estimators=20, reg_alpha=1.1, reg_lambda=1.3, subsample=0.5\n",
      "[11:35:25] WARNING: /Users/travis/build/dmlc/xgboost/src/learner.cc:1115: Starting in XGBoost 1.3.0, the default evaluation metric used with the objective 'binary:logistic' was changed from 'error' to 'logloss'. Explicitly set eval_metric if you'd like to restore the old behavior.\n",
      "[CV 5/5; 51/64] END colsample_bytree=0.8, max_depth=50, n_estimators=20, reg_alpha=1.1, reg_lambda=1.3, subsample=0.5; total time=   1.1s\n",
      "[CV 1/5; 52/64] START colsample_bytree=0.8, max_depth=50, n_estimators=20, reg_alpha=1.1, reg_lambda=1.3, subsample=0.9\n",
      "[11:35:26] WARNING: /Users/travis/build/dmlc/xgboost/src/learner.cc:1115: Starting in XGBoost 1.3.0, the default evaluation metric used with the objective 'binary:logistic' was changed from 'error' to 'logloss'. Explicitly set eval_metric if you'd like to restore the old behavior.\n"
     ]
    },
    {
     "name": "stdout",
     "output_type": "stream",
     "text": [
      "[CV 1/5; 52/64] END colsample_bytree=0.8, max_depth=50, n_estimators=20, reg_alpha=1.1, reg_lambda=1.3, subsample=0.9; total time=   1.4s\n",
      "[CV 2/5; 52/64] START colsample_bytree=0.8, max_depth=50, n_estimators=20, reg_alpha=1.1, reg_lambda=1.3, subsample=0.9\n",
      "[11:35:28] WARNING: /Users/travis/build/dmlc/xgboost/src/learner.cc:1115: Starting in XGBoost 1.3.0, the default evaluation metric used with the objective 'binary:logistic' was changed from 'error' to 'logloss'. Explicitly set eval_metric if you'd like to restore the old behavior.\n",
      "[CV 2/5; 52/64] END colsample_bytree=0.8, max_depth=50, n_estimators=20, reg_alpha=1.1, reg_lambda=1.3, subsample=0.9; total time=   1.4s\n",
      "[CV 3/5; 52/64] START colsample_bytree=0.8, max_depth=50, n_estimators=20, reg_alpha=1.1, reg_lambda=1.3, subsample=0.9\n",
      "[11:35:29] WARNING: /Users/travis/build/dmlc/xgboost/src/learner.cc:1115: Starting in XGBoost 1.3.0, the default evaluation metric used with the objective 'binary:logistic' was changed from 'error' to 'logloss'. Explicitly set eval_metric if you'd like to restore the old behavior.\n",
      "[CV 3/5; 52/64] END colsample_bytree=0.8, max_depth=50, n_estimators=20, reg_alpha=1.1, reg_lambda=1.3, subsample=0.9; total time=   1.4s\n",
      "[CV 4/5; 52/64] START colsample_bytree=0.8, max_depth=50, n_estimators=20, reg_alpha=1.1, reg_lambda=1.3, subsample=0.9\n",
      "[11:35:30] WARNING: /Users/travis/build/dmlc/xgboost/src/learner.cc:1115: Starting in XGBoost 1.3.0, the default evaluation metric used with the objective 'binary:logistic' was changed from 'error' to 'logloss'. Explicitly set eval_metric if you'd like to restore the old behavior.\n",
      "[CV 4/5; 52/64] END colsample_bytree=0.8, max_depth=50, n_estimators=20, reg_alpha=1.1, reg_lambda=1.3, subsample=0.9; total time=   1.4s\n",
      "[CV 5/5; 52/64] START colsample_bytree=0.8, max_depth=50, n_estimators=20, reg_alpha=1.1, reg_lambda=1.3, subsample=0.9\n",
      "[11:35:32] WARNING: /Users/travis/build/dmlc/xgboost/src/learner.cc:1115: Starting in XGBoost 1.3.0, the default evaluation metric used with the objective 'binary:logistic' was changed from 'error' to 'logloss'. Explicitly set eval_metric if you'd like to restore the old behavior.\n",
      "[CV 5/5; 52/64] END colsample_bytree=0.8, max_depth=50, n_estimators=20, reg_alpha=1.1, reg_lambda=1.3, subsample=0.9; total time=   1.4s\n",
      "[CV 1/5; 53/64] START colsample_bytree=0.8, max_depth=50, n_estimators=20, reg_alpha=1.3, reg_lambda=1.1, subsample=0.5\n",
      "[11:35:33] WARNING: /Users/travis/build/dmlc/xgboost/src/learner.cc:1115: Starting in XGBoost 1.3.0, the default evaluation metric used with the objective 'binary:logistic' was changed from 'error' to 'logloss'. Explicitly set eval_metric if you'd like to restore the old behavior.\n",
      "[CV 1/5; 53/64] END colsample_bytree=0.8, max_depth=50, n_estimators=20, reg_alpha=1.3, reg_lambda=1.1, subsample=0.5; total time=   1.1s\n",
      "[CV 2/5; 53/64] START colsample_bytree=0.8, max_depth=50, n_estimators=20, reg_alpha=1.3, reg_lambda=1.1, subsample=0.5\n",
      "[11:35:34] WARNING: /Users/travis/build/dmlc/xgboost/src/learner.cc:1115: Starting in XGBoost 1.3.0, the default evaluation metric used with the objective 'binary:logistic' was changed from 'error' to 'logloss'. Explicitly set eval_metric if you'd like to restore the old behavior.\n",
      "[CV 2/5; 53/64] END colsample_bytree=0.8, max_depth=50, n_estimators=20, reg_alpha=1.3, reg_lambda=1.1, subsample=0.5; total time=   1.1s\n",
      "[CV 3/5; 53/64] START colsample_bytree=0.8, max_depth=50, n_estimators=20, reg_alpha=1.3, reg_lambda=1.1, subsample=0.5\n",
      "[11:35:35] WARNING: /Users/travis/build/dmlc/xgboost/src/learner.cc:1115: Starting in XGBoost 1.3.0, the default evaluation metric used with the objective 'binary:logistic' was changed from 'error' to 'logloss'. Explicitly set eval_metric if you'd like to restore the old behavior.\n",
      "[CV 3/5; 53/64] END colsample_bytree=0.8, max_depth=50, n_estimators=20, reg_alpha=1.3, reg_lambda=1.1, subsample=0.5; total time=   1.2s\n",
      "[CV 4/5; 53/64] START colsample_bytree=0.8, max_depth=50, n_estimators=20, reg_alpha=1.3, reg_lambda=1.1, subsample=0.5\n",
      "[11:35:37] WARNING: /Users/travis/build/dmlc/xgboost/src/learner.cc:1115: Starting in XGBoost 1.3.0, the default evaluation metric used with the objective 'binary:logistic' was changed from 'error' to 'logloss'. Explicitly set eval_metric if you'd like to restore the old behavior.\n",
      "[CV 4/5; 53/64] END colsample_bytree=0.8, max_depth=50, n_estimators=20, reg_alpha=1.3, reg_lambda=1.1, subsample=0.5; total time=   1.2s\n",
      "[CV 5/5; 53/64] START colsample_bytree=0.8, max_depth=50, n_estimators=20, reg_alpha=1.3, reg_lambda=1.1, subsample=0.5\n",
      "[11:35:38] WARNING: /Users/travis/build/dmlc/xgboost/src/learner.cc:1115: Starting in XGBoost 1.3.0, the default evaluation metric used with the objective 'binary:logistic' was changed from 'error' to 'logloss'. Explicitly set eval_metric if you'd like to restore the old behavior.\n",
      "[CV 5/5; 53/64] END colsample_bytree=0.8, max_depth=50, n_estimators=20, reg_alpha=1.3, reg_lambda=1.1, subsample=0.5; total time=   1.1s\n",
      "[CV 1/5; 54/64] START colsample_bytree=0.8, max_depth=50, n_estimators=20, reg_alpha=1.3, reg_lambda=1.1, subsample=0.9\n",
      "[11:35:39] WARNING: /Users/travis/build/dmlc/xgboost/src/learner.cc:1115: Starting in XGBoost 1.3.0, the default evaluation metric used with the objective 'binary:logistic' was changed from 'error' to 'logloss'. Explicitly set eval_metric if you'd like to restore the old behavior.\n",
      "[CV 1/5; 54/64] END colsample_bytree=0.8, max_depth=50, n_estimators=20, reg_alpha=1.3, reg_lambda=1.1, subsample=0.9; total time=   1.5s\n",
      "[CV 2/5; 54/64] START colsample_bytree=0.8, max_depth=50, n_estimators=20, reg_alpha=1.3, reg_lambda=1.1, subsample=0.9\n",
      "[11:35:40] WARNING: /Users/travis/build/dmlc/xgboost/src/learner.cc:1115: Starting in XGBoost 1.3.0, the default evaluation metric used with the objective 'binary:logistic' was changed from 'error' to 'logloss'. Explicitly set eval_metric if you'd like to restore the old behavior.\n",
      "[CV 2/5; 54/64] END colsample_bytree=0.8, max_depth=50, n_estimators=20, reg_alpha=1.3, reg_lambda=1.1, subsample=0.9; total time=   1.5s\n",
      "[CV 3/5; 54/64] START colsample_bytree=0.8, max_depth=50, n_estimators=20, reg_alpha=1.3, reg_lambda=1.1, subsample=0.9\n",
      "[11:35:42] WARNING: /Users/travis/build/dmlc/xgboost/src/learner.cc:1115: Starting in XGBoost 1.3.0, the default evaluation metric used with the objective 'binary:logistic' was changed from 'error' to 'logloss'. Explicitly set eval_metric if you'd like to restore the old behavior.\n",
      "[CV 3/5; 54/64] END colsample_bytree=0.8, max_depth=50, n_estimators=20, reg_alpha=1.3, reg_lambda=1.1, subsample=0.9; total time=   1.5s\n",
      "[CV 4/5; 54/64] START colsample_bytree=0.8, max_depth=50, n_estimators=20, reg_alpha=1.3, reg_lambda=1.1, subsample=0.9\n",
      "[11:35:43] WARNING: /Users/travis/build/dmlc/xgboost/src/learner.cc:1115: Starting in XGBoost 1.3.0, the default evaluation metric used with the objective 'binary:logistic' was changed from 'error' to 'logloss'. Explicitly set eval_metric if you'd like to restore the old behavior.\n",
      "[CV 4/5; 54/64] END colsample_bytree=0.8, max_depth=50, n_estimators=20, reg_alpha=1.3, reg_lambda=1.1, subsample=0.9; total time=   1.5s\n",
      "[CV 5/5; 54/64] START colsample_bytree=0.8, max_depth=50, n_estimators=20, reg_alpha=1.3, reg_lambda=1.1, subsample=0.9\n",
      "[11:35:45] WARNING: /Users/travis/build/dmlc/xgboost/src/learner.cc:1115: Starting in XGBoost 1.3.0, the default evaluation metric used with the objective 'binary:logistic' was changed from 'error' to 'logloss'. Explicitly set eval_metric if you'd like to restore the old behavior.\n",
      "[CV 5/5; 54/64] END colsample_bytree=0.8, max_depth=50, n_estimators=20, reg_alpha=1.3, reg_lambda=1.1, subsample=0.9; total time=   1.5s\n",
      "[CV 1/5; 55/64] START colsample_bytree=0.8, max_depth=50, n_estimators=20, reg_alpha=1.3, reg_lambda=1.3, subsample=0.5\n",
      "[11:35:46] WARNING: /Users/travis/build/dmlc/xgboost/src/learner.cc:1115: Starting in XGBoost 1.3.0, the default evaluation metric used with the objective 'binary:logistic' was changed from 'error' to 'logloss'. Explicitly set eval_metric if you'd like to restore the old behavior.\n",
      "[CV 1/5; 55/64] END colsample_bytree=0.8, max_depth=50, n_estimators=20, reg_alpha=1.3, reg_lambda=1.3, subsample=0.5; total time=   1.1s\n",
      "[CV 2/5; 55/64] START colsample_bytree=0.8, max_depth=50, n_estimators=20, reg_alpha=1.3, reg_lambda=1.3, subsample=0.5\n",
      "[11:35:48] WARNING: /Users/travis/build/dmlc/xgboost/src/learner.cc:1115: Starting in XGBoost 1.3.0, the default evaluation metric used with the objective 'binary:logistic' was changed from 'error' to 'logloss'. Explicitly set eval_metric if you'd like to restore the old behavior.\n"
     ]
    },
    {
     "name": "stdout",
     "output_type": "stream",
     "text": [
      "[CV 2/5; 55/64] END colsample_bytree=0.8, max_depth=50, n_estimators=20, reg_alpha=1.3, reg_lambda=1.3, subsample=0.5; total time=   1.2s\n",
      "[CV 3/5; 55/64] START colsample_bytree=0.8, max_depth=50, n_estimators=20, reg_alpha=1.3, reg_lambda=1.3, subsample=0.5\n",
      "[11:35:49] WARNING: /Users/travis/build/dmlc/xgboost/src/learner.cc:1115: Starting in XGBoost 1.3.0, the default evaluation metric used with the objective 'binary:logistic' was changed from 'error' to 'logloss'. Explicitly set eval_metric if you'd like to restore the old behavior.\n",
      "[CV 3/5; 55/64] END colsample_bytree=0.8, max_depth=50, n_estimators=20, reg_alpha=1.3, reg_lambda=1.3, subsample=0.5; total time=   1.0s\n",
      "[CV 4/5; 55/64] START colsample_bytree=0.8, max_depth=50, n_estimators=20, reg_alpha=1.3, reg_lambda=1.3, subsample=0.5\n",
      "[11:35:50] WARNING: /Users/travis/build/dmlc/xgboost/src/learner.cc:1115: Starting in XGBoost 1.3.0, the default evaluation metric used with the objective 'binary:logistic' was changed from 'error' to 'logloss'. Explicitly set eval_metric if you'd like to restore the old behavior.\n",
      "[CV 4/5; 55/64] END colsample_bytree=0.8, max_depth=50, n_estimators=20, reg_alpha=1.3, reg_lambda=1.3, subsample=0.5; total time=   1.1s\n",
      "[CV 5/5; 55/64] START colsample_bytree=0.8, max_depth=50, n_estimators=20, reg_alpha=1.3, reg_lambda=1.3, subsample=0.5\n",
      "[11:35:51] WARNING: /Users/travis/build/dmlc/xgboost/src/learner.cc:1115: Starting in XGBoost 1.3.0, the default evaluation metric used with the objective 'binary:logistic' was changed from 'error' to 'logloss'. Explicitly set eval_metric if you'd like to restore the old behavior.\n",
      "[CV 5/5; 55/64] END colsample_bytree=0.8, max_depth=50, n_estimators=20, reg_alpha=1.3, reg_lambda=1.3, subsample=0.5; total time=   1.0s\n",
      "[CV 1/5; 56/64] START colsample_bytree=0.8, max_depth=50, n_estimators=20, reg_alpha=1.3, reg_lambda=1.3, subsample=0.9\n",
      "[11:35:52] WARNING: /Users/travis/build/dmlc/xgboost/src/learner.cc:1115: Starting in XGBoost 1.3.0, the default evaluation metric used with the objective 'binary:logistic' was changed from 'error' to 'logloss'. Explicitly set eval_metric if you'd like to restore the old behavior.\n",
      "[CV 1/5; 56/64] END colsample_bytree=0.8, max_depth=50, n_estimators=20, reg_alpha=1.3, reg_lambda=1.3, subsample=0.9; total time=   1.4s\n",
      "[CV 2/5; 56/64] START colsample_bytree=0.8, max_depth=50, n_estimators=20, reg_alpha=1.3, reg_lambda=1.3, subsample=0.9\n",
      "[11:35:53] WARNING: /Users/travis/build/dmlc/xgboost/src/learner.cc:1115: Starting in XGBoost 1.3.0, the default evaluation metric used with the objective 'binary:logistic' was changed from 'error' to 'logloss'. Explicitly set eval_metric if you'd like to restore the old behavior.\n",
      "[CV 2/5; 56/64] END colsample_bytree=0.8, max_depth=50, n_estimators=20, reg_alpha=1.3, reg_lambda=1.3, subsample=0.9; total time=   1.4s\n",
      "[CV 3/5; 56/64] START colsample_bytree=0.8, max_depth=50, n_estimators=20, reg_alpha=1.3, reg_lambda=1.3, subsample=0.9\n",
      "[11:35:55] WARNING: /Users/travis/build/dmlc/xgboost/src/learner.cc:1115: Starting in XGBoost 1.3.0, the default evaluation metric used with the objective 'binary:logistic' was changed from 'error' to 'logloss'. Explicitly set eval_metric if you'd like to restore the old behavior.\n",
      "[CV 3/5; 56/64] END colsample_bytree=0.8, max_depth=50, n_estimators=20, reg_alpha=1.3, reg_lambda=1.3, subsample=0.9; total time=   1.4s\n",
      "[CV 4/5; 56/64] START colsample_bytree=0.8, max_depth=50, n_estimators=20, reg_alpha=1.3, reg_lambda=1.3, subsample=0.9\n",
      "[11:35:56] WARNING: /Users/travis/build/dmlc/xgboost/src/learner.cc:1115: Starting in XGBoost 1.3.0, the default evaluation metric used with the objective 'binary:logistic' was changed from 'error' to 'logloss'. Explicitly set eval_metric if you'd like to restore the old behavior.\n",
      "[CV 4/5; 56/64] END colsample_bytree=0.8, max_depth=50, n_estimators=20, reg_alpha=1.3, reg_lambda=1.3, subsample=0.9; total time=   1.4s\n",
      "[CV 5/5; 56/64] START colsample_bytree=0.8, max_depth=50, n_estimators=20, reg_alpha=1.3, reg_lambda=1.3, subsample=0.9\n",
      "[11:35:58] WARNING: /Users/travis/build/dmlc/xgboost/src/learner.cc:1115: Starting in XGBoost 1.3.0, the default evaluation metric used with the objective 'binary:logistic' was changed from 'error' to 'logloss'. Explicitly set eval_metric if you'd like to restore the old behavior.\n",
      "[CV 5/5; 56/64] END colsample_bytree=0.8, max_depth=50, n_estimators=20, reg_alpha=1.3, reg_lambda=1.3, subsample=0.9; total time=   1.4s\n",
      "[CV 1/5; 57/64] START colsample_bytree=0.8, max_depth=50, n_estimators=200, reg_alpha=1.1, reg_lambda=1.1, subsample=0.5\n",
      "[11:35:59] WARNING: /Users/travis/build/dmlc/xgboost/src/learner.cc:1115: Starting in XGBoost 1.3.0, the default evaluation metric used with the objective 'binary:logistic' was changed from 'error' to 'logloss'. Explicitly set eval_metric if you'd like to restore the old behavior.\n",
      "[CV 1/5; 57/64] END colsample_bytree=0.8, max_depth=50, n_estimators=200, reg_alpha=1.1, reg_lambda=1.1, subsample=0.5; total time=   7.9s\n",
      "[CV 2/5; 57/64] START colsample_bytree=0.8, max_depth=50, n_estimators=200, reg_alpha=1.1, reg_lambda=1.1, subsample=0.5\n",
      "[11:36:07] WARNING: /Users/travis/build/dmlc/xgboost/src/learner.cc:1115: Starting in XGBoost 1.3.0, the default evaluation metric used with the objective 'binary:logistic' was changed from 'error' to 'logloss'. Explicitly set eval_metric if you'd like to restore the old behavior.\n",
      "[CV 2/5; 57/64] END colsample_bytree=0.8, max_depth=50, n_estimators=200, reg_alpha=1.1, reg_lambda=1.1, subsample=0.5; total time=   8.1s\n",
      "[CV 3/5; 57/64] START colsample_bytree=0.8, max_depth=50, n_estimators=200, reg_alpha=1.1, reg_lambda=1.1, subsample=0.5\n",
      "[11:36:15] WARNING: /Users/travis/build/dmlc/xgboost/src/learner.cc:1115: Starting in XGBoost 1.3.0, the default evaluation metric used with the objective 'binary:logistic' was changed from 'error' to 'logloss'. Explicitly set eval_metric if you'd like to restore the old behavior.\n",
      "[CV 3/5; 57/64] END colsample_bytree=0.8, max_depth=50, n_estimators=200, reg_alpha=1.1, reg_lambda=1.1, subsample=0.5; total time=   8.1s\n",
      "[CV 4/5; 57/64] START colsample_bytree=0.8, max_depth=50, n_estimators=200, reg_alpha=1.1, reg_lambda=1.1, subsample=0.5\n",
      "[11:36:23] WARNING: /Users/travis/build/dmlc/xgboost/src/learner.cc:1115: Starting in XGBoost 1.3.0, the default evaluation metric used with the objective 'binary:logistic' was changed from 'error' to 'logloss'. Explicitly set eval_metric if you'd like to restore the old behavior.\n",
      "[CV 4/5; 57/64] END colsample_bytree=0.8, max_depth=50, n_estimators=200, reg_alpha=1.1, reg_lambda=1.1, subsample=0.5; total time=   8.0s\n",
      "[CV 5/5; 57/64] START colsample_bytree=0.8, max_depth=50, n_estimators=200, reg_alpha=1.1, reg_lambda=1.1, subsample=0.5\n",
      "[11:36:31] WARNING: /Users/travis/build/dmlc/xgboost/src/learner.cc:1115: Starting in XGBoost 1.3.0, the default evaluation metric used with the objective 'binary:logistic' was changed from 'error' to 'logloss'. Explicitly set eval_metric if you'd like to restore the old behavior.\n",
      "[CV 5/5; 57/64] END colsample_bytree=0.8, max_depth=50, n_estimators=200, reg_alpha=1.1, reg_lambda=1.1, subsample=0.5; total time=   7.9s\n",
      "[CV 1/5; 58/64] START colsample_bytree=0.8, max_depth=50, n_estimators=200, reg_alpha=1.1, reg_lambda=1.1, subsample=0.9\n",
      "[11:36:39] WARNING: /Users/travis/build/dmlc/xgboost/src/learner.cc:1115: Starting in XGBoost 1.3.0, the default evaluation metric used with the objective 'binary:logistic' was changed from 'error' to 'logloss'. Explicitly set eval_metric if you'd like to restore the old behavior.\n",
      "[CV 1/5; 58/64] END colsample_bytree=0.8, max_depth=50, n_estimators=200, reg_alpha=1.1, reg_lambda=1.1, subsample=0.9; total time=   9.8s\n",
      "[CV 2/5; 58/64] START colsample_bytree=0.8, max_depth=50, n_estimators=200, reg_alpha=1.1, reg_lambda=1.1, subsample=0.9\n",
      "[11:36:49] WARNING: /Users/travis/build/dmlc/xgboost/src/learner.cc:1115: Starting in XGBoost 1.3.0, the default evaluation metric used with the objective 'binary:logistic' was changed from 'error' to 'logloss'. Explicitly set eval_metric if you'd like to restore the old behavior.\n",
      "[CV 2/5; 58/64] END colsample_bytree=0.8, max_depth=50, n_estimators=200, reg_alpha=1.1, reg_lambda=1.1, subsample=0.9; total time=   9.7s\n",
      "[CV 3/5; 58/64] START colsample_bytree=0.8, max_depth=50, n_estimators=200, reg_alpha=1.1, reg_lambda=1.1, subsample=0.9\n",
      "[11:36:58] WARNING: /Users/travis/build/dmlc/xgboost/src/learner.cc:1115: Starting in XGBoost 1.3.0, the default evaluation metric used with the objective 'binary:logistic' was changed from 'error' to 'logloss'. Explicitly set eval_metric if you'd like to restore the old behavior.\n"
     ]
    },
    {
     "name": "stdout",
     "output_type": "stream",
     "text": [
      "[CV 3/5; 58/64] END colsample_bytree=0.8, max_depth=50, n_estimators=200, reg_alpha=1.1, reg_lambda=1.1, subsample=0.9; total time=   9.7s\n",
      "[CV 4/5; 58/64] START colsample_bytree=0.8, max_depth=50, n_estimators=200, reg_alpha=1.1, reg_lambda=1.1, subsample=0.9\n",
      "[11:37:08] WARNING: /Users/travis/build/dmlc/xgboost/src/learner.cc:1115: Starting in XGBoost 1.3.0, the default evaluation metric used with the objective 'binary:logistic' was changed from 'error' to 'logloss'. Explicitly set eval_metric if you'd like to restore the old behavior.\n",
      "[CV 4/5; 58/64] END colsample_bytree=0.8, max_depth=50, n_estimators=200, reg_alpha=1.1, reg_lambda=1.1, subsample=0.9; total time=   9.8s\n",
      "[CV 5/5; 58/64] START colsample_bytree=0.8, max_depth=50, n_estimators=200, reg_alpha=1.1, reg_lambda=1.1, subsample=0.9\n",
      "[11:37:18] WARNING: /Users/travis/build/dmlc/xgboost/src/learner.cc:1115: Starting in XGBoost 1.3.0, the default evaluation metric used with the objective 'binary:logistic' was changed from 'error' to 'logloss'. Explicitly set eval_metric if you'd like to restore the old behavior.\n",
      "[CV 5/5; 58/64] END colsample_bytree=0.8, max_depth=50, n_estimators=200, reg_alpha=1.1, reg_lambda=1.1, subsample=0.9; total time=  10.0s\n",
      "[CV 1/5; 59/64] START colsample_bytree=0.8, max_depth=50, n_estimators=200, reg_alpha=1.1, reg_lambda=1.3, subsample=0.5\n",
      "[11:37:28] WARNING: /Users/travis/build/dmlc/xgboost/src/learner.cc:1115: Starting in XGBoost 1.3.0, the default evaluation metric used with the objective 'binary:logistic' was changed from 'error' to 'logloss'. Explicitly set eval_metric if you'd like to restore the old behavior.\n",
      "[CV 1/5; 59/64] END colsample_bytree=0.8, max_depth=50, n_estimators=200, reg_alpha=1.1, reg_lambda=1.3, subsample=0.5; total time=   7.9s\n",
      "[CV 2/5; 59/64] START colsample_bytree=0.8, max_depth=50, n_estimators=200, reg_alpha=1.1, reg_lambda=1.3, subsample=0.5\n",
      "[11:37:36] WARNING: /Users/travis/build/dmlc/xgboost/src/learner.cc:1115: Starting in XGBoost 1.3.0, the default evaluation metric used with the objective 'binary:logistic' was changed from 'error' to 'logloss'. Explicitly set eval_metric if you'd like to restore the old behavior.\n",
      "[CV 2/5; 59/64] END colsample_bytree=0.8, max_depth=50, n_estimators=200, reg_alpha=1.1, reg_lambda=1.3, subsample=0.5; total time=   8.0s\n",
      "[CV 3/5; 59/64] START colsample_bytree=0.8, max_depth=50, n_estimators=200, reg_alpha=1.1, reg_lambda=1.3, subsample=0.5\n",
      "[11:37:44] WARNING: /Users/travis/build/dmlc/xgboost/src/learner.cc:1115: Starting in XGBoost 1.3.0, the default evaluation metric used with the objective 'binary:logistic' was changed from 'error' to 'logloss'. Explicitly set eval_metric if you'd like to restore the old behavior.\n",
      "[CV 3/5; 59/64] END colsample_bytree=0.8, max_depth=50, n_estimators=200, reg_alpha=1.1, reg_lambda=1.3, subsample=0.5; total time=   8.1s\n",
      "[CV 4/5; 59/64] START colsample_bytree=0.8, max_depth=50, n_estimators=200, reg_alpha=1.1, reg_lambda=1.3, subsample=0.5\n",
      "[11:37:52] WARNING: /Users/travis/build/dmlc/xgboost/src/learner.cc:1115: Starting in XGBoost 1.3.0, the default evaluation metric used with the objective 'binary:logistic' was changed from 'error' to 'logloss'. Explicitly set eval_metric if you'd like to restore the old behavior.\n",
      "[CV 4/5; 59/64] END colsample_bytree=0.8, max_depth=50, n_estimators=200, reg_alpha=1.1, reg_lambda=1.3, subsample=0.5; total time=   7.8s\n",
      "[CV 5/5; 59/64] START colsample_bytree=0.8, max_depth=50, n_estimators=200, reg_alpha=1.1, reg_lambda=1.3, subsample=0.5\n",
      "[11:38:00] WARNING: /Users/travis/build/dmlc/xgboost/src/learner.cc:1115: Starting in XGBoost 1.3.0, the default evaluation metric used with the objective 'binary:logistic' was changed from 'error' to 'logloss'. Explicitly set eval_metric if you'd like to restore the old behavior.\n",
      "[CV 5/5; 59/64] END colsample_bytree=0.8, max_depth=50, n_estimators=200, reg_alpha=1.1, reg_lambda=1.3, subsample=0.5; total time=   7.8s\n",
      "[CV 1/5; 60/64] START colsample_bytree=0.8, max_depth=50, n_estimators=200, reg_alpha=1.1, reg_lambda=1.3, subsample=0.9\n",
      "[11:38:08] WARNING: /Users/travis/build/dmlc/xgboost/src/learner.cc:1115: Starting in XGBoost 1.3.0, the default evaluation metric used with the objective 'binary:logistic' was changed from 'error' to 'logloss'. Explicitly set eval_metric if you'd like to restore the old behavior.\n",
      "[CV 1/5; 60/64] END colsample_bytree=0.8, max_depth=50, n_estimators=200, reg_alpha=1.1, reg_lambda=1.3, subsample=0.9; total time=  10.0s\n",
      "[CV 2/5; 60/64] START colsample_bytree=0.8, max_depth=50, n_estimators=200, reg_alpha=1.1, reg_lambda=1.3, subsample=0.9\n",
      "[11:38:17] WARNING: /Users/travis/build/dmlc/xgboost/src/learner.cc:1115: Starting in XGBoost 1.3.0, the default evaluation metric used with the objective 'binary:logistic' was changed from 'error' to 'logloss'. Explicitly set eval_metric if you'd like to restore the old behavior.\n",
      "[CV 2/5; 60/64] END colsample_bytree=0.8, max_depth=50, n_estimators=200, reg_alpha=1.1, reg_lambda=1.3, subsample=0.9; total time=   9.7s\n",
      "[CV 3/5; 60/64] START colsample_bytree=0.8, max_depth=50, n_estimators=200, reg_alpha=1.1, reg_lambda=1.3, subsample=0.9\n",
      "[11:38:27] WARNING: /Users/travis/build/dmlc/xgboost/src/learner.cc:1115: Starting in XGBoost 1.3.0, the default evaluation metric used with the objective 'binary:logistic' was changed from 'error' to 'logloss'. Explicitly set eval_metric if you'd like to restore the old behavior.\n",
      "[CV 3/5; 60/64] END colsample_bytree=0.8, max_depth=50, n_estimators=200, reg_alpha=1.1, reg_lambda=1.3, subsample=0.9; total time=   9.9s\n",
      "[CV 4/5; 60/64] START colsample_bytree=0.8, max_depth=50, n_estimators=200, reg_alpha=1.1, reg_lambda=1.3, subsample=0.9\n",
      "[11:38:37] WARNING: /Users/travis/build/dmlc/xgboost/src/learner.cc:1115: Starting in XGBoost 1.3.0, the default evaluation metric used with the objective 'binary:logistic' was changed from 'error' to 'logloss'. Explicitly set eval_metric if you'd like to restore the old behavior.\n",
      "[CV 4/5; 60/64] END colsample_bytree=0.8, max_depth=50, n_estimators=200, reg_alpha=1.1, reg_lambda=1.3, subsample=0.9; total time=   9.7s\n",
      "[CV 5/5; 60/64] START colsample_bytree=0.8, max_depth=50, n_estimators=200, reg_alpha=1.1, reg_lambda=1.3, subsample=0.9\n",
      "[11:38:47] WARNING: /Users/travis/build/dmlc/xgboost/src/learner.cc:1115: Starting in XGBoost 1.3.0, the default evaluation metric used with the objective 'binary:logistic' was changed from 'error' to 'logloss'. Explicitly set eval_metric if you'd like to restore the old behavior.\n",
      "[CV 5/5; 60/64] END colsample_bytree=0.8, max_depth=50, n_estimators=200, reg_alpha=1.1, reg_lambda=1.3, subsample=0.9; total time=  10.6s\n",
      "[CV 1/5; 61/64] START colsample_bytree=0.8, max_depth=50, n_estimators=200, reg_alpha=1.3, reg_lambda=1.1, subsample=0.5\n",
      "[11:38:57] WARNING: /Users/travis/build/dmlc/xgboost/src/learner.cc:1115: Starting in XGBoost 1.3.0, the default evaluation metric used with the objective 'binary:logistic' was changed from 'error' to 'logloss'. Explicitly set eval_metric if you'd like to restore the old behavior.\n",
      "[CV 1/5; 61/64] END colsample_bytree=0.8, max_depth=50, n_estimators=200, reg_alpha=1.3, reg_lambda=1.1, subsample=0.5; total time=   7.8s\n",
      "[CV 2/5; 61/64] START colsample_bytree=0.8, max_depth=50, n_estimators=200, reg_alpha=1.3, reg_lambda=1.1, subsample=0.5\n",
      "[11:39:05] WARNING: /Users/travis/build/dmlc/xgboost/src/learner.cc:1115: Starting in XGBoost 1.3.0, the default evaluation metric used with the objective 'binary:logistic' was changed from 'error' to 'logloss'. Explicitly set eval_metric if you'd like to restore the old behavior.\n",
      "[CV 2/5; 61/64] END colsample_bytree=0.8, max_depth=50, n_estimators=200, reg_alpha=1.3, reg_lambda=1.1, subsample=0.5; total time=   8.0s\n",
      "[CV 3/5; 61/64] START colsample_bytree=0.8, max_depth=50, n_estimators=200, reg_alpha=1.3, reg_lambda=1.1, subsample=0.5\n",
      "[11:39:13] WARNING: /Users/travis/build/dmlc/xgboost/src/learner.cc:1115: Starting in XGBoost 1.3.0, the default evaluation metric used with the objective 'binary:logistic' was changed from 'error' to 'logloss'. Explicitly set eval_metric if you'd like to restore the old behavior.\n",
      "[CV 3/5; 61/64] END colsample_bytree=0.8, max_depth=50, n_estimators=200, reg_alpha=1.3, reg_lambda=1.1, subsample=0.5; total time=   7.7s\n",
      "[CV 4/5; 61/64] START colsample_bytree=0.8, max_depth=50, n_estimators=200, reg_alpha=1.3, reg_lambda=1.1, subsample=0.5\n",
      "[11:39:21] WARNING: /Users/travis/build/dmlc/xgboost/src/learner.cc:1115: Starting in XGBoost 1.3.0, the default evaluation metric used with the objective 'binary:logistic' was changed from 'error' to 'logloss'. Explicitly set eval_metric if you'd like to restore the old behavior.\n"
     ]
    },
    {
     "name": "stdout",
     "output_type": "stream",
     "text": [
      "[CV 4/5; 61/64] END colsample_bytree=0.8, max_depth=50, n_estimators=200, reg_alpha=1.3, reg_lambda=1.1, subsample=0.5; total time=   7.8s\n",
      "[CV 5/5; 61/64] START colsample_bytree=0.8, max_depth=50, n_estimators=200, reg_alpha=1.3, reg_lambda=1.1, subsample=0.5\n",
      "[11:39:29] WARNING: /Users/travis/build/dmlc/xgboost/src/learner.cc:1115: Starting in XGBoost 1.3.0, the default evaluation metric used with the objective 'binary:logistic' was changed from 'error' to 'logloss'. Explicitly set eval_metric if you'd like to restore the old behavior.\n",
      "[CV 5/5; 61/64] END colsample_bytree=0.8, max_depth=50, n_estimators=200, reg_alpha=1.3, reg_lambda=1.1, subsample=0.5; total time=   8.3s\n",
      "[CV 1/5; 62/64] START colsample_bytree=0.8, max_depth=50, n_estimators=200, reg_alpha=1.3, reg_lambda=1.1, subsample=0.9\n",
      "[11:39:37] WARNING: /Users/travis/build/dmlc/xgboost/src/learner.cc:1115: Starting in XGBoost 1.3.0, the default evaluation metric used with the objective 'binary:logistic' was changed from 'error' to 'logloss'. Explicitly set eval_metric if you'd like to restore the old behavior.\n",
      "[CV 1/5; 62/64] END colsample_bytree=0.8, max_depth=50, n_estimators=200, reg_alpha=1.3, reg_lambda=1.1, subsample=0.9; total time=  10.8s\n",
      "[CV 2/5; 62/64] START colsample_bytree=0.8, max_depth=50, n_estimators=200, reg_alpha=1.3, reg_lambda=1.1, subsample=0.9\n",
      "[11:39:48] WARNING: /Users/travis/build/dmlc/xgboost/src/learner.cc:1115: Starting in XGBoost 1.3.0, the default evaluation metric used with the objective 'binary:logistic' was changed from 'error' to 'logloss'. Explicitly set eval_metric if you'd like to restore the old behavior.\n",
      "[CV 2/5; 62/64] END colsample_bytree=0.8, max_depth=50, n_estimators=200, reg_alpha=1.3, reg_lambda=1.1, subsample=0.9; total time=   9.5s\n",
      "[CV 3/5; 62/64] START colsample_bytree=0.8, max_depth=50, n_estimators=200, reg_alpha=1.3, reg_lambda=1.1, subsample=0.9\n",
      "[11:39:57] WARNING: /Users/travis/build/dmlc/xgboost/src/learner.cc:1115: Starting in XGBoost 1.3.0, the default evaluation metric used with the objective 'binary:logistic' was changed from 'error' to 'logloss'. Explicitly set eval_metric if you'd like to restore the old behavior.\n",
      "[CV 3/5; 62/64] END colsample_bytree=0.8, max_depth=50, n_estimators=200, reg_alpha=1.3, reg_lambda=1.1, subsample=0.9; total time= 1.4min\n",
      "[CV 4/5; 62/64] START colsample_bytree=0.8, max_depth=50, n_estimators=200, reg_alpha=1.3, reg_lambda=1.1, subsample=0.9\n",
      "[11:41:25] WARNING: /Users/travis/build/dmlc/xgboost/src/learner.cc:1115: Starting in XGBoost 1.3.0, the default evaluation metric used with the objective 'binary:logistic' was changed from 'error' to 'logloss'. Explicitly set eval_metric if you'd like to restore the old behavior.\n",
      "[CV 4/5; 62/64] END colsample_bytree=0.8, max_depth=50, n_estimators=200, reg_alpha=1.3, reg_lambda=1.1, subsample=0.9; total time=  15.0s\n",
      "[CV 5/5; 62/64] START colsample_bytree=0.8, max_depth=50, n_estimators=200, reg_alpha=1.3, reg_lambda=1.1, subsample=0.9\n",
      "[11:41:38] WARNING: /Users/travis/build/dmlc/xgboost/src/learner.cc:1115: Starting in XGBoost 1.3.0, the default evaluation metric used with the objective 'binary:logistic' was changed from 'error' to 'logloss'. Explicitly set eval_metric if you'd like to restore the old behavior.\n",
      "[CV 5/5; 62/64] END colsample_bytree=0.8, max_depth=50, n_estimators=200, reg_alpha=1.3, reg_lambda=1.1, subsample=0.9; total time=  11.0s\n",
      "[CV 1/5; 63/64] START colsample_bytree=0.8, max_depth=50, n_estimators=200, reg_alpha=1.3, reg_lambda=1.3, subsample=0.5\n",
      "[11:41:49] WARNING: /Users/travis/build/dmlc/xgboost/src/learner.cc:1115: Starting in XGBoost 1.3.0, the default evaluation metric used with the objective 'binary:logistic' was changed from 'error' to 'logloss'. Explicitly set eval_metric if you'd like to restore the old behavior.\n",
      "[CV 1/5; 63/64] END colsample_bytree=0.8, max_depth=50, n_estimators=200, reg_alpha=1.3, reg_lambda=1.3, subsample=0.5; total time=   8.0s\n",
      "[CV 2/5; 63/64] START colsample_bytree=0.8, max_depth=50, n_estimators=200, reg_alpha=1.3, reg_lambda=1.3, subsample=0.5\n",
      "[11:41:57] WARNING: /Users/travis/build/dmlc/xgboost/src/learner.cc:1115: Starting in XGBoost 1.3.0, the default evaluation metric used with the objective 'binary:logistic' was changed from 'error' to 'logloss'. Explicitly set eval_metric if you'd like to restore the old behavior.\n",
      "[CV 2/5; 63/64] END colsample_bytree=0.8, max_depth=50, n_estimators=200, reg_alpha=1.3, reg_lambda=1.3, subsample=0.5; total time=   7.7s\n",
      "[CV 3/5; 63/64] START colsample_bytree=0.8, max_depth=50, n_estimators=200, reg_alpha=1.3, reg_lambda=1.3, subsample=0.5\n",
      "[11:42:05] WARNING: /Users/travis/build/dmlc/xgboost/src/learner.cc:1115: Starting in XGBoost 1.3.0, the default evaluation metric used with the objective 'binary:logistic' was changed from 'error' to 'logloss'. Explicitly set eval_metric if you'd like to restore the old behavior.\n",
      "[CV 3/5; 63/64] END colsample_bytree=0.8, max_depth=50, n_estimators=200, reg_alpha=1.3, reg_lambda=1.3, subsample=0.5; total time=22.2min\n",
      "[CV 4/5; 63/64] START colsample_bytree=0.8, max_depth=50, n_estimators=200, reg_alpha=1.3, reg_lambda=1.3, subsample=0.5\n",
      "[12:04:18] WARNING: /Users/travis/build/dmlc/xgboost/src/learner.cc:1115: Starting in XGBoost 1.3.0, the default evaluation metric used with the objective 'binary:logistic' was changed from 'error' to 'logloss'. Explicitly set eval_metric if you'd like to restore the old behavior.\n",
      "[CV 4/5; 63/64] END colsample_bytree=0.8, max_depth=50, n_estimators=200, reg_alpha=1.3, reg_lambda=1.3, subsample=0.5; total time=   8.2s\n",
      "[CV 5/5; 63/64] START colsample_bytree=0.8, max_depth=50, n_estimators=200, reg_alpha=1.3, reg_lambda=1.3, subsample=0.5\n",
      "[12:04:26] WARNING: /Users/travis/build/dmlc/xgboost/src/learner.cc:1115: Starting in XGBoost 1.3.0, the default evaluation metric used with the objective 'binary:logistic' was changed from 'error' to 'logloss'. Explicitly set eval_metric if you'd like to restore the old behavior.\n",
      "[CV 5/5; 63/64] END colsample_bytree=0.8, max_depth=50, n_estimators=200, reg_alpha=1.3, reg_lambda=1.3, subsample=0.5; total time=   7.6s\n",
      "[CV 1/5; 64/64] START colsample_bytree=0.8, max_depth=50, n_estimators=200, reg_alpha=1.3, reg_lambda=1.3, subsample=0.9\n",
      "[12:04:34] WARNING: /Users/travis/build/dmlc/xgboost/src/learner.cc:1115: Starting in XGBoost 1.3.0, the default evaluation metric used with the objective 'binary:logistic' was changed from 'error' to 'logloss'. Explicitly set eval_metric if you'd like to restore the old behavior.\n",
      "[CV 1/5; 64/64] END colsample_bytree=0.8, max_depth=50, n_estimators=200, reg_alpha=1.3, reg_lambda=1.3, subsample=0.9; total time=   9.8s\n",
      "[CV 2/5; 64/64] START colsample_bytree=0.8, max_depth=50, n_estimators=200, reg_alpha=1.3, reg_lambda=1.3, subsample=0.9\n",
      "[12:04:44] WARNING: /Users/travis/build/dmlc/xgboost/src/learner.cc:1115: Starting in XGBoost 1.3.0, the default evaluation metric used with the objective 'binary:logistic' was changed from 'error' to 'logloss'. Explicitly set eval_metric if you'd like to restore the old behavior.\n",
      "[CV 2/5; 64/64] END colsample_bytree=0.8, max_depth=50, n_estimators=200, reg_alpha=1.3, reg_lambda=1.3, subsample=0.9; total time=   9.5s\n",
      "[CV 3/5; 64/64] START colsample_bytree=0.8, max_depth=50, n_estimators=200, reg_alpha=1.3, reg_lambda=1.3, subsample=0.9\n",
      "[12:04:53] WARNING: /Users/travis/build/dmlc/xgboost/src/learner.cc:1115: Starting in XGBoost 1.3.0, the default evaluation metric used with the objective 'binary:logistic' was changed from 'error' to 'logloss'. Explicitly set eval_metric if you'd like to restore the old behavior.\n",
      "[CV 3/5; 64/64] END colsample_bytree=0.8, max_depth=50, n_estimators=200, reg_alpha=1.3, reg_lambda=1.3, subsample=0.9; total time=33.8min\n",
      "[CV 4/5; 64/64] START colsample_bytree=0.8, max_depth=50, n_estimators=200, reg_alpha=1.3, reg_lambda=1.3, subsample=0.9\n",
      "[12:38:39] WARNING: /Users/travis/build/dmlc/xgboost/src/learner.cc:1115: Starting in XGBoost 1.3.0, the default evaluation metric used with the objective 'binary:logistic' was changed from 'error' to 'logloss'. Explicitly set eval_metric if you'd like to restore the old behavior.\n",
      "[CV 4/5; 64/64] END colsample_bytree=0.8, max_depth=50, n_estimators=200, reg_alpha=1.3, reg_lambda=1.3, subsample=0.9; total time=  17.1s\n",
      "[CV 5/5; 64/64] START colsample_bytree=0.8, max_depth=50, n_estimators=200, reg_alpha=1.3, reg_lambda=1.3, subsample=0.9\n",
      "[12:38:56] WARNING: /Users/travis/build/dmlc/xgboost/src/learner.cc:1115: Starting in XGBoost 1.3.0, the default evaluation metric used with the objective 'binary:logistic' was changed from 'error' to 'logloss'. Explicitly set eval_metric if you'd like to restore the old behavior.\n"
     ]
    },
    {
     "name": "stdout",
     "output_type": "stream",
     "text": [
      "[CV 5/5; 64/64] END colsample_bytree=0.8, max_depth=50, n_estimators=200, reg_alpha=1.3, reg_lambda=1.3, subsample=0.9; total time=  12.7s\n",
      "[12:39:09] WARNING: /Users/travis/build/dmlc/xgboost/src/learner.cc:1115: Starting in XGBoost 1.3.0, the default evaluation metric used with the objective 'binary:logistic' was changed from 'error' to 'logloss'. Explicitly set eval_metric if you'd like to restore the old behavior.\n"
     ]
    }
   ],
   "source": [
    "from sklearn.model_selection import GridSearchCV\n",
    "param_grid = {\n",
    "    'n_estimators': [20, 200],\n",
    "    'colsample_bytree': [0.2, 0.8],\n",
    "    'max_depth': [10,50],\n",
    "    'reg_alpha': [1.1, 1.3],\n",
    "    'reg_lambda': [1.1, 1.3],\n",
    "    'subsample': [0.5, 0.9]\n",
    "}\n",
    "\n",
    "grid_XG = GridSearchCV(xgb.XGBClassifier(use_label_encoder=False), param_grid=param_grid, cv = 5, scoring='accuracy', verbose=10)\n",
    "XG_grid_results = grid_XG.fit(X_train,y_train)"
   ]
  },
  {
   "cell_type": "code",
   "execution_count": 76,
   "id": "2b527be0",
   "metadata": {},
   "outputs": [
    {
     "name": "stdout",
     "output_type": "stream",
     "text": [
      "              precision    recall  f1-score   support\n",
      "\n",
      "           0       0.88      0.87      0.87      3167\n",
      "           1       0.87      0.88      0.88      3193\n",
      "\n",
      "    accuracy                           0.87      6360\n",
      "   macro avg       0.87      0.87      0.87      6360\n",
      "weighted avg       0.87      0.87      0.87      6360\n",
      "\n"
     ]
    },
    {
     "data": {
      "image/png": "[encoded data removed]",
      "text/plain": [
       "<Figure size 432x288 with 2 Axes>"
      ]
     },
     "metadata": {},
     "output_type": "display_data"
    }
   ],
   "source": [
    "best_clf = grid_XG.best_estimator_\n",
    "y_pred = best_clf.predict(X_test)\n",
    "\n",
    "y_pred_labels = ids_to_names(y_pred)\n",
    "y_test_labels = ids_to_names(y_test)\n",
    "\n",
    "print(classification_report(y_test, y_pred))\n",
    "\n",
    "y_unique = [\"YES\",'NO']\n",
    "cm = confusion_matrix(y_test_labels, y_pred_labels, labels = y_unique, normalize='true')\n",
    "\n",
    "disp = ConfusionMatrixDisplay(confusion_matrix=cm, display_labels=y_unique)\n",
    "disp.plot()\n",
    "\n",
    "plt.tick_params(axis=u'both', which=u'both',length=0)\n",
    "plt.grid(False)\n",
    "plt.rcParams['ytick.left'] = True\n",
    "plt.rcParams['ytick.labelleft'] = True"
   ]
  },
  {
   "cell_type": "code",
   "execution_count": 72,
   "id": "f3866405",
   "metadata": {},
   "outputs": [
    {
     "name": "stdout",
     "output_type": "stream",
     "text": [
      "[11:24:55] WARNING: /Users/travis/build/dmlc/xgboost/src/learner.cc:1115: Starting in XGBoost 1.3.0, the default evaluation metric used with the objective 'binary:logistic' was changed from 'error' to 'logloss'. Explicitly set eval_metric if you'd like to restore the old behavior.\n",
      "              precision    recall  f1-score   support\n",
      "\n",
      "           0       0.88      0.87      0.87      3167\n",
      "           1       0.87      0.88      0.88      3193\n",
      "\n",
      "    accuracy                           0.88      6360\n",
      "   macro avg       0.88      0.87      0.87      6360\n",
      "weighted avg       0.88      0.88      0.87      6360\n",
      "\n"
     ]
    },
    {
     "ename": "NameError",
     "evalue": "name 'false' is not defined",
     "output_type": "error",
     "traceback": [
      "\u001b[0;31m---------------------------------------------------------------------------\u001b[0m",
      "\u001b[0;31mNameError\u001b[0m                                 Traceback (most recent call last)",
      "\u001b[0;32m<ipython-input-72-a23ffcd5bbd3>\u001b[0m in \u001b[0;36m<module>\u001b[0;34m\u001b[0m\n\u001b[1;32m     17\u001b[0m \u001b[0;34m\u001b[0m\u001b[0m\n\u001b[1;32m     18\u001b[0m \u001b[0mplt\u001b[0m\u001b[0;34m.\u001b[0m\u001b[0mtick_params\u001b[0m\u001b[0;34m(\u001b[0m\u001b[0maxis\u001b[0m\u001b[0;34m=\u001b[0m\u001b[0;34mu'both'\u001b[0m\u001b[0;34m,\u001b[0m \u001b[0mwhich\u001b[0m\u001b[0;34m=\u001b[0m\u001b[0;34mu'both'\u001b[0m\u001b[0;34m,\u001b[0m\u001b[0mlength\u001b[0m\u001b[0;34m=\u001b[0m\u001b[0;36m0\u001b[0m\u001b[0;34m)\u001b[0m\u001b[0;34m\u001b[0m\u001b[0;34m\u001b[0m\u001b[0m\n\u001b[0;32m---> 19\u001b[0;31m \u001b[0mplt\u001b[0m\u001b[0;34m.\u001b[0m\u001b[0mgrid\u001b[0m\u001b[0;34m(\u001b[0m\u001b[0mfalse\u001b[0m\u001b[0;34m)\u001b[0m\u001b[0;34m\u001b[0m\u001b[0;34m\u001b[0m\u001b[0m\n\u001b[0m\u001b[1;32m     20\u001b[0m \u001b[0mplt\u001b[0m\u001b[0;34m.\u001b[0m\u001b[0mrcParams\u001b[0m\u001b[0;34m[\u001b[0m\u001b[0;34m'ytick.left'\u001b[0m\u001b[0;34m]\u001b[0m \u001b[0;34m=\u001b[0m \u001b[0;32mTrue\u001b[0m\u001b[0;34m\u001b[0m\u001b[0;34m\u001b[0m\u001b[0m\n\u001b[1;32m     21\u001b[0m \u001b[0mplt\u001b[0m\u001b[0;34m.\u001b[0m\u001b[0mrcParams\u001b[0m\u001b[0;34m[\u001b[0m\u001b[0;34m'ytick.labelleft'\u001b[0m\u001b[0;34m]\u001b[0m \u001b[0;34m=\u001b[0m \u001b[0;32mTrue\u001b[0m\u001b[0;34m\u001b[0m\u001b[0;34m\u001b[0m\u001b[0m\n",
      "\u001b[0;31mNameError\u001b[0m: name 'false' is not defined"
     ]
    },
    {
     "data": {
      "image/png": "[encoded data removed]",
      "text/plain": [
       "<Figure size 432x288 with 2 Axes>"
      ]
     },
     "metadata": {},
     "output_type": "display_data"
    }
   ],
   "source": [
    "#print(grid_GX.best_params_)\n",
    "import xgboost as xgb\n",
    "XG = xgb.XGBClassifier(use_label_encoder=False, colsample_bytree=0.8, max_depth=50, n_estimators=100, reg_alpha=1.3, reg_lambda=1.1, subsample = 0.9)\n",
    "XG.fit(X_train, y_train)\n",
    "y_pred = XG.predict(X_test)\n",
    "\n",
    "y_pred_labels = ids_to_names(y_pred)\n",
    "y_test_labels = ids_to_names(y_test)\n",
    "\n",
    "print(classification_report(y_test, y_pred))\n",
    "\n",
    "y_unique = [\"YES\",'NO']\n",
    "cm = confusion_matrix(y_test_labels, y_pred_labels, labels = y_unique, normalize='true')\n",
    "\n",
    "disp = ConfusionMatrixDisplay(confusion_matrix=cm, display_labels=y_unique)\n",
    "disp.plot()\n",
    "\n",
    "plt.tick_params(axis=u'both', which=u'both',length=0)\n",
    "plt.grid(False)\n",
    "plt.rcParams['ytick.left'] = True\n",
    "plt.rcParams['ytick.labelleft'] = True"
   ]
  },
  {
   "cell_type": "code",
   "execution_count": 68,
   "id": "02ed68e5",
   "metadata": {},
   "outputs": [
    {
     "name": "stdout",
     "output_type": "stream",
     "text": [
      "0.9530646600141947\n"
     ]
    },
    {
     "data": {
      "image/png": "[encoded data removed]",
      "text/plain": [
       "<Figure size 432x288 with 1 Axes>"
      ]
     },
     "metadata": {},
     "output_type": "display_data"
    }
   ],
   "source": [
    "y_pred_proba = XG.predict_proba(X_test)[::,1]\n",
    "fpr, tpr, _ = metrics.roc_curve(y_test,  y_pred_proba)\n",
    "auc = metrics.roc_auc_score(y_test, y_pred_proba)\n",
    "print(auc)\n",
    "#create ROC curve\n",
    "plt.plot(fpr,tpr)\n",
    "x = np.linspace(0,1,100)\n",
    "y = x\n",
    "plt.plot(x, y, '--r', label='Random Guess')\n",
    "plt.ylabel('True Positive Rate')\n",
    "plt.xlabel('False Positive Rate')\n",
    "sns.despine()\n",
    "plt.show()"
   ]
  },
  {
   "cell_type": "code",
   "execution_count": 70,
   "id": "39f78a4c",
   "metadata": {},
   "outputs": [
    {
     "name": "stdout",
     "output_type": "stream",
     "text": [
      "[0.07431449 0.02984419 0.02647037 0.08708757 0.02182019 0.01324765\n",
      " 0.05605813 0.05179721 0.08447523 0.05823779 0.18733247 0.08628371\n",
      " 0.1207317  0.024733   0.02184261 0.01474996 0.01878116 0.02219253]\n",
      "18\n"
     ]
    },
    {
     "data": {
      "image/png": "[encoded data removed]",
      "text/plain": [
       "<Figure size 720x576 with 1 Axes>"
      ]
     },
     "metadata": {},
     "output_type": "display_data"
    }
   ],
   "source": [
    "sns.set_style(\"ticks\")\n",
    "\n",
    "feature_importance = XG.feature_importances_\n",
    "print(feature_importance)\n",
    "# make importances relative to max importance\n",
    "feature_importance = 100.0 * (feature_importance / feature_importance.max())\n",
    "sorted_idx = np.argsort(feature_importance)\n",
    "\n",
    "pos = np.arange(sorted_idx.shape[0])\n",
    "print(pos.size)\n",
    "sorted_idx.size\n",
    "\n",
    "plt.figure(figsize=(10,8))\n",
    "\n",
    "\n",
    "plt.rcParams['ytick.left'] = True\n",
    "plt.rcParams['ytick.labelleft'] = True\n",
    "plt.barh(pos, feature_importance[sorted_idx], align='center')\n",
    "plt.yticks(pos, X.columns[sorted_idx])\n",
    "plt.xlabel('Relative Importance')\n",
    "sns.despine(right = True, top = True)\n",
    "plt.grid(False)\n",
    "plt.show()"
   ]
  },
  {
   "cell_type": "code",
   "execution_count": null,
   "id": "02323157",
   "metadata": {},
   "outputs": [],
   "source": []
  }
 ],
 "metadata": {
  "kernelspec": {
   "display_name": "Python 3",
   "language": "python",
   "name": "python3"
  },
  "language_info": {
   "codemirror_mode": {
    "name": "ipython",
    "version": 3
   },
   "file_extension": ".py",
   "mimetype": "text/x-python",
   "name": "python",
   "nbconvert_exporter": "python",
   "pygments_lexer": "ipython3",
   "version": "3.8.8"
  }
 },
 "nbformat": 4,
 "nbformat_minor": 5
}
